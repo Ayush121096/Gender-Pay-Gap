{
 "cells": [
  {
   "cell_type": "code",
   "execution_count": 1,
   "metadata": {},
   "outputs": [],
   "source": [
    "import pandas as pd\n",
    "import numpy as np\n",
    "import matplotlib.pyplot as plt\n",
    "import plotly.express as px\n",
    "import plotly.io as pio\n",
    "import seaborn as sns"
   ]
  },
  {
   "cell_type": "code",
   "execution_count": 2,
   "metadata": {},
   "outputs": [],
   "source": [
    "df = pd.read_csv('Gender Pay Gap.csv')"
   ]
  },
  {
   "cell_type": "code",
   "execution_count": 3,
   "metadata": {},
   "outputs": [
    {
     "data": {
      "text/html": [
       "<div>\n",
       "<style scoped>\n",
       "    .dataframe tbody tr th:only-of-type {\n",
       "        vertical-align: middle;\n",
       "    }\n",
       "\n",
       "    .dataframe tbody tr th {\n",
       "        vertical-align: top;\n",
       "    }\n",
       "\n",
       "    .dataframe thead th {\n",
       "        text-align: right;\n",
       "    }\n",
       "</style>\n",
       "<table border=\"1\" class=\"dataframe\">\n",
       "  <thead>\n",
       "    <tr style=\"text-align: right;\">\n",
       "      <th></th>\n",
       "      <th>JobTitle</th>\n",
       "      <th>Gender</th>\n",
       "      <th>Age</th>\n",
       "      <th>PerfEval</th>\n",
       "      <th>Education</th>\n",
       "      <th>Dept</th>\n",
       "      <th>Seniority</th>\n",
       "      <th>BasePay</th>\n",
       "      <th>Bonus</th>\n",
       "    </tr>\n",
       "  </thead>\n",
       "  <tbody>\n",
       "    <tr>\n",
       "      <th>0</th>\n",
       "      <td>Graphic Designer</td>\n",
       "      <td>Female</td>\n",
       "      <td>18</td>\n",
       "      <td>5</td>\n",
       "      <td>College</td>\n",
       "      <td>Operations</td>\n",
       "      <td>2</td>\n",
       "      <td>42363</td>\n",
       "      <td>9938</td>\n",
       "    </tr>\n",
       "    <tr>\n",
       "      <th>1</th>\n",
       "      <td>Software Engineer</td>\n",
       "      <td>Male</td>\n",
       "      <td>21</td>\n",
       "      <td>5</td>\n",
       "      <td>College</td>\n",
       "      <td>Management</td>\n",
       "      <td>5</td>\n",
       "      <td>108476</td>\n",
       "      <td>11128</td>\n",
       "    </tr>\n",
       "    <tr>\n",
       "      <th>2</th>\n",
       "      <td>Warehouse Associate</td>\n",
       "      <td>Female</td>\n",
       "      <td>19</td>\n",
       "      <td>4</td>\n",
       "      <td>PhD</td>\n",
       "      <td>Administration</td>\n",
       "      <td>5</td>\n",
       "      <td>90208</td>\n",
       "      <td>9268</td>\n",
       "    </tr>\n",
       "    <tr>\n",
       "      <th>3</th>\n",
       "      <td>Software Engineer</td>\n",
       "      <td>Male</td>\n",
       "      <td>20</td>\n",
       "      <td>5</td>\n",
       "      <td>Masters</td>\n",
       "      <td>Sales</td>\n",
       "      <td>4</td>\n",
       "      <td>108080</td>\n",
       "      <td>10154</td>\n",
       "    </tr>\n",
       "    <tr>\n",
       "      <th>4</th>\n",
       "      <td>Graphic Designer</td>\n",
       "      <td>Male</td>\n",
       "      <td>26</td>\n",
       "      <td>5</td>\n",
       "      <td>Masters</td>\n",
       "      <td>Engineering</td>\n",
       "      <td>5</td>\n",
       "      <td>99464</td>\n",
       "      <td>9319</td>\n",
       "    </tr>\n",
       "    <tr>\n",
       "      <th>...</th>\n",
       "      <td>...</td>\n",
       "      <td>...</td>\n",
       "      <td>...</td>\n",
       "      <td>...</td>\n",
       "      <td>...</td>\n",
       "      <td>...</td>\n",
       "      <td>...</td>\n",
       "      <td>...</td>\n",
       "      <td>...</td>\n",
       "    </tr>\n",
       "    <tr>\n",
       "      <th>995</th>\n",
       "      <td>Marketing Associate</td>\n",
       "      <td>Female</td>\n",
       "      <td>61</td>\n",
       "      <td>1</td>\n",
       "      <td>High School</td>\n",
       "      <td>Administration</td>\n",
       "      <td>1</td>\n",
       "      <td>62644</td>\n",
       "      <td>3270</td>\n",
       "    </tr>\n",
       "    <tr>\n",
       "      <th>996</th>\n",
       "      <td>Data Scientist</td>\n",
       "      <td>Male</td>\n",
       "      <td>57</td>\n",
       "      <td>1</td>\n",
       "      <td>Masters</td>\n",
       "      <td>Sales</td>\n",
       "      <td>2</td>\n",
       "      <td>108977</td>\n",
       "      <td>3567</td>\n",
       "    </tr>\n",
       "    <tr>\n",
       "      <th>997</th>\n",
       "      <td>Financial Analyst</td>\n",
       "      <td>Male</td>\n",
       "      <td>48</td>\n",
       "      <td>1</td>\n",
       "      <td>High School</td>\n",
       "      <td>Operations</td>\n",
       "      <td>1</td>\n",
       "      <td>92347</td>\n",
       "      <td>2724</td>\n",
       "    </tr>\n",
       "    <tr>\n",
       "      <th>998</th>\n",
       "      <td>Financial Analyst</td>\n",
       "      <td>Male</td>\n",
       "      <td>65</td>\n",
       "      <td>2</td>\n",
       "      <td>High School</td>\n",
       "      <td>Administration</td>\n",
       "      <td>1</td>\n",
       "      <td>97376</td>\n",
       "      <td>2225</td>\n",
       "    </tr>\n",
       "    <tr>\n",
       "      <th>999</th>\n",
       "      <td>Financial Analyst</td>\n",
       "      <td>Male</td>\n",
       "      <td>60</td>\n",
       "      <td>1</td>\n",
       "      <td>PhD</td>\n",
       "      <td>Sales</td>\n",
       "      <td>2</td>\n",
       "      <td>123108</td>\n",
       "      <td>2244</td>\n",
       "    </tr>\n",
       "  </tbody>\n",
       "</table>\n",
       "<p>1000 rows × 9 columns</p>\n",
       "</div>"
      ],
      "text/plain": [
       "                JobTitle  Gender  Age  PerfEval    Education            Dept  \\\n",
       "0       Graphic Designer  Female   18         5      College      Operations   \n",
       "1      Software Engineer    Male   21         5      College      Management   \n",
       "2    Warehouse Associate  Female   19         4          PhD  Administration   \n",
       "3      Software Engineer    Male   20         5      Masters           Sales   \n",
       "4       Graphic Designer    Male   26         5      Masters     Engineering   \n",
       "..                   ...     ...  ...       ...          ...             ...   \n",
       "995  Marketing Associate  Female   61         1  High School  Administration   \n",
       "996       Data Scientist    Male   57         1      Masters           Sales   \n",
       "997    Financial Analyst    Male   48         1  High School      Operations   \n",
       "998    Financial Analyst    Male   65         2  High School  Administration   \n",
       "999    Financial Analyst    Male   60         1          PhD           Sales   \n",
       "\n",
       "     Seniority  BasePay  Bonus  \n",
       "0            2    42363   9938  \n",
       "1            5   108476  11128  \n",
       "2            5    90208   9268  \n",
       "3            4   108080  10154  \n",
       "4            5    99464   9319  \n",
       "..         ...      ...    ...  \n",
       "995          1    62644   3270  \n",
       "996          2   108977   3567  \n",
       "997          1    92347   2724  \n",
       "998          1    97376   2225  \n",
       "999          2   123108   2244  \n",
       "\n",
       "[1000 rows x 9 columns]"
      ]
     },
     "execution_count": 3,
     "metadata": {},
     "output_type": "execute_result"
    }
   ],
   "source": [
    "df"
   ]
  },
  {
   "cell_type": "code",
   "execution_count": 4,
   "metadata": {},
   "outputs": [
    {
     "data": {
      "text/html": [
       "<div>\n",
       "<style scoped>\n",
       "    .dataframe tbody tr th:only-of-type {\n",
       "        vertical-align: middle;\n",
       "    }\n",
       "\n",
       "    .dataframe tbody tr th {\n",
       "        vertical-align: top;\n",
       "    }\n",
       "\n",
       "    .dataframe thead th {\n",
       "        text-align: right;\n",
       "    }\n",
       "</style>\n",
       "<table border=\"1\" class=\"dataframe\">\n",
       "  <thead>\n",
       "    <tr style=\"text-align: right;\">\n",
       "      <th></th>\n",
       "      <th>Age</th>\n",
       "      <th>PerfEval</th>\n",
       "      <th>Seniority</th>\n",
       "      <th>BasePay</th>\n",
       "      <th>Bonus</th>\n",
       "    </tr>\n",
       "  </thead>\n",
       "  <tbody>\n",
       "    <tr>\n",
       "      <th>count</th>\n",
       "      <td>1000.000000</td>\n",
       "      <td>1000.000000</td>\n",
       "      <td>1000.000000</td>\n",
       "      <td>1000.000000</td>\n",
       "      <td>1000.000000</td>\n",
       "    </tr>\n",
       "    <tr>\n",
       "      <th>mean</th>\n",
       "      <td>41.393000</td>\n",
       "      <td>3.037000</td>\n",
       "      <td>2.971000</td>\n",
       "      <td>94472.653000</td>\n",
       "      <td>6467.161000</td>\n",
       "    </tr>\n",
       "    <tr>\n",
       "      <th>std</th>\n",
       "      <td>14.294856</td>\n",
       "      <td>1.423959</td>\n",
       "      <td>1.395029</td>\n",
       "      <td>25337.493272</td>\n",
       "      <td>2004.377365</td>\n",
       "    </tr>\n",
       "    <tr>\n",
       "      <th>min</th>\n",
       "      <td>18.000000</td>\n",
       "      <td>1.000000</td>\n",
       "      <td>1.000000</td>\n",
       "      <td>34208.000000</td>\n",
       "      <td>1703.000000</td>\n",
       "    </tr>\n",
       "    <tr>\n",
       "      <th>25%</th>\n",
       "      <td>29.000000</td>\n",
       "      <td>2.000000</td>\n",
       "      <td>2.000000</td>\n",
       "      <td>76850.250000</td>\n",
       "      <td>4849.500000</td>\n",
       "    </tr>\n",
       "    <tr>\n",
       "      <th>50%</th>\n",
       "      <td>41.000000</td>\n",
       "      <td>3.000000</td>\n",
       "      <td>3.000000</td>\n",
       "      <td>93327.500000</td>\n",
       "      <td>6507.000000</td>\n",
       "    </tr>\n",
       "    <tr>\n",
       "      <th>75%</th>\n",
       "      <td>54.250000</td>\n",
       "      <td>4.000000</td>\n",
       "      <td>4.000000</td>\n",
       "      <td>111558.000000</td>\n",
       "      <td>8026.000000</td>\n",
       "    </tr>\n",
       "    <tr>\n",
       "      <th>max</th>\n",
       "      <td>65.000000</td>\n",
       "      <td>5.000000</td>\n",
       "      <td>5.000000</td>\n",
       "      <td>179726.000000</td>\n",
       "      <td>11293.000000</td>\n",
       "    </tr>\n",
       "  </tbody>\n",
       "</table>\n",
       "</div>"
      ],
      "text/plain": [
       "               Age     PerfEval    Seniority        BasePay         Bonus\n",
       "count  1000.000000  1000.000000  1000.000000    1000.000000   1000.000000\n",
       "mean     41.393000     3.037000     2.971000   94472.653000   6467.161000\n",
       "std      14.294856     1.423959     1.395029   25337.493272   2004.377365\n",
       "min      18.000000     1.000000     1.000000   34208.000000   1703.000000\n",
       "25%      29.000000     2.000000     2.000000   76850.250000   4849.500000\n",
       "50%      41.000000     3.000000     3.000000   93327.500000   6507.000000\n",
       "75%      54.250000     4.000000     4.000000  111558.000000   8026.000000\n",
       "max      65.000000     5.000000     5.000000  179726.000000  11293.000000"
      ]
     },
     "execution_count": 4,
     "metadata": {},
     "output_type": "execute_result"
    }
   ],
   "source": [
    "df.describe()"
   ]
  },
  {
   "cell_type": "code",
   "execution_count": 5,
   "metadata": {},
   "outputs": [
    {
     "name": "stdout",
     "output_type": "stream",
     "text": [
      "<class 'pandas.core.frame.DataFrame'>\n",
      "RangeIndex: 1000 entries, 0 to 999\n",
      "Data columns (total 9 columns):\n",
      " #   Column     Non-Null Count  Dtype \n",
      "---  ------     --------------  ----- \n",
      " 0   JobTitle   1000 non-null   object\n",
      " 1   Gender     1000 non-null   object\n",
      " 2   Age        1000 non-null   int64 \n",
      " 3   PerfEval   1000 non-null   int64 \n",
      " 4   Education  1000 non-null   object\n",
      " 5   Dept       1000 non-null   object\n",
      " 6   Seniority  1000 non-null   int64 \n",
      " 7   BasePay    1000 non-null   int64 \n",
      " 8   Bonus      1000 non-null   int64 \n",
      "dtypes: int64(5), object(4)\n",
      "memory usage: 70.4+ KB\n"
     ]
    }
   ],
   "source": [
    "df.info()"
   ]
  },
  {
   "cell_type": "code",
   "execution_count": 6,
   "metadata": {},
   "outputs": [
    {
     "data": {
      "text/plain": [
       "0"
      ]
     },
     "execution_count": 6,
     "metadata": {},
     "output_type": "execute_result"
    }
   ],
   "source": [
    "df.duplicated().sum()# to check the no of duplicate values "
   ]
  },
  {
   "cell_type": "code",
   "execution_count": 7,
   "metadata": {},
   "outputs": [
    {
     "data": {
      "text/html": [
       "<div>\n",
       "<style scoped>\n",
       "    .dataframe tbody tr th:only-of-type {\n",
       "        vertical-align: middle;\n",
       "    }\n",
       "\n",
       "    .dataframe tbody tr th {\n",
       "        vertical-align: top;\n",
       "    }\n",
       "\n",
       "    .dataframe thead th {\n",
       "        text-align: right;\n",
       "    }\n",
       "</style>\n",
       "<table border=\"1\" class=\"dataframe\">\n",
       "  <thead>\n",
       "    <tr style=\"text-align: right;\">\n",
       "      <th></th>\n",
       "      <th>JobTitle</th>\n",
       "      <th>Gender</th>\n",
       "      <th>Age</th>\n",
       "      <th>PerfEval</th>\n",
       "      <th>Education</th>\n",
       "      <th>Dept</th>\n",
       "      <th>Seniority</th>\n",
       "      <th>BasePay</th>\n",
       "      <th>Bonus</th>\n",
       "    </tr>\n",
       "  </thead>\n",
       "  <tbody>\n",
       "    <tr>\n",
       "      <th>0</th>\n",
       "      <td>Graphic Designer</td>\n",
       "      <td>Female</td>\n",
       "      <td>18</td>\n",
       "      <td>5</td>\n",
       "      <td>College</td>\n",
       "      <td>Operations</td>\n",
       "      <td>2</td>\n",
       "      <td>42363</td>\n",
       "      <td>9938</td>\n",
       "    </tr>\n",
       "    <tr>\n",
       "      <th>1</th>\n",
       "      <td>Software Engineer</td>\n",
       "      <td>Male</td>\n",
       "      <td>21</td>\n",
       "      <td>5</td>\n",
       "      <td>College</td>\n",
       "      <td>Management</td>\n",
       "      <td>5</td>\n",
       "      <td>108476</td>\n",
       "      <td>11128</td>\n",
       "    </tr>\n",
       "    <tr>\n",
       "      <th>2</th>\n",
       "      <td>Warehouse Associate</td>\n",
       "      <td>Female</td>\n",
       "      <td>19</td>\n",
       "      <td>4</td>\n",
       "      <td>PhD</td>\n",
       "      <td>Administration</td>\n",
       "      <td>5</td>\n",
       "      <td>90208</td>\n",
       "      <td>9268</td>\n",
       "    </tr>\n",
       "    <tr>\n",
       "      <th>3</th>\n",
       "      <td>Software Engineer</td>\n",
       "      <td>Male</td>\n",
       "      <td>20</td>\n",
       "      <td>5</td>\n",
       "      <td>Masters</td>\n",
       "      <td>Sales</td>\n",
       "      <td>4</td>\n",
       "      <td>108080</td>\n",
       "      <td>10154</td>\n",
       "    </tr>\n",
       "    <tr>\n",
       "      <th>4</th>\n",
       "      <td>Graphic Designer</td>\n",
       "      <td>Male</td>\n",
       "      <td>26</td>\n",
       "      <td>5</td>\n",
       "      <td>Masters</td>\n",
       "      <td>Engineering</td>\n",
       "      <td>5</td>\n",
       "      <td>99464</td>\n",
       "      <td>9319</td>\n",
       "    </tr>\n",
       "  </tbody>\n",
       "</table>\n",
       "</div>"
      ],
      "text/plain": [
       "              JobTitle  Gender  Age  PerfEval Education            Dept  \\\n",
       "0     Graphic Designer  Female   18         5   College      Operations   \n",
       "1    Software Engineer    Male   21         5   College      Management   \n",
       "2  Warehouse Associate  Female   19         4       PhD  Administration   \n",
       "3    Software Engineer    Male   20         5   Masters           Sales   \n",
       "4     Graphic Designer    Male   26         5   Masters     Engineering   \n",
       "\n",
       "   Seniority  BasePay  Bonus  \n",
       "0          2    42363   9938  \n",
       "1          5   108476  11128  \n",
       "2          5    90208   9268  \n",
       "3          4   108080  10154  \n",
       "4          5    99464   9319  "
      ]
     },
     "execution_count": 7,
     "metadata": {},
     "output_type": "execute_result"
    }
   ],
   "source": [
    "df.head()"
   ]
  },
  {
   "cell_type": "code",
   "execution_count": 8,
   "metadata": {},
   "outputs": [
    {
     "data": {
      "text/plain": [
       "(1000, 9)"
      ]
     },
     "execution_count": 8,
     "metadata": {},
     "output_type": "execute_result"
    }
   ],
   "source": [
    "df.shape"
   ]
  },
  {
   "cell_type": "markdown",
   "metadata": {},
   "source": [
    "# Create a Bar plot"
   ]
  },
  {
   "cell_type": "code",
   "execution_count": 9,
   "metadata": {},
   "outputs": [
    {
     "data": {
      "text/plain": [
       "array(['Graphic Designer', 'Software Engineer', 'Warehouse Associate',\n",
       "       'IT', 'Sales Associate', 'Driver', 'Financial Analyst',\n",
       "       'Marketing Associate', 'Data Scientist', 'Manager'], dtype=object)"
      ]
     },
     "execution_count": 9,
     "metadata": {},
     "output_type": "execute_result"
    }
   ],
   "source": [
    "df['JobTitle'].unique()"
   ]
  },
  {
   "cell_type": "code",
   "execution_count": 10,
   "metadata": {},
   "outputs": [],
   "source": [
    "f1  = df['JobTitle'] == 'IT' # boolean filter\n",
    "f2  = df['JobTitle'] == 'Graphic Designer' # boolean filter\n",
    "f3  = df['JobTitle'] == 'Data Scientist' # boolean filter\n",
    "df2=df[f1 | f2 | f3]"
   ]
  },
  {
   "cell_type": "code",
   "execution_count": 11,
   "metadata": {},
   "outputs": [
    {
     "data": {
      "image/png": "[encoded data removed]",
      "text/plain": [
       "<Figure size 432x288 with 1 Axes>"
      ]
     },
     "metadata": {},
     "output_type": "display_data"
    }
   ],
   "source": [
    "sns.set(style=\"dark\")\n",
    "plt.figure(facecolor='grey')\n",
    "sns.barplot(x=\"JobTitle\", y = \"BasePay\", data=df2, hue='Gender')\n",
    "plt.xticks(rotation=90)\n",
    "plt.show()"
   ]
  },
  {
   "cell_type": "markdown",
   "metadata": {},
   "source": []
  },
  {
   "cell_type": "markdown",
   "metadata": {},
   "source": [
    "\n",
    "Here with the help of this graph we can understand the analysis in between some top job area with respect of their BasePay"
   ]
  },
  {
   "cell_type": "code",
   "execution_count": 12,
   "metadata": {},
   "outputs": [],
   "source": [
    "# using conditions\n",
    "g1 = df['JobTitle'] =='IT'\n",
    "g2 = df['Age'] >=25\n",
    "df3=df[g1 & g2]"
   ]
  },
  {
   "cell_type": "code",
   "execution_count": 13,
   "metadata": {},
   "outputs": [
    {
     "data": {
      "text/html": [
       "<div>\n",
       "<style scoped>\n",
       "    .dataframe tbody tr th:only-of-type {\n",
       "        vertical-align: middle;\n",
       "    }\n",
       "\n",
       "    .dataframe tbody tr th {\n",
       "        vertical-align: top;\n",
       "    }\n",
       "\n",
       "    .dataframe thead th {\n",
       "        text-align: right;\n",
       "    }\n",
       "</style>\n",
       "<table border=\"1\" class=\"dataframe\">\n",
       "  <thead>\n",
       "    <tr style=\"text-align: right;\">\n",
       "      <th></th>\n",
       "      <th>JobTitle</th>\n",
       "      <th>Gender</th>\n",
       "      <th>Age</th>\n",
       "      <th>PerfEval</th>\n",
       "      <th>Education</th>\n",
       "      <th>Dept</th>\n",
       "      <th>Seniority</th>\n",
       "      <th>BasePay</th>\n",
       "      <th>Bonus</th>\n",
       "    </tr>\n",
       "  </thead>\n",
       "  <tbody>\n",
       "    <tr>\n",
       "      <th>29</th>\n",
       "      <td>IT</td>\n",
       "      <td>Female</td>\n",
       "      <td>38</td>\n",
       "      <td>5</td>\n",
       "      <td>College</td>\n",
       "      <td>Administration</td>\n",
       "      <td>5</td>\n",
       "      <td>112392</td>\n",
       "      <td>10504</td>\n",
       "    </tr>\n",
       "    <tr>\n",
       "      <th>38</th>\n",
       "      <td>IT</td>\n",
       "      <td>Female</td>\n",
       "      <td>33</td>\n",
       "      <td>5</td>\n",
       "      <td>College</td>\n",
       "      <td>Management</td>\n",
       "      <td>4</td>\n",
       "      <td>84638</td>\n",
       "      <td>9409</td>\n",
       "    </tr>\n",
       "    <tr>\n",
       "      <th>86</th>\n",
       "      <td>IT</td>\n",
       "      <td>Female</td>\n",
       "      <td>48</td>\n",
       "      <td>5</td>\n",
       "      <td>PhD</td>\n",
       "      <td>Operations</td>\n",
       "      <td>3</td>\n",
       "      <td>88152</td>\n",
       "      <td>8857</td>\n",
       "    </tr>\n",
       "    <tr>\n",
       "      <th>99</th>\n",
       "      <td>IT</td>\n",
       "      <td>Male</td>\n",
       "      <td>55</td>\n",
       "      <td>5</td>\n",
       "      <td>College</td>\n",
       "      <td>Management</td>\n",
       "      <td>5</td>\n",
       "      <td>127769</td>\n",
       "      <td>8802</td>\n",
       "    </tr>\n",
       "    <tr>\n",
       "      <th>125</th>\n",
       "      <td>IT</td>\n",
       "      <td>Female</td>\n",
       "      <td>26</td>\n",
       "      <td>5</td>\n",
       "      <td>College</td>\n",
       "      <td>Administration</td>\n",
       "      <td>2</td>\n",
       "      <td>53956</td>\n",
       "      <td>9454</td>\n",
       "    </tr>\n",
       "    <tr>\n",
       "      <th>...</th>\n",
       "      <td>...</td>\n",
       "      <td>...</td>\n",
       "      <td>...</td>\n",
       "      <td>...</td>\n",
       "      <td>...</td>\n",
       "      <td>...</td>\n",
       "      <td>...</td>\n",
       "      <td>...</td>\n",
       "      <td>...</td>\n",
       "    </tr>\n",
       "    <tr>\n",
       "      <th>963</th>\n",
       "      <td>IT</td>\n",
       "      <td>Male</td>\n",
       "      <td>55</td>\n",
       "      <td>2</td>\n",
       "      <td>Masters</td>\n",
       "      <td>Operations</td>\n",
       "      <td>1</td>\n",
       "      <td>91447</td>\n",
       "      <td>3196</td>\n",
       "    </tr>\n",
       "    <tr>\n",
       "      <th>978</th>\n",
       "      <td>IT</td>\n",
       "      <td>Female</td>\n",
       "      <td>59</td>\n",
       "      <td>1</td>\n",
       "      <td>College</td>\n",
       "      <td>Sales</td>\n",
       "      <td>3</td>\n",
       "      <td>110627</td>\n",
       "      <td>2041</td>\n",
       "    </tr>\n",
       "    <tr>\n",
       "      <th>980</th>\n",
       "      <td>IT</td>\n",
       "      <td>Male</td>\n",
       "      <td>64</td>\n",
       "      <td>1</td>\n",
       "      <td>Masters</td>\n",
       "      <td>Sales</td>\n",
       "      <td>1</td>\n",
       "      <td>92950</td>\n",
       "      <td>2125</td>\n",
       "    </tr>\n",
       "    <tr>\n",
       "      <th>984</th>\n",
       "      <td>IT</td>\n",
       "      <td>Female</td>\n",
       "      <td>53</td>\n",
       "      <td>1</td>\n",
       "      <td>High School</td>\n",
       "      <td>Administration</td>\n",
       "      <td>2</td>\n",
       "      <td>112169</td>\n",
       "      <td>2763</td>\n",
       "    </tr>\n",
       "    <tr>\n",
       "      <th>991</th>\n",
       "      <td>IT</td>\n",
       "      <td>Female</td>\n",
       "      <td>65</td>\n",
       "      <td>1</td>\n",
       "      <td>Masters</td>\n",
       "      <td>Administration</td>\n",
       "      <td>1</td>\n",
       "      <td>106945</td>\n",
       "      <td>2041</td>\n",
       "    </tr>\n",
       "  </tbody>\n",
       "</table>\n",
       "<p>84 rows × 9 columns</p>\n",
       "</div>"
      ],
      "text/plain": [
       "    JobTitle  Gender  Age  PerfEval    Education            Dept  Seniority  \\\n",
       "29        IT  Female   38         5      College  Administration          5   \n",
       "38        IT  Female   33         5      College      Management          4   \n",
       "86        IT  Female   48         5          PhD      Operations          3   \n",
       "99        IT    Male   55         5      College      Management          5   \n",
       "125       IT  Female   26         5      College  Administration          2   \n",
       "..       ...     ...  ...       ...          ...             ...        ...   \n",
       "963       IT    Male   55         2      Masters      Operations          1   \n",
       "978       IT  Female   59         1      College           Sales          3   \n",
       "980       IT    Male   64         1      Masters           Sales          1   \n",
       "984       IT  Female   53         1  High School  Administration          2   \n",
       "991       IT  Female   65         1      Masters  Administration          1   \n",
       "\n",
       "     BasePay  Bonus  \n",
       "29    112392  10504  \n",
       "38     84638   9409  \n",
       "86     88152   8857  \n",
       "99    127769   8802  \n",
       "125    53956   9454  \n",
       "..       ...    ...  \n",
       "963    91447   3196  \n",
       "978   110627   2041  \n",
       "980    92950   2125  \n",
       "984   112169   2763  \n",
       "991   106945   2041  \n",
       "\n",
       "[84 rows x 9 columns]"
      ]
     },
     "execution_count": 13,
     "metadata": {},
     "output_type": "execute_result"
    }
   ],
   "source": [
    "df3"
   ]
  },
  {
   "cell_type": "code",
   "execution_count": 14,
   "metadata": {},
   "outputs": [
    {
     "data": {
      "text/plain": [
       "count    1000.000000\n",
       "mean       41.393000\n",
       "std        14.294856\n",
       "min        18.000000\n",
       "25%        29.000000\n",
       "50%        41.000000\n",
       "75%        54.250000\n",
       "max        65.000000\n",
       "Name: Age, dtype: float64"
      ]
     },
     "execution_count": 14,
     "metadata": {},
     "output_type": "execute_result"
    }
   ],
   "source": [
    "df['Age'].describe()"
   ]
  },
  {
   "cell_type": "code",
   "execution_count": 15,
   "metadata": {},
   "outputs": [
    {
     "data": {
      "image/png": "[encoded data removed]",
      "text/plain": [
       "<Figure size 432x288 with 1 Axes>"
      ]
     },
     "metadata": {},
     "output_type": "display_data"
    }
   ],
   "source": [
    "sns.set(style=\"dark\")\n",
    "plt.figure(facecolor='grey')\n",
    "sns.barplot(x=\"JobTitle\", y = \"BasePay\", data=df3, hue='Gender',palette='copper_r')\n",
    "plt.xticks(rotation=90)\n",
    "plt.show()"
   ]
  },
  {
   "cell_type": "markdown",
   "metadata": {},
   "source": [
    "Here In this figure we used condition that is Jobtitle 'IT' and Age '>25'"
   ]
  },
  {
   "cell_type": "markdown",
   "metadata": {},
   "source": [
    "# Pie & Bar Plot"
   ]
  },
  {
   "cell_type": "code",
   "execution_count": 16,
   "metadata": {},
   "outputs": [
    {
     "data": {
      "application/vnd.plotly.v1+json": {
       "config": {
        "plotlyServerURL": "https://plot.ly"
       },
       "data": [
        {
         "alignmentgroup": "True",
         "bingroup": "x",
         "hovertemplate": "Gender=Female<br>JobTitle=%{x}<br>count=%{y}<extra></extra>",
         "legendgroup": "Female",
         "marker": {
          "color": "Yellow",
          "pattern": {
           "shape": ""
          }
         },
         "name": "Female",
         "offsetgroup": "Female",
         "orientation": "v",
         "showlegend": true,
         "type": "histogram",
         "x": [
          "Graphic Designer",
          "Warehouse Associate",
          "IT",
          "Graphic Designer",
          "Graphic Designer",
          "Sales Associate",
          "Driver",
          "Financial Analyst",
          "Warehouse Associate",
          "Warehouse Associate",
          "Marketing Associate",
          "Financial Analyst",
          "Warehouse Associate",
          "Data Scientist",
          "Driver",
          "Graphic Designer",
          "IT",
          "Marketing Associate",
          "Data Scientist",
          "Data Scientist",
          "IT",
          "Data Scientist",
          "Graphic Designer",
          "IT",
          "Marketing Associate",
          "Data Scientist",
          "Software Engineer",
          "Data Scientist",
          "Driver",
          "Data Scientist",
          "Marketing Associate",
          "Warehouse Associate",
          "Sales Associate",
          "Warehouse Associate",
          "Sales Associate",
          "Warehouse Associate",
          "Financial Analyst",
          "Marketing Associate",
          "Warehouse Associate",
          "Marketing Associate",
          "Warehouse Associate",
          "Warehouse Associate",
          "Data Scientist",
          "IT",
          "Data Scientist",
          "Financial Analyst",
          "Marketing Associate",
          "Driver",
          "Financial Analyst",
          "Graphic Designer",
          "Marketing Associate",
          "Warehouse Associate",
          "Financial Analyst",
          "Financial Analyst",
          "Warehouse Associate",
          "Financial Analyst",
          "Marketing Associate",
          "Warehouse Associate",
          "Marketing Associate",
          "Sales Associate",
          "Financial Analyst",
          "Driver",
          "Marketing Associate",
          "Graphic Designer",
          "Driver",
          "Marketing Associate",
          "IT",
          "IT",
          "Financial Analyst",
          "Marketing Associate",
          "Driver",
          "Manager",
          "Marketing Associate",
          "Warehouse Associate",
          "Financial Analyst",
          "Software Engineer",
          "Warehouse Associate",
          "Driver",
          "Warehouse Associate",
          "Graphic Designer",
          "Data Scientist",
          "Warehouse Associate",
          "Data Scientist",
          "Sales Associate",
          "Graphic Designer",
          "Warehouse Associate",
          "Marketing Associate",
          "Marketing Associate",
          "Marketing Associate",
          "IT",
          "IT",
          "IT",
          "Driver",
          "Warehouse Associate",
          "IT",
          "Marketing Associate",
          "Marketing Associate",
          "Marketing Associate",
          "Financial Analyst",
          "Sales Associate",
          "Driver",
          "Graphic Designer",
          "Data Scientist",
          "Warehouse Associate",
          "Graphic Designer",
          "Marketing Associate",
          "Graphic Designer",
          "Financial Analyst",
          "Data Scientist",
          "Data Scientist",
          "Marketing Associate",
          "Warehouse Associate",
          "Driver",
          "Financial Analyst",
          "IT",
          "Marketing Associate",
          "Graphic Designer",
          "Software Engineer",
          "Driver",
          "Sales Associate",
          "Graphic Designer",
          "Marketing Associate",
          "Data Scientist",
          "Financial Analyst",
          "IT",
          "Warehouse Associate",
          "Sales Associate",
          "Warehouse Associate",
          "Data Scientist",
          "Warehouse Associate",
          "Data Scientist",
          "Graphic Designer",
          "IT",
          "Sales Associate",
          "Financial Analyst",
          "Warehouse Associate",
          "IT",
          "IT",
          "Graphic Designer",
          "Driver",
          "Sales Associate",
          "Driver",
          "Marketing Associate",
          "Graphic Designer",
          "Manager",
          "Warehouse Associate",
          "Marketing Associate",
          "Financial Analyst",
          "Manager",
          "Driver",
          "Warehouse Associate",
          "Sales Associate",
          "Data Scientist",
          "Driver",
          "Warehouse Associate",
          "Marketing Associate",
          "Graphic Designer",
          "Sales Associate",
          "Manager",
          "Data Scientist",
          "Warehouse Associate",
          "Graphic Designer",
          "Financial Analyst",
          "Marketing Associate",
          "Driver",
          "Sales Associate",
          "Driver",
          "Software Engineer",
          "Graphic Designer",
          "Software Engineer",
          "Marketing Associate",
          "Driver",
          "Data Scientist",
          "Manager",
          "Sales Associate",
          "Marketing Associate",
          "Financial Analyst",
          "Driver",
          "Data Scientist",
          "Driver",
          "Driver",
          "Marketing Associate",
          "Marketing Associate",
          "Marketing Associate",
          "Marketing Associate",
          "Marketing Associate",
          "Marketing Associate",
          "Warehouse Associate",
          "Data Scientist",
          "Marketing Associate",
          "Warehouse Associate",
          "Sales Associate",
          "Warehouse Associate",
          "Marketing Associate",
          "Marketing Associate",
          "IT",
          "Graphic Designer",
          "Data Scientist",
          "IT",
          "Marketing Associate",
          "Financial Analyst",
          "IT",
          "Marketing Associate",
          "Warehouse Associate",
          "Financial Analyst",
          "Marketing Associate",
          "Marketing Associate",
          "Driver",
          "Graphic Designer",
          "Sales Associate",
          "Driver",
          "Manager",
          "Marketing Associate",
          "Sales Associate",
          "Marketing Associate",
          "Warehouse Associate",
          "Graphic Designer",
          "Sales Associate",
          "Data Scientist",
          "Data Scientist",
          "Marketing Associate",
          "Data Scientist",
          "Marketing Associate",
          "IT",
          "Manager",
          "Financial Analyst",
          "Sales Associate",
          "Sales Associate",
          "Financial Analyst",
          "Marketing Associate",
          "Warehouse Associate",
          "Driver",
          "Driver",
          "IT",
          "Marketing Associate",
          "Graphic Designer",
          "Financial Analyst",
          "Driver",
          "Warehouse Associate",
          "Financial Analyst",
          "Sales Associate",
          "Graphic Designer",
          "IT",
          "Data Scientist",
          "Manager",
          "Marketing Associate",
          "Driver",
          "Driver",
          "Manager",
          "Graphic Designer",
          "Data Scientist",
          "Data Scientist",
          "Sales Associate",
          "Sales Associate",
          "IT",
          "IT",
          "Data Scientist",
          "Data Scientist",
          "Marketing Associate",
          "Financial Analyst",
          "Sales Associate",
          "IT",
          "Graphic Designer",
          "Financial Analyst",
          "Data Scientist",
          "Marketing Associate",
          "Driver",
          "Marketing Associate",
          "Sales Associate",
          "IT",
          "Marketing Associate",
          "Sales Associate",
          "IT",
          "Marketing Associate",
          "Marketing Associate",
          "IT",
          "Data Scientist",
          "Driver",
          "Financial Analyst",
          "Data Scientist",
          "Marketing Associate",
          "Marketing Associate",
          "Marketing Associate",
          "Graphic Designer",
          "Sales Associate",
          "Graphic Designer",
          "Manager",
          "Marketing Associate",
          "IT",
          "Financial Analyst",
          "Graphic Designer",
          "Driver",
          "Sales Associate",
          "Data Scientist",
          "Marketing Associate",
          "Marketing Associate",
          "Marketing Associate",
          "Warehouse Associate",
          "Financial Analyst",
          "Data Scientist",
          "Warehouse Associate",
          "Warehouse Associate",
          "IT",
          "Marketing Associate",
          "Graphic Designer",
          "Graphic Designer",
          "Warehouse Associate",
          "Data Scientist",
          "Warehouse Associate",
          "Data Scientist",
          "Financial Analyst",
          "Financial Analyst",
          "Financial Analyst",
          "Sales Associate",
          "IT",
          "Warehouse Associate",
          "Graphic Designer",
          "Marketing Associate",
          "Graphic Designer",
          "Manager",
          "Sales Associate",
          "Manager",
          "Marketing Associate",
          "Data Scientist",
          "Data Scientist",
          "Marketing Associate",
          "IT",
          "Marketing Associate",
          "Driver",
          "Data Scientist",
          "Marketing Associate",
          "IT",
          "Data Scientist",
          "Warehouse Associate",
          "Driver",
          "Data Scientist",
          "IT",
          "IT",
          "Marketing Associate",
          "Driver",
          "Graphic Designer",
          "Data Scientist",
          "IT",
          "Financial Analyst",
          "Driver",
          "IT",
          "Driver",
          "Sales Associate",
          "Data Scientist",
          "Warehouse Associate",
          "Sales Associate",
          "IT",
          "Financial Analyst",
          "Graphic Designer",
          "Graphic Designer",
          "Sales Associate",
          "IT",
          "Marketing Associate",
          "Marketing Associate",
          "Financial Analyst",
          "Graphic Designer",
          "Graphic Designer",
          "Financial Analyst",
          "Marketing Associate",
          "Software Engineer",
          "Marketing Associate",
          "Marketing Associate",
          "Graphic Designer",
          "Marketing Associate",
          "Sales Associate",
          "Software Engineer",
          "Manager",
          "Marketing Associate",
          "Marketing Associate",
          "Driver",
          "Marketing Associate",
          "Sales Associate",
          "Marketing Associate",
          "Driver",
          "Marketing Associate",
          "Marketing Associate",
          "Driver",
          "Driver",
          "Sales Associate",
          "Marketing Associate",
          "Graphic Designer",
          "IT",
          "Financial Analyst",
          "Financial Analyst",
          "Data Scientist",
          "Warehouse Associate",
          "Marketing Associate",
          "Manager",
          "Sales Associate",
          "Marketing Associate",
          "Graphic Designer",
          "Marketing Associate",
          "Graphic Designer",
          "Data Scientist",
          "Graphic Designer",
          "Marketing Associate",
          "Manager",
          "Data Scientist",
          "Financial Analyst",
          "Warehouse Associate",
          "Financial Analyst",
          "Financial Analyst",
          "Data Scientist",
          "IT",
          "Sales Associate",
          "Marketing Associate",
          "Marketing Associate",
          "Marketing Associate",
          "IT",
          "IT",
          "Financial Analyst",
          "Manager",
          "Sales Associate",
          "Marketing Associate",
          "Driver",
          "Marketing Associate",
          "Marketing Associate",
          "Software Engineer",
          "Graphic Designer",
          "Graphic Designer",
          "Driver",
          "Marketing Associate",
          "Financial Analyst",
          "Sales Associate",
          "Marketing Associate",
          "IT",
          "Manager",
          "Data Scientist",
          "Data Scientist",
          "Marketing Associate",
          "Sales Associate",
          "Sales Associate",
          "Manager",
          "IT",
          "IT",
          "Marketing Associate",
          "IT",
          "Financial Analyst",
          "Financial Analyst",
          "Driver",
          "Marketing Associate",
          "Data Scientist",
          "Data Scientist",
          "Driver",
          "Driver",
          "Financial Analyst",
          "Marketing Associate",
          "Marketing Associate",
          "Marketing Associate",
          "Financial Analyst",
          "Sales Associate",
          "IT",
          "Marketing Associate",
          "Marketing Associate",
          "IT",
          "Marketing Associate",
          "Financial Analyst",
          "Graphic Designer",
          "IT",
          "Graphic Designer",
          "Marketing Associate",
          "Marketing Associate",
          "Marketing Associate"
         ],
         "xaxis": "x",
         "yaxis": "y"
        },
        {
         "alignmentgroup": "True",
         "bingroup": "x",
         "hovertemplate": "Gender=Male<br>JobTitle=%{x}<br>count=%{y}<extra></extra>",
         "legendgroup": "Male",
         "marker": {
          "color": "Pink",
          "pattern": {
           "shape": ""
          }
         },
         "name": "Male",
         "offsetgroup": "Male",
         "orientation": "v",
         "showlegend": true,
         "type": "histogram",
         "x": [
          "Software Engineer",
          "Software Engineer",
          "Graphic Designer",
          "Software Engineer",
          "Graphic Designer",
          "Sales Associate",
          "Warehouse Associate",
          "Financial Analyst",
          "Warehouse Associate",
          "Software Engineer",
          "Software Engineer",
          "Graphic Designer",
          "Warehouse Associate",
          "Software Engineer",
          "Sales Associate",
          "Software Engineer",
          "Software Engineer",
          "Software Engineer",
          "IT",
          "Data Scientist",
          "Data Scientist",
          "Software Engineer",
          "Warehouse Associate",
          "Software Engineer",
          "Software Engineer",
          "Marketing Associate",
          "Sales Associate",
          "Software Engineer",
          "Software Engineer",
          "Financial Analyst",
          "Graphic Designer",
          "Software Engineer",
          "Driver",
          "Sales Associate",
          "Data Scientist",
          "Data Scientist",
          "Manager",
          "Data Scientist",
          "Graphic Designer",
          "Financial Analyst",
          "Warehouse Associate",
          "Warehouse Associate",
          "Manager",
          "Graphic Designer",
          "Manager",
          "Software Engineer",
          "Warehouse Associate",
          "Software Engineer",
          "Software Engineer",
          "IT",
          "Sales Associate",
          "IT",
          "Warehouse Associate",
          "Driver",
          "Financial Analyst",
          "Driver",
          "Data Scientist",
          "Software Engineer",
          "Driver",
          "Sales Associate",
          "Data Scientist",
          "IT",
          "Financial Analyst",
          "Marketing Associate",
          "Graphic Designer",
          "Graphic Designer",
          "Financial Analyst",
          "Financial Analyst",
          "Data Scientist",
          "Financial Analyst",
          "Warehouse Associate",
          "Software Engineer",
          "Manager",
          "Data Scientist",
          "Sales Associate",
          "Marketing Associate",
          "IT",
          "Financial Analyst",
          "Software Engineer",
          "Software Engineer",
          "Sales Associate",
          "Financial Analyst",
          "Driver",
          "Graphic Designer",
          "Software Engineer",
          "Driver",
          "Software Engineer",
          "Manager",
          "Software Engineer",
          "Sales Associate",
          "Graphic Designer",
          "Software Engineer",
          "Software Engineer",
          "Warehouse Associate",
          "Software Engineer",
          "Data Scientist",
          "Sales Associate",
          "Manager",
          "IT",
          "Financial Analyst",
          "Graphic Designer",
          "Software Engineer",
          "Software Engineer",
          "Sales Associate",
          "Graphic Designer",
          "Manager",
          "Financial Analyst",
          "Software Engineer",
          "Driver",
          "Financial Analyst",
          "Graphic Designer",
          "IT",
          "Graphic Designer",
          "Sales Associate",
          "Manager",
          "Graphic Designer",
          "Data Scientist",
          "Data Scientist",
          "Driver",
          "IT",
          "Software Engineer",
          "Financial Analyst",
          "IT",
          "Software Engineer",
          "Sales Associate",
          "IT",
          "Graphic Designer",
          "Driver",
          "Graphic Designer",
          "Financial Analyst",
          "Manager",
          "Data Scientist",
          "Software Engineer",
          "Driver",
          "Manager",
          "Warehouse Associate",
          "Data Scientist",
          "Driver",
          "IT",
          "Driver",
          "Driver",
          "Warehouse Associate",
          "IT",
          "Graphic Designer",
          "Data Scientist",
          "IT",
          "Financial Analyst",
          "Graphic Designer",
          "Financial Analyst",
          "Sales Associate",
          "Sales Associate",
          "Graphic Designer",
          "Financial Analyst",
          "Warehouse Associate",
          "Manager",
          "Software Engineer",
          "Warehouse Associate",
          "Warehouse Associate",
          "Driver",
          "Graphic Designer",
          "Software Engineer",
          "Financial Analyst",
          "Graphic Designer",
          "Software Engineer",
          "IT",
          "Software Engineer",
          "Financial Analyst",
          "Driver",
          "Manager",
          "IT",
          "Driver",
          "Financial Analyst",
          "Software Engineer",
          "Warehouse Associate",
          "Manager",
          "IT",
          "Data Scientist",
          "Sales Associate",
          "Software Engineer",
          "Financial Analyst",
          "Driver",
          "Manager",
          "Graphic Designer",
          "Sales Associate",
          "Financial Analyst",
          "Graphic Designer",
          "Manager",
          "Driver",
          "Manager",
          "Sales Associate",
          "Software Engineer",
          "Warehouse Associate",
          "Marketing Associate",
          "Financial Analyst",
          "Software Engineer",
          "Driver",
          "Data Scientist",
          "Software Engineer",
          "Manager",
          "Sales Associate",
          "Financial Analyst",
          "Financial Analyst",
          "Financial Analyst",
          "Marketing Associate",
          "Sales Associate",
          "IT",
          "Software Engineer",
          "Manager",
          "Data Scientist",
          "Manager",
          "Data Scientist",
          "IT",
          "Financial Analyst",
          "IT",
          "Manager",
          "Software Engineer",
          "Manager",
          "IT",
          "Manager",
          "Manager",
          "Software Engineer",
          "Driver",
          "Warehouse Associate",
          "Manager",
          "Graphic Designer",
          "Software Engineer",
          "Data Scientist",
          "Sales Associate",
          "Software Engineer",
          "Financial Analyst",
          "Software Engineer",
          "Warehouse Associate",
          "Software Engineer",
          "Manager",
          "Marketing Associate",
          "Data Scientist",
          "Data Scientist",
          "Manager",
          "Data Scientist",
          "Warehouse Associate",
          "Software Engineer",
          "Graphic Designer",
          "Software Engineer",
          "Warehouse Associate",
          "Software Engineer",
          "Software Engineer",
          "Software Engineer",
          "Software Engineer",
          "Manager",
          "Data Scientist",
          "Warehouse Associate",
          "Software Engineer",
          "Manager",
          "Graphic Designer",
          "Manager",
          "Sales Associate",
          "Graphic Designer",
          "Graphic Designer",
          "Warehouse Associate",
          "Financial Analyst",
          "Sales Associate",
          "Graphic Designer",
          "Manager",
          "Sales Associate",
          "Financial Analyst",
          "Manager",
          "Software Engineer",
          "Data Scientist",
          "Data Scientist",
          "Financial Analyst",
          "IT",
          "Marketing Associate",
          "Warehouse Associate",
          "Manager",
          "Warehouse Associate",
          "Manager",
          "Software Engineer",
          "Warehouse Associate",
          "Financial Analyst",
          "Manager",
          "Financial Analyst",
          "IT",
          "Graphic Designer",
          "Manager",
          "Manager",
          "Financial Analyst",
          "Financial Analyst",
          "Warehouse Associate",
          "Graphic Designer",
          "Warehouse Associate",
          "Software Engineer",
          "Warehouse Associate",
          "Driver",
          "Driver",
          "Sales Associate",
          "Data Scientist",
          "IT",
          "IT",
          "Driver",
          "Financial Analyst",
          "Warehouse Associate",
          "Manager",
          "Software Engineer",
          "Manager",
          "Graphic Designer",
          "Manager",
          "Graphic Designer",
          "Graphic Designer",
          "Graphic Designer",
          "Manager",
          "Data Scientist",
          "Software Engineer",
          "Data Scientist",
          "Manager",
          "Manager",
          "Data Scientist",
          "Software Engineer",
          "IT",
          "Data Scientist",
          "IT",
          "Driver",
          "Warehouse Associate",
          "IT",
          "Manager",
          "Software Engineer",
          "Manager",
          "Manager",
          "Sales Associate",
          "Software Engineer",
          "IT",
          "Warehouse Associate",
          "Graphic Designer",
          "Manager",
          "Software Engineer",
          "Driver",
          "Financial Analyst",
          "Graphic Designer",
          "Driver",
          "Software Engineer",
          "Data Scientist",
          "Graphic Designer",
          "Warehouse Associate",
          "IT",
          "Sales Associate",
          "Software Engineer",
          "Driver",
          "Financial Analyst",
          "Warehouse Associate",
          "Driver",
          "Marketing Associate",
          "Financial Analyst",
          "Graphic Designer",
          "Driver",
          "Financial Analyst",
          "Driver",
          "Manager",
          "Driver",
          "Data Scientist",
          "Sales Associate",
          "Software Engineer",
          "Sales Associate",
          "Software Engineer",
          "Data Scientist",
          "IT",
          "Software Engineer",
          "Sales Associate",
          "Warehouse Associate",
          "Data Scientist",
          "IT",
          "Warehouse Associate",
          "Financial Analyst",
          "Financial Analyst",
          "Marketing Associate",
          "Manager",
          "Graphic Designer",
          "Manager",
          "Driver",
          "Data Scientist",
          "IT",
          "Software Engineer",
          "Sales Associate",
          "Sales Associate",
          "Warehouse Associate",
          "Data Scientist",
          "Data Scientist",
          "Driver",
          "Driver",
          "Software Engineer",
          "Manager",
          "Software Engineer",
          "IT",
          "Software Engineer",
          "Sales Associate",
          "Software Engineer",
          "Software Engineer",
          "Sales Associate",
          "Manager",
          "Manager",
          "Manager",
          "Software Engineer",
          "Driver",
          "Software Engineer",
          "Graphic Designer",
          "Sales Associate",
          "Manager",
          "Data Scientist",
          "Manager",
          "Data Scientist",
          "Driver",
          "Driver",
          "Software Engineer",
          "Financial Analyst",
          "Software Engineer",
          "Manager",
          "Software Engineer",
          "Sales Associate",
          "Warehouse Associate",
          "Sales Associate",
          "Financial Analyst",
          "Graphic Designer",
          "Manager",
          "Data Scientist",
          "Financial Analyst",
          "IT",
          "Manager",
          "Financial Analyst",
          "Warehouse Associate",
          "Driver",
          "Manager",
          "Sales Associate",
          "Graphic Designer",
          "Software Engineer",
          "Sales Associate",
          "Software Engineer",
          "Graphic Designer",
          "Sales Associate",
          "Software Engineer",
          "Graphic Designer",
          "Graphic Designer",
          "Sales Associate",
          "Sales Associate",
          "Driver",
          "Marketing Associate",
          "Software Engineer",
          "Driver",
          "Warehouse Associate",
          "Manager",
          "Driver",
          "Software Engineer",
          "Data Scientist",
          "Financial Analyst",
          "Manager",
          "Data Scientist",
          "Manager",
          "Data Scientist",
          "Warehouse Associate",
          "Sales Associate",
          "Sales Associate",
          "Marketing Associate",
          "Software Engineer",
          "Manager",
          "IT",
          "Manager",
          "Software Engineer",
          "Data Scientist",
          "IT",
          "Software Engineer",
          "Financial Analyst",
          "Graphic Designer",
          "Financial Analyst",
          "Manager",
          "IT",
          "IT",
          "IT",
          "Financial Analyst",
          "Data Scientist",
          "Software Engineer",
          "Data Scientist",
          "Manager",
          "Graphic Designer",
          "Financial Analyst",
          "Driver",
          "Manager",
          "Data Scientist",
          "Driver",
          "Driver",
          "Financial Analyst",
          "Sales Associate",
          "Driver",
          "Software Engineer",
          "IT",
          "Software Engineer",
          "IT",
          "Manager",
          "Financial Analyst",
          "IT",
          "Software Engineer",
          "Software Engineer",
          "Data Scientist",
          "Manager",
          "Warehouse Associate",
          "Software Engineer",
          "Data Scientist",
          "Manager",
          "IT",
          "Software Engineer",
          "Graphic Designer",
          "Sales Associate",
          "Data Scientist",
          "IT",
          "Financial Analyst",
          "Sales Associate",
          "IT",
          "Warehouse Associate",
          "Sales Associate",
          "Software Engineer",
          "Manager",
          "Data Scientist",
          "Software Engineer",
          "Warehouse Associate",
          "Software Engineer",
          "Sales Associate",
          "IT",
          "Sales Associate",
          "Software Engineer",
          "Manager",
          "Data Scientist",
          "Sales Associate",
          "Data Scientist",
          "Financial Analyst",
          "Financial Analyst",
          "Financial Analyst"
         ],
         "xaxis": "x",
         "yaxis": "y"
        }
       ],
       "layout": {
        "barmode": "relative",
        "legend": {
         "title": {
          "text": "Gender"
         },
         "tracegroupgap": 0
        },
        "margin": {
         "t": 60
        },
        "template": {
         "data": {
          "bar": [
           {
            "error_x": {
             "color": "#2a3f5f"
            },
            "error_y": {
             "color": "#2a3f5f"
            },
            "marker": {
             "line": {
              "color": "#E5ECF6",
              "width": 0.5
             },
             "pattern": {
              "fillmode": "overlay",
              "size": 10,
              "solidity": 0.2
             }
            },
            "type": "bar"
           }
          ],
          "barpolar": [
           {
            "marker": {
             "line": {
              "color": "#E5ECF6",
              "width": 0.5
             },
             "pattern": {
              "fillmode": "overlay",
              "size": 10,
              "solidity": 0.2
             }
            },
            "type": "barpolar"
           }
          ],
          "carpet": [
           {
            "aaxis": {
             "endlinecolor": "#2a3f5f",
             "gridcolor": "white",
             "linecolor": "white",
             "minorgridcolor": "white",
             "startlinecolor": "#2a3f5f"
            },
            "baxis": {
             "endlinecolor": "#2a3f5f",
             "gridcolor": "white",
             "linecolor": "white",
             "minorgridcolor": "white",
             "startlinecolor": "#2a3f5f"
            },
            "type": "carpet"
           }
          ],
          "choropleth": [
           {
            "colorbar": {
             "outlinewidth": 0,
             "ticks": ""
            },
            "type": "choropleth"
           }
          ],
          "contour": [
           {
            "colorbar": {
             "outlinewidth": 0,
             "ticks": ""
            },
            "colorscale": [
             [
              0,
              "#0d0887"
             ],
             [
              0.1111111111111111,
              "#46039f"
             ],
             [
              0.2222222222222222,
              "#7201a8"
             ],
             [
              0.3333333333333333,
              "#9c179e"
             ],
             [
              0.4444444444444444,
              "#bd3786"
             ],
             [
              0.5555555555555556,
              "#d8576b"
             ],
             [
              0.6666666666666666,
              "#ed7953"
             ],
             [
              0.7777777777777778,
              "#fb9f3a"
             ],
             [
              0.8888888888888888,
              "#fdca26"
             ],
             [
              1,
              "#f0f921"
             ]
            ],
            "type": "contour"
           }
          ],
          "contourcarpet": [
           {
            "colorbar": {
             "outlinewidth": 0,
             "ticks": ""
            },
            "type": "contourcarpet"
           }
          ],
          "heatmap": [
           {
            "colorbar": {
             "outlinewidth": 0,
             "ticks": ""
            },
            "colorscale": [
             [
              0,
              "#0d0887"
             ],
             [
              0.1111111111111111,
              "#46039f"
             ],
             [
              0.2222222222222222,
              "#7201a8"
             ],
             [
              0.3333333333333333,
              "#9c179e"
             ],
             [
              0.4444444444444444,
              "#bd3786"
             ],
             [
              0.5555555555555556,
              "#d8576b"
             ],
             [
              0.6666666666666666,
              "#ed7953"
             ],
             [
              0.7777777777777778,
              "#fb9f3a"
             ],
             [
              0.8888888888888888,
              "#fdca26"
             ],
             [
              1,
              "#f0f921"
             ]
            ],
            "type": "heatmap"
           }
          ],
          "heatmapgl": [
           {
            "colorbar": {
             "outlinewidth": 0,
             "ticks": ""
            },
            "colorscale": [
             [
              0,
              "#0d0887"
             ],
             [
              0.1111111111111111,
              "#46039f"
             ],
             [
              0.2222222222222222,
              "#7201a8"
             ],
             [
              0.3333333333333333,
              "#9c179e"
             ],
             [
              0.4444444444444444,
              "#bd3786"
             ],
             [
              0.5555555555555556,
              "#d8576b"
             ],
             [
              0.6666666666666666,
              "#ed7953"
             ],
             [
              0.7777777777777778,
              "#fb9f3a"
             ],
             [
              0.8888888888888888,
              "#fdca26"
             ],
             [
              1,
              "#f0f921"
             ]
            ],
            "type": "heatmapgl"
           }
          ],
          "histogram": [
           {
            "marker": {
             "pattern": {
              "fillmode": "overlay",
              "size": 10,
              "solidity": 0.2
             }
            },
            "type": "histogram"
           }
          ],
          "histogram2d": [
           {
            "colorbar": {
             "outlinewidth": 0,
             "ticks": ""
            },
            "colorscale": [
             [
              0,
              "#0d0887"
             ],
             [
              0.1111111111111111,
              "#46039f"
             ],
             [
              0.2222222222222222,
              "#7201a8"
             ],
             [
              0.3333333333333333,
              "#9c179e"
             ],
             [
              0.4444444444444444,
              "#bd3786"
             ],
             [
              0.5555555555555556,
              "#d8576b"
             ],
             [
              0.6666666666666666,
              "#ed7953"
             ],
             [
              0.7777777777777778,
              "#fb9f3a"
             ],
             [
              0.8888888888888888,
              "#fdca26"
             ],
             [
              1,
              "#f0f921"
             ]
            ],
            "type": "histogram2d"
           }
          ],
          "histogram2dcontour": [
           {
            "colorbar": {
             "outlinewidth": 0,
             "ticks": ""
            },
            "colorscale": [
             [
              0,
              "#0d0887"
             ],
             [
              0.1111111111111111,
              "#46039f"
             ],
             [
              0.2222222222222222,
              "#7201a8"
             ],
             [
              0.3333333333333333,
              "#9c179e"
             ],
             [
              0.4444444444444444,
              "#bd3786"
             ],
             [
              0.5555555555555556,
              "#d8576b"
             ],
             [
              0.6666666666666666,
              "#ed7953"
             ],
             [
              0.7777777777777778,
              "#fb9f3a"
             ],
             [
              0.8888888888888888,
              "#fdca26"
             ],
             [
              1,
              "#f0f921"
             ]
            ],
            "type": "histogram2dcontour"
           }
          ],
          "mesh3d": [
           {
            "colorbar": {
             "outlinewidth": 0,
             "ticks": ""
            },
            "type": "mesh3d"
           }
          ],
          "parcoords": [
           {
            "line": {
             "colorbar": {
              "outlinewidth": 0,
              "ticks": ""
             }
            },
            "type": "parcoords"
           }
          ],
          "pie": [
           {
            "automargin": true,
            "type": "pie"
           }
          ],
          "scatter": [
           {
            "fillpattern": {
             "fillmode": "overlay",
             "size": 10,
             "solidity": 0.2
            },
            "type": "scatter"
           }
          ],
          "scatter3d": [
           {
            "line": {
             "colorbar": {
              "outlinewidth": 0,
              "ticks": ""
             }
            },
            "marker": {
             "colorbar": {
              "outlinewidth": 0,
              "ticks": ""
             }
            },
            "type": "scatter3d"
           }
          ],
          "scattercarpet": [
           {
            "marker": {
             "colorbar": {
              "outlinewidth": 0,
              "ticks": ""
             }
            },
            "type": "scattercarpet"
           }
          ],
          "scattergeo": [
           {
            "marker": {
             "colorbar": {
              "outlinewidth": 0,
              "ticks": ""
             }
            },
            "type": "scattergeo"
           }
          ],
          "scattergl": [
           {
            "marker": {
             "colorbar": {
              "outlinewidth": 0,
              "ticks": ""
             }
            },
            "type": "scattergl"
           }
          ],
          "scattermapbox": [
           {
            "marker": {
             "colorbar": {
              "outlinewidth": 0,
              "ticks": ""
             }
            },
            "type": "scattermapbox"
           }
          ],
          "scatterpolar": [
           {
            "marker": {
             "colorbar": {
              "outlinewidth": 0,
              "ticks": ""
             }
            },
            "type": "scatterpolar"
           }
          ],
          "scatterpolargl": [
           {
            "marker": {
             "colorbar": {
              "outlinewidth": 0,
              "ticks": ""
             }
            },
            "type": "scatterpolargl"
           }
          ],
          "scatterternary": [
           {
            "marker": {
             "colorbar": {
              "outlinewidth": 0,
              "ticks": ""
             }
            },
            "type": "scatterternary"
           }
          ],
          "surface": [
           {
            "colorbar": {
             "outlinewidth": 0,
             "ticks": ""
            },
            "colorscale": [
             [
              0,
              "#0d0887"
             ],
             [
              0.1111111111111111,
              "#46039f"
             ],
             [
              0.2222222222222222,
              "#7201a8"
             ],
             [
              0.3333333333333333,
              "#9c179e"
             ],
             [
              0.4444444444444444,
              "#bd3786"
             ],
             [
              0.5555555555555556,
              "#d8576b"
             ],
             [
              0.6666666666666666,
              "#ed7953"
             ],
             [
              0.7777777777777778,
              "#fb9f3a"
             ],
             [
              0.8888888888888888,
              "#fdca26"
             ],
             [
              1,
              "#f0f921"
             ]
            ],
            "type": "surface"
           }
          ],
          "table": [
           {
            "cells": {
             "fill": {
              "color": "#EBF0F8"
             },
             "line": {
              "color": "white"
             }
            },
            "header": {
             "fill": {
              "color": "#C8D4E3"
             },
             "line": {
              "color": "white"
             }
            },
            "type": "table"
           }
          ]
         },
         "layout": {
          "annotationdefaults": {
           "arrowcolor": "#2a3f5f",
           "arrowhead": 0,
           "arrowwidth": 1
          },
          "autotypenumbers": "strict",
          "coloraxis": {
           "colorbar": {
            "outlinewidth": 0,
            "ticks": ""
           }
          },
          "colorscale": {
           "diverging": [
            [
             0,
             "#8e0152"
            ],
            [
             0.1,
             "#c51b7d"
            ],
            [
             0.2,
             "#de77ae"
            ],
            [
             0.3,
             "#f1b6da"
            ],
            [
             0.4,
             "#fde0ef"
            ],
            [
             0.5,
             "#f7f7f7"
            ],
            [
             0.6,
             "#e6f5d0"
            ],
            [
             0.7,
             "#b8e186"
            ],
            [
             0.8,
             "#7fbc41"
            ],
            [
             0.9,
             "#4d9221"
            ],
            [
             1,
             "#276419"
            ]
           ],
           "sequential": [
            [
             0,
             "#0d0887"
            ],
            [
             0.1111111111111111,
             "#46039f"
            ],
            [
             0.2222222222222222,
             "#7201a8"
            ],
            [
             0.3333333333333333,
             "#9c179e"
            ],
            [
             0.4444444444444444,
             "#bd3786"
            ],
            [
             0.5555555555555556,
             "#d8576b"
            ],
            [
             0.6666666666666666,
             "#ed7953"
            ],
            [
             0.7777777777777778,
             "#fb9f3a"
            ],
            [
             0.8888888888888888,
             "#fdca26"
            ],
            [
             1,
             "#f0f921"
            ]
           ],
           "sequentialminus": [
            [
             0,
             "#0d0887"
            ],
            [
             0.1111111111111111,
             "#46039f"
            ],
            [
             0.2222222222222222,
             "#7201a8"
            ],
            [
             0.3333333333333333,
             "#9c179e"
            ],
            [
             0.4444444444444444,
             "#bd3786"
            ],
            [
             0.5555555555555556,
             "#d8576b"
            ],
            [
             0.6666666666666666,
             "#ed7953"
            ],
            [
             0.7777777777777778,
             "#fb9f3a"
            ],
            [
             0.8888888888888888,
             "#fdca26"
            ],
            [
             1,
             "#f0f921"
            ]
           ]
          },
          "colorway": [
           "#636efa",
           "#EF553B",
           "#00cc96",
           "#ab63fa",
           "#FFA15A",
           "#19d3f3",
           "#FF6692",
           "#B6E880",
           "#FF97FF",
           "#FECB52"
          ],
          "font": {
           "color": "#2a3f5f"
          },
          "geo": {
           "bgcolor": "white",
           "lakecolor": "white",
           "landcolor": "#E5ECF6",
           "showlakes": true,
           "showland": true,
           "subunitcolor": "white"
          },
          "hoverlabel": {
           "align": "left"
          },
          "hovermode": "closest",
          "mapbox": {
           "style": "light"
          },
          "paper_bgcolor": "white",
          "plot_bgcolor": "#E5ECF6",
          "polar": {
           "angularaxis": {
            "gridcolor": "white",
            "linecolor": "white",
            "ticks": ""
           },
           "bgcolor": "#E5ECF6",
           "radialaxis": {
            "gridcolor": "white",
            "linecolor": "white",
            "ticks": ""
           }
          },
          "scene": {
           "xaxis": {
            "backgroundcolor": "#E5ECF6",
            "gridcolor": "white",
            "gridwidth": 2,
            "linecolor": "white",
            "showbackground": true,
            "ticks": "",
            "zerolinecolor": "white"
           },
           "yaxis": {
            "backgroundcolor": "#E5ECF6",
            "gridcolor": "white",
            "gridwidth": 2,
            "linecolor": "white",
            "showbackground": true,
            "ticks": "",
            "zerolinecolor": "white"
           },
           "zaxis": {
            "backgroundcolor": "#E5ECF6",
            "gridcolor": "white",
            "gridwidth": 2,
            "linecolor": "white",
            "showbackground": true,
            "ticks": "",
            "zerolinecolor": "white"
           }
          },
          "shapedefaults": {
           "line": {
            "color": "#2a3f5f"
           }
          },
          "ternary": {
           "aaxis": {
            "gridcolor": "white",
            "linecolor": "white",
            "ticks": ""
           },
           "baxis": {
            "gridcolor": "white",
            "linecolor": "white",
            "ticks": ""
           },
           "bgcolor": "#E5ECF6",
           "caxis": {
            "gridcolor": "white",
            "linecolor": "white",
            "ticks": ""
           }
          },
          "title": {
           "x": 0.05
          },
          "xaxis": {
           "automargin": true,
           "gridcolor": "white",
           "linecolor": "white",
           "ticks": "",
           "title": {
            "standoff": 15
           },
           "zerolinecolor": "white",
           "zerolinewidth": 2
          },
          "yaxis": {
           "automargin": true,
           "gridcolor": "white",
           "linecolor": "white",
           "ticks": "",
           "title": {
            "standoff": 15
           },
           "zerolinecolor": "white",
           "zerolinewidth": 2
          }
         }
        },
        "xaxis": {
         "anchor": "y",
         "domain": [
          0,
          1
         ],
         "title": {
          "text": "JobTitle"
         }
        },
        "yaxis": {
         "anchor": "x",
         "domain": [
          0,
          1
         ],
         "title": {
          "text": "count"
         }
        }
       }
      }
     },
     "metadata": {},
     "output_type": "display_data"
    }
   ],
   "source": [
    "px.histogram(df,x='JobTitle',color='Gender',color_discrete_sequence=['Yellow','Pink'])"
   ]
  },
  {
   "cell_type": "code",
   "execution_count": 17,
   "metadata": {},
   "outputs": [
    {
     "data": {
      "application/vnd.plotly.v1+json": {
       "config": {
        "plotlyServerURL": "https://plot.ly"
       },
       "data": [
        {
         "domain": {
          "x": [
           0,
           1
          ],
          "y": [
           0,
           1
          ]
         },
         "hovertemplate": "JobTitle=%{label}<extra></extra>",
         "labels": [
          "Graphic Designer",
          "Software Engineer",
          "Warehouse Associate",
          "Software Engineer",
          "Graphic Designer",
          "IT",
          "Graphic Designer",
          "Software Engineer",
          "Graphic Designer",
          "Sales Associate",
          "Graphic Designer",
          "Driver",
          "Financial Analyst",
          "Warehouse Associate",
          "Warehouse Associate",
          "Marketing Associate",
          "Financial Analyst",
          "Warehouse Associate",
          "Sales Associate",
          "Data Scientist",
          "Warehouse Associate",
          "Financial Analyst",
          "Warehouse Associate",
          "Driver",
          "Software Engineer",
          "Graphic Designer",
          "Software Engineer",
          "Graphic Designer",
          "Warehouse Associate",
          "IT",
          "Software Engineer",
          "Sales Associate",
          "Marketing Associate",
          "Data Scientist",
          "Data Scientist",
          "Software Engineer",
          "Software Engineer",
          "Software Engineer",
          "IT",
          "IT",
          "Data Scientist",
          "Data Scientist",
          "Software Engineer",
          "Warehouse Associate",
          "Software Engineer",
          "Software Engineer",
          "Data Scientist",
          "Graphic Designer",
          "Marketing Associate",
          "IT",
          "Sales Associate",
          "Software Engineer",
          "Marketing Associate",
          "Data Scientist",
          "Software Engineer",
          "Data Scientist",
          "Driver",
          "Software Engineer",
          "Data Scientist",
          "Marketing Associate",
          "Financial Analyst",
          "Graphic Designer",
          "Warehouse Associate",
          "Software Engineer",
          "Driver",
          "Sales Associate",
          "Warehouse Associate",
          "Sales Associate",
          "Data Scientist",
          "Data Scientist",
          "Manager",
          "Sales Associate",
          "Warehouse Associate",
          "Financial Analyst",
          "Data Scientist",
          "Marketing Associate",
          "Warehouse Associate",
          "Marketing Associate",
          "Warehouse Associate",
          "Graphic Designer",
          "Financial Analyst",
          "Warehouse Associate",
          "Warehouse Associate",
          "Warehouse Associate",
          "Manager",
          "Data Scientist",
          "IT",
          "Data Scientist",
          "Graphic Designer",
          "Manager",
          "Software Engineer",
          "Financial Analyst",
          "Marketing Associate",
          "Warehouse Associate",
          "Software Engineer",
          "Driver",
          "Financial Analyst",
          "Graphic Designer",
          "Software Engineer",
          "IT",
          "Marketing Associate",
          "Warehouse Associate",
          "Financial Analyst",
          "Financial Analyst",
          "Warehouse Associate",
          "Financial Analyst",
          "Sales Associate",
          "IT",
          "Warehouse Associate",
          "Marketing Associate",
          "Driver",
          "Financial Analyst",
          "Warehouse Associate",
          "Marketing Associate",
          "Sales Associate",
          "Financial Analyst",
          "Driver",
          "Marketing Associate",
          "Graphic Designer",
          "Driver",
          "Driver",
          "Marketing Associate",
          "Data Scientist",
          "Software Engineer",
          "Driver",
          "IT",
          "Sales Associate",
          "IT",
          "Financial Analyst",
          "Data Scientist",
          "IT",
          "Financial Analyst",
          "Marketing Associate",
          "Marketing Associate",
          "Graphic Designer",
          "Graphic Designer",
          "Financial Analyst",
          "Financial Analyst",
          "Data Scientist",
          "Driver",
          "Manager",
          "Marketing Associate",
          "Warehouse Associate",
          "Financial Analyst",
          "Financial Analyst",
          "Warehouse Associate",
          "Software Engineer",
          "Software Engineer",
          "Manager",
          "Warehouse Associate",
          "Driver",
          "Warehouse Associate",
          "Data Scientist",
          "Graphic Designer",
          "Data Scientist",
          "Warehouse Associate",
          "Sales Associate",
          "Data Scientist",
          "Marketing Associate",
          "IT",
          "Sales Associate",
          "Graphic Designer",
          "Warehouse Associate",
          "Financial Analyst",
          "Software Engineer",
          "Software Engineer",
          "Sales Associate",
          "Marketing Associate",
          "Financial Analyst",
          "Marketing Associate",
          "Driver",
          "Graphic Designer",
          "Software Engineer",
          "Marketing Associate",
          "IT",
          "Driver",
          "IT",
          "IT",
          "Driver",
          "Warehouse Associate",
          "IT",
          "Software Engineer",
          "Manager",
          "Marketing Associate",
          "Software Engineer",
          "Sales Associate",
          "Marketing Associate",
          "Marketing Associate",
          "Graphic Designer",
          "Software Engineer",
          "Software Engineer",
          "Financial Analyst",
          "Warehouse Associate",
          "Software Engineer",
          "Data Scientist",
          "Sales Associate",
          "Sales Associate",
          "Manager",
          "Driver",
          "IT",
          "Financial Analyst",
          "Graphic Designer",
          "Software Engineer",
          "Graphic Designer",
          "Software Engineer",
          "Data Scientist",
          "Sales Associate",
          "Warehouse Associate",
          "Graphic Designer",
          "Graphic Designer",
          "Marketing Associate",
          "Graphic Designer",
          "Manager",
          "Financial Analyst",
          "Data Scientist",
          "Data Scientist",
          "Financial Analyst",
          "Software Engineer",
          "Driver",
          "Marketing Associate",
          "Warehouse Associate",
          "Financial Analyst",
          "Graphic Designer",
          "Driver",
          "IT",
          "Financial Analyst",
          "IT",
          "Marketing Associate",
          "Graphic Designer",
          "Graphic Designer",
          "Software Engineer",
          "Sales Associate",
          "Driver",
          "Manager",
          "Graphic Designer",
          "Data Scientist",
          "Data Scientist",
          "Driver",
          "Sales Associate",
          "IT",
          "Software Engineer",
          "Financial Analyst",
          "IT",
          "Software Engineer",
          "Sales Associate",
          "IT",
          "Graphic Designer",
          "Marketing Associate",
          "Graphic Designer",
          "Driver",
          "Graphic Designer",
          "Financial Analyst",
          "Data Scientist",
          "Manager",
          "Data Scientist",
          "Financial Analyst",
          "Software Engineer",
          "IT",
          "Driver",
          "Warehouse Associate",
          "Sales Associate",
          "Warehouse Associate",
          "Manager",
          "Warehouse Associate",
          "Data Scientist",
          "Data Scientist",
          "Warehouse Associate",
          "Driver",
          "IT",
          "Data Scientist",
          "Graphic Designer",
          "IT",
          "Driver",
          "Sales Associate",
          "Driver",
          "Financial Analyst",
          "Warehouse Associate",
          "IT",
          "Warehouse Associate",
          "Graphic Designer",
          "Data Scientist",
          "IT",
          "Financial Analyst",
          "IT",
          "Graphic Designer",
          "Financial Analyst",
          "IT",
          "Graphic Designer",
          "Sales Associate",
          "Driver",
          "Sales Associate",
          "Sales Associate",
          "Driver",
          "Graphic Designer",
          "Financial Analyst",
          "Warehouse Associate",
          "Manager",
          "Marketing Associate",
          "Graphic Designer",
          "Manager",
          "Software Engineer",
          "Warehouse Associate",
          "Marketing Associate",
          "Financial Analyst",
          "Manager",
          "Warehouse Associate",
          "Warehouse Associate",
          "Driver",
          "Graphic Designer",
          "Software Engineer",
          "Driver",
          "Warehouse Associate",
          "Financial Analyst",
          "Graphic Designer",
          "Sales Associate",
          "Data Scientist",
          "Driver",
          "Software Engineer",
          "IT",
          "Warehouse Associate",
          "Software Engineer",
          "Financial Analyst",
          "Marketing Associate",
          "Graphic Designer",
          "Driver",
          "Sales Associate",
          "Manager",
          "Manager",
          "IT",
          "Data Scientist",
          "Driver",
          "Financial Analyst",
          "Warehouse Associate",
          "Graphic Designer",
          "Financial Analyst",
          "Marketing Associate",
          "Driver",
          "Software Engineer",
          "Warehouse Associate",
          "Sales Associate",
          "Manager",
          "Driver",
          "Software Engineer",
          "Graphic Designer",
          "IT",
          "Data Scientist",
          "Sales Associate",
          "Software Engineer",
          "Marketing Associate",
          "Driver",
          "Software Engineer",
          "Financial Analyst",
          "Driver",
          "Manager",
          "Data Scientist",
          "Graphic Designer",
          "Sales Associate",
          "Manager",
          "Sales Associate",
          "Marketing Associate",
          "Financial Analyst",
          "Financial Analyst",
          "Driver",
          "Data Scientist",
          "Driver",
          "Graphic Designer",
          "Manager",
          "Driver",
          "Marketing Associate",
          "Driver",
          "Marketing Associate",
          "Manager",
          "Sales Associate",
          "Marketing Associate",
          "Software Engineer",
          "Marketing Associate",
          "Warehouse Associate",
          "Marketing Associate",
          "Marketing Associate",
          "Warehouse Associate",
          "Marketing Associate",
          "Data Scientist",
          "Financial Analyst",
          "Marketing Associate",
          "Software Engineer",
          "Warehouse Associate",
          "Driver",
          "Data Scientist",
          "Sales Associate",
          "Software Engineer",
          "Warehouse Associate",
          "Marketing Associate",
          "Manager",
          "Marketing Associate",
          "IT",
          "Sales Associate",
          "Graphic Designer",
          "Financial Analyst",
          "Financial Analyst",
          "Financial Analyst",
          "Marketing Associate",
          "Sales Associate",
          "IT",
          "Data Scientist",
          "IT",
          "Marketing Associate",
          "Software Engineer",
          "Manager",
          "Financial Analyst",
          "Data Scientist",
          "IT",
          "Manager",
          "Marketing Associate",
          "Data Scientist",
          "Warehouse Associate",
          "IT",
          "Financial Analyst",
          "IT",
          "Manager",
          "Software Engineer",
          "Financial Analyst",
          "Marketing Associate",
          "Manager",
          "Marketing Associate",
          "Driver",
          "IT",
          "Manager",
          "Graphic Designer",
          "Manager",
          "Software Engineer",
          "Driver",
          "Sales Associate",
          "Warehouse Associate",
          "Driver",
          "Manager",
          "Graphic Designer",
          "Software Engineer",
          "Data Scientist",
          "Manager",
          "Marketing Associate",
          "Sales Associate",
          "Software Engineer",
          "Financial Analyst",
          "Software Engineer",
          "Sales Associate",
          "Warehouse Associate",
          "Software Engineer",
          "Marketing Associate",
          "Manager",
          "Marketing Associate",
          "Warehouse Associate",
          "Graphic Designer",
          "Sales Associate",
          "Data Scientist",
          "Data Scientist",
          "Manager",
          "Data Scientist",
          "Data Scientist",
          "Warehouse Associate",
          "Data Scientist",
          "Software Engineer",
          "Graphic Designer",
          "Software Engineer",
          "Warehouse Associate",
          "Software Engineer",
          "Marketing Associate",
          "Software Engineer",
          "Software Engineer",
          "Software Engineer",
          "Manager",
          "Data Scientist",
          "Data Scientist",
          "Marketing Associate",
          "IT",
          "Warehouse Associate",
          "Software Engineer",
          "Manager",
          "Manager",
          "Graphic Designer",
          "Financial Analyst",
          "Manager",
          "Sales Associate",
          "Sales Associate",
          "Sales Associate",
          "Graphic Designer",
          "Financial Analyst",
          "Graphic Designer",
          "Marketing Associate",
          "Warehouse Associate",
          "Warehouse Associate",
          "Financial Analyst",
          "Sales Associate",
          "Graphic Designer",
          "Manager",
          "Driver",
          "Sales Associate",
          "Financial Analyst",
          "Manager",
          "Driver",
          "Software Engineer",
          "Data Scientist",
          "IT",
          "Data Scientist",
          "Financial Analyst",
          "IT",
          "Marketing Associate",
          "Marketing Associate",
          "Graphic Designer",
          "Financial Analyst",
          "Driver",
          "Warehouse Associate",
          "Warehouse Associate",
          "Manager",
          "Financial Analyst",
          "Sales Associate",
          "Warehouse Associate",
          "Manager",
          "Software Engineer",
          "Graphic Designer",
          "IT",
          "Warehouse Associate",
          "Financial Analyst",
          "Manager",
          "Financial Analyst",
          "Data Scientist",
          "IT",
          "Graphic Designer",
          "Manager",
          "Manager",
          "Manager",
          "Financial Analyst",
          "Financial Analyst",
          "Warehouse Associate",
          "Marketing Associate",
          "Driver",
          "Driver",
          "Manager",
          "Graphic Designer",
          "Graphic Designer",
          "Data Scientist",
          "Warehouse Associate",
          "Software Engineer",
          "Warehouse Associate",
          "Driver",
          "Data Scientist",
          "Sales Associate",
          "Driver",
          "Sales Associate",
          "Data Scientist",
          "Sales Associate",
          "IT",
          "IT",
          "Driver",
          "Financial Analyst",
          "Warehouse Associate",
          "IT",
          "IT",
          "Data Scientist",
          "Manager",
          "Software Engineer",
          "Manager",
          "Graphic Designer",
          "Manager",
          "Graphic Designer",
          "Data Scientist",
          "Graphic Designer",
          "Marketing Associate",
          "Financial Analyst",
          "Graphic Designer",
          "Sales Associate",
          "Manager",
          "IT",
          "Graphic Designer",
          "Financial Analyst",
          "Data Scientist",
          "Data Scientist",
          "Software Engineer",
          "Data Scientist",
          "Manager",
          "Manager",
          "Marketing Associate",
          "Data Scientist",
          "Software Engineer",
          "IT",
          "Data Scientist",
          "IT",
          "Driver",
          "Marketing Associate",
          "Sales Associate",
          "IT",
          "Marketing Associate",
          "Sales Associate",
          "IT",
          "Driver",
          "Warehouse Associate",
          "IT",
          "Manager",
          "Marketing Associate",
          "Marketing Associate",
          "Software Engineer",
          "Manager",
          "IT",
          "Data Scientist",
          "Driver",
          "Manager",
          "Financial Analyst",
          "Sales Associate",
          "Data Scientist",
          "Software Engineer",
          "IT",
          "Warehouse Associate",
          "Graphic Designer",
          "Marketing Associate",
          "Manager",
          "Software Engineer",
          "Driver",
          "Marketing Associate",
          "Marketing Associate",
          "Graphic Designer",
          "Sales Associate",
          "Financial Analyst",
          "Graphic Designer",
          "Graphic Designer",
          "Manager",
          "Marketing Associate",
          "Driver",
          "Software Engineer",
          "IT",
          "Data Scientist",
          "Financial Analyst",
          "Graphic Designer",
          "Graphic Designer",
          "Driver",
          "Warehouse Associate",
          "IT",
          "Sales Associate",
          "Software Engineer",
          "Driver",
          "Sales Associate",
          "Financial Analyst",
          "Warehouse Associate",
          "Driver",
          "Marketing Associate",
          "Financial Analyst",
          "Graphic Designer",
          "Driver",
          "Data Scientist",
          "Marketing Associate",
          "Marketing Associate",
          "Marketing Associate",
          "Financial Analyst",
          "Warehouse Associate",
          "Driver",
          "Financial Analyst",
          "Data Scientist",
          "Manager",
          "Driver",
          "Warehouse Associate",
          "Data Scientist",
          "Sales Associate",
          "Software Engineer",
          "Sales Associate",
          "Software Engineer",
          "Data Scientist",
          "IT",
          "Software Engineer",
          "Sales Associate",
          "Warehouse Associate",
          "Data Scientist",
          "Warehouse Associate",
          "IT",
          "IT",
          "Marketing Associate",
          "Warehouse Associate",
          "Graphic Designer",
          "Financial Analyst",
          "Graphic Designer",
          "Financial Analyst",
          "Warehouse Associate",
          "Marketing Associate",
          "Data Scientist",
          "Manager",
          "Warehouse Associate",
          "Graphic Designer",
          "Data Scientist",
          "Manager",
          "Financial Analyst",
          "Financial Analyst",
          "Financial Analyst",
          "Driver",
          "Sales Associate",
          "IT",
          "Warehouse Associate",
          "Graphic Designer",
          "Marketing Associate",
          "Data Scientist",
          "IT",
          "Graphic Designer",
          "Software Engineer",
          "Sales Associate",
          "Sales Associate",
          "Manager",
          "Warehouse Associate",
          "Data Scientist",
          "Data Scientist",
          "Driver",
          "Sales Associate",
          "Manager",
          "Marketing Associate",
          "Driver",
          "Data Scientist",
          "Software Engineer",
          "Manager",
          "Software Engineer",
          "Data Scientist",
          "Marketing Associate",
          "IT",
          "Marketing Associate",
          "Driver",
          "Data Scientist",
          "IT",
          "Marketing Associate",
          "IT",
          "Software Engineer",
          "Data Scientist",
          "Sales Associate",
          "Software Engineer",
          "Software Engineer",
          "Warehouse Associate",
          "Sales Associate",
          "Driver",
          "Manager",
          "Data Scientist",
          "IT",
          "Manager",
          "IT",
          "Manager",
          "Software Engineer",
          "Marketing Associate",
          "Driver",
          "Driver",
          "Software Engineer",
          "Graphic Designer",
          "Data Scientist",
          "Graphic Designer",
          "Sales Associate",
          "Manager",
          "IT",
          "Financial Analyst",
          "Driver",
          "Data Scientist",
          "IT",
          "Manager",
          "Driver",
          "Sales Associate",
          "Data Scientist",
          "Warehouse Associate",
          "Sales Associate",
          "Data Scientist",
          "Driver",
          "IT",
          "Financial Analyst",
          "Graphic Designer",
          "Driver",
          "Software Engineer",
          "Graphic Designer",
          "Sales Associate",
          "Financial Analyst",
          "IT",
          "Marketing Associate",
          "Marketing Associate",
          "Software Engineer",
          "Financial Analyst",
          "Manager",
          "Graphic Designer",
          "Graphic Designer",
          "Software Engineer",
          "Financial Analyst",
          "Sales Associate",
          "Marketing Associate",
          "Warehouse Associate",
          "Software Engineer",
          "Sales Associate",
          "Financial Analyst",
          "Marketing Associate",
          "Marketing Associate",
          "Graphic Designer",
          "Graphic Designer",
          "Manager",
          "Marketing Associate",
          "Data Scientist",
          "Financial Analyst",
          "IT",
          "Manager",
          "Financial Analyst",
          "Sales Associate",
          "Software Engineer",
          "Warehouse Associate",
          "Driver",
          "Manager",
          "Sales Associate",
          "Graphic Designer",
          "Manager",
          "Marketing Associate",
          "Software Engineer",
          "Sales Associate",
          "Software Engineer",
          "Graphic Designer",
          "Sales Associate",
          "Marketing Associate",
          "Driver",
          "Marketing Associate",
          "Sales Associate",
          "Software Engineer",
          "Marketing Associate",
          "Graphic Designer",
          "Graphic Designer",
          "Driver",
          "Marketing Associate",
          "Marketing Associate",
          "Sales Associate",
          "Driver",
          "Driver",
          "Sales Associate",
          "Marketing Associate",
          "Graphic Designer",
          "Sales Associate",
          "IT",
          "Financial Analyst",
          "Driver",
          "Financial Analyst",
          "Marketing Associate",
          "Data Scientist",
          "Warehouse Associate",
          "Marketing Associate",
          "Manager",
          "Software Engineer",
          "Driver",
          "Warehouse Associate",
          "Manager",
          "Driver",
          "Sales Associate",
          "Marketing Associate",
          "Software Engineer",
          "Data Scientist",
          "Graphic Designer",
          "Financial Analyst",
          "Manager",
          "Data Scientist",
          "Manager",
          "Marketing Associate",
          "Data Scientist",
          "Warehouse Associate",
          "Graphic Designer",
          "Sales Associate",
          "Sales Associate",
          "Marketing Associate",
          "Software Engineer",
          "Manager",
          "IT",
          "Manager",
          "Software Engineer",
          "Data Scientist",
          "IT",
          "Data Scientist",
          "Graphic Designer",
          "Marketing Associate",
          "Manager",
          "Data Scientist",
          "Software Engineer",
          "Financial Analyst",
          "Financial Analyst",
          "Warehouse Associate",
          "Financial Analyst",
          "Graphic Designer",
          "Financial Analyst",
          "Financial Analyst",
          "Data Scientist",
          "Manager",
          "IT",
          "IT",
          "Sales Associate",
          "IT",
          "IT",
          "Financial Analyst",
          "Marketing Associate",
          "Data Scientist",
          "Marketing Associate",
          "Software Engineer",
          "Data Scientist",
          "Manager",
          "Graphic Designer",
          "Marketing Associate",
          "Financial Analyst",
          "IT",
          "IT",
          "Financial Analyst",
          "Driver",
          "Manager",
          "Manager",
          "Sales Associate",
          "Marketing Associate",
          "Driver",
          "Data Scientist",
          "Driver",
          "Marketing Associate",
          "Marketing Associate",
          "Software Engineer",
          "Driver",
          "Financial Analyst",
          "Graphic Designer",
          "Sales Associate",
          "Graphic Designer",
          "Driver",
          "Marketing Associate",
          "Financial Analyst",
          "Driver",
          "Sales Associate",
          "Software Engineer",
          "IT",
          "Marketing Associate",
          "Software Engineer",
          "IT",
          "Manager",
          "IT",
          "Data Scientist",
          "Data Scientist",
          "Manager",
          "Marketing Associate",
          "Sales Associate",
          "Financial Analyst",
          "IT",
          "Software Engineer",
          "Sales Associate",
          "Software Engineer",
          "Data Scientist",
          "Manager",
          "Manager",
          "Warehouse Associate",
          "IT",
          "Software Engineer",
          "IT",
          "Marketing Associate",
          "IT",
          "Data Scientist",
          "Manager",
          "IT",
          "Financial Analyst",
          "Software Engineer",
          "Graphic Designer",
          "Sales Associate",
          "Financial Analyst",
          "Driver",
          "Data Scientist",
          "IT",
          "Marketing Associate",
          "Data Scientist",
          "Data Scientist",
          "Driver",
          "Driver",
          "Financial Analyst",
          "Sales Associate",
          "Financial Analyst",
          "IT",
          "Marketing Associate",
          "Warehouse Associate",
          "Marketing Associate",
          "Sales Associate",
          "Software Engineer",
          "Manager",
          "Data Scientist",
          "Software Engineer",
          "Warehouse Associate",
          "Software Engineer",
          "Marketing Associate",
          "Sales Associate",
          "Financial Analyst",
          "Sales Associate",
          "IT",
          "Marketing Associate",
          "IT",
          "Sales Associate",
          "Software Engineer",
          "Marketing Associate",
          "IT",
          "Manager",
          "Data Scientist",
          "Marketing Associate",
          "Sales Associate",
          "Financial Analyst",
          "Graphic Designer",
          "IT",
          "Graphic Designer",
          "Marketing Associate",
          "Marketing Associate",
          "Marketing Associate",
          "Data Scientist",
          "Financial Analyst",
          "Financial Analyst",
          "Financial Analyst"
         ],
         "legendgroup": "",
         "name": "",
         "showlegend": true,
         "type": "pie"
        }
       ],
       "layout": {
        "legend": {
         "tracegroupgap": 0
        },
        "margin": {
         "t": 60
        },
        "template": {
         "data": {
          "bar": [
           {
            "error_x": {
             "color": "#2a3f5f"
            },
            "error_y": {
             "color": "#2a3f5f"
            },
            "marker": {
             "line": {
              "color": "#E5ECF6",
              "width": 0.5
             },
             "pattern": {
              "fillmode": "overlay",
              "size": 10,
              "solidity": 0.2
             }
            },
            "type": "bar"
           }
          ],
          "barpolar": [
           {
            "marker": {
             "line": {
              "color": "#E5ECF6",
              "width": 0.5
             },
             "pattern": {
              "fillmode": "overlay",
              "size": 10,
              "solidity": 0.2
             }
            },
            "type": "barpolar"
           }
          ],
          "carpet": [
           {
            "aaxis": {
             "endlinecolor": "#2a3f5f",
             "gridcolor": "white",
             "linecolor": "white",
             "minorgridcolor": "white",
             "startlinecolor": "#2a3f5f"
            },
            "baxis": {
             "endlinecolor": "#2a3f5f",
             "gridcolor": "white",
             "linecolor": "white",
             "minorgridcolor": "white",
             "startlinecolor": "#2a3f5f"
            },
            "type": "carpet"
           }
          ],
          "choropleth": [
           {
            "colorbar": {
             "outlinewidth": 0,
             "ticks": ""
            },
            "type": "choropleth"
           }
          ],
          "contour": [
           {
            "colorbar": {
             "outlinewidth": 0,
             "ticks": ""
            },
            "colorscale": [
             [
              0,
              "#0d0887"
             ],
             [
              0.1111111111111111,
              "#46039f"
             ],
             [
              0.2222222222222222,
              "#7201a8"
             ],
             [
              0.3333333333333333,
              "#9c179e"
             ],
             [
              0.4444444444444444,
              "#bd3786"
             ],
             [
              0.5555555555555556,
              "#d8576b"
             ],
             [
              0.6666666666666666,
              "#ed7953"
             ],
             [
              0.7777777777777778,
              "#fb9f3a"
             ],
             [
              0.8888888888888888,
              "#fdca26"
             ],
             [
              1,
              "#f0f921"
             ]
            ],
            "type": "contour"
           }
          ],
          "contourcarpet": [
           {
            "colorbar": {
             "outlinewidth": 0,
             "ticks": ""
            },
            "type": "contourcarpet"
           }
          ],
          "heatmap": [
           {
            "colorbar": {
             "outlinewidth": 0,
             "ticks": ""
            },
            "colorscale": [
             [
              0,
              "#0d0887"
             ],
             [
              0.1111111111111111,
              "#46039f"
             ],
             [
              0.2222222222222222,
              "#7201a8"
             ],
             [
              0.3333333333333333,
              "#9c179e"
             ],
             [
              0.4444444444444444,
              "#bd3786"
             ],
             [
              0.5555555555555556,
              "#d8576b"
             ],
             [
              0.6666666666666666,
              "#ed7953"
             ],
             [
              0.7777777777777778,
              "#fb9f3a"
             ],
             [
              0.8888888888888888,
              "#fdca26"
             ],
             [
              1,
              "#f0f921"
             ]
            ],
            "type": "heatmap"
           }
          ],
          "heatmapgl": [
           {
            "colorbar": {
             "outlinewidth": 0,
             "ticks": ""
            },
            "colorscale": [
             [
              0,
              "#0d0887"
             ],
             [
              0.1111111111111111,
              "#46039f"
             ],
             [
              0.2222222222222222,
              "#7201a8"
             ],
             [
              0.3333333333333333,
              "#9c179e"
             ],
             [
              0.4444444444444444,
              "#bd3786"
             ],
             [
              0.5555555555555556,
              "#d8576b"
             ],
             [
              0.6666666666666666,
              "#ed7953"
             ],
             [
              0.7777777777777778,
              "#fb9f3a"
             ],
             [
              0.8888888888888888,
              "#fdca26"
             ],
             [
              1,
              "#f0f921"
             ]
            ],
            "type": "heatmapgl"
           }
          ],
          "histogram": [
           {
            "marker": {
             "pattern": {
              "fillmode": "overlay",
              "size": 10,
              "solidity": 0.2
             }
            },
            "type": "histogram"
           }
          ],
          "histogram2d": [
           {
            "colorbar": {
             "outlinewidth": 0,
             "ticks": ""
            },
            "colorscale": [
             [
              0,
              "#0d0887"
             ],
             [
              0.1111111111111111,
              "#46039f"
             ],
             [
              0.2222222222222222,
              "#7201a8"
             ],
             [
              0.3333333333333333,
              "#9c179e"
             ],
             [
              0.4444444444444444,
              "#bd3786"
             ],
             [
              0.5555555555555556,
              "#d8576b"
             ],
             [
              0.6666666666666666,
              "#ed7953"
             ],
             [
              0.7777777777777778,
              "#fb9f3a"
             ],
             [
              0.8888888888888888,
              "#fdca26"
             ],
             [
              1,
              "#f0f921"
             ]
            ],
            "type": "histogram2d"
           }
          ],
          "histogram2dcontour": [
           {
            "colorbar": {
             "outlinewidth": 0,
             "ticks": ""
            },
            "colorscale": [
             [
              0,
              "#0d0887"
             ],
             [
              0.1111111111111111,
              "#46039f"
             ],
             [
              0.2222222222222222,
              "#7201a8"
             ],
             [
              0.3333333333333333,
              "#9c179e"
             ],
             [
              0.4444444444444444,
              "#bd3786"
             ],
             [
              0.5555555555555556,
              "#d8576b"
             ],
             [
              0.6666666666666666,
              "#ed7953"
             ],
             [
              0.7777777777777778,
              "#fb9f3a"
             ],
             [
              0.8888888888888888,
              "#fdca26"
             ],
             [
              1,
              "#f0f921"
             ]
            ],
            "type": "histogram2dcontour"
           }
          ],
          "mesh3d": [
           {
            "colorbar": {
             "outlinewidth": 0,
             "ticks": ""
            },
            "type": "mesh3d"
           }
          ],
          "parcoords": [
           {
            "line": {
             "colorbar": {
              "outlinewidth": 0,
              "ticks": ""
             }
            },
            "type": "parcoords"
           }
          ],
          "pie": [
           {
            "automargin": true,
            "type": "pie"
           }
          ],
          "scatter": [
           {
            "fillpattern": {
             "fillmode": "overlay",
             "size": 10,
             "solidity": 0.2
            },
            "type": "scatter"
           }
          ],
          "scatter3d": [
           {
            "line": {
             "colorbar": {
              "outlinewidth": 0,
              "ticks": ""
             }
            },
            "marker": {
             "colorbar": {
              "outlinewidth": 0,
              "ticks": ""
             }
            },
            "type": "scatter3d"
           }
          ],
          "scattercarpet": [
           {
            "marker": {
             "colorbar": {
              "outlinewidth": 0,
              "ticks": ""
             }
            },
            "type": "scattercarpet"
           }
          ],
          "scattergeo": [
           {
            "marker": {
             "colorbar": {
              "outlinewidth": 0,
              "ticks": ""
             }
            },
            "type": "scattergeo"
           }
          ],
          "scattergl": [
           {
            "marker": {
             "colorbar": {
              "outlinewidth": 0,
              "ticks": ""
             }
            },
            "type": "scattergl"
           }
          ],
          "scattermapbox": [
           {
            "marker": {
             "colorbar": {
              "outlinewidth": 0,
              "ticks": ""
             }
            },
            "type": "scattermapbox"
           }
          ],
          "scatterpolar": [
           {
            "marker": {
             "colorbar": {
              "outlinewidth": 0,
              "ticks": ""
             }
            },
            "type": "scatterpolar"
           }
          ],
          "scatterpolargl": [
           {
            "marker": {
             "colorbar": {
              "outlinewidth": 0,
              "ticks": ""
             }
            },
            "type": "scatterpolargl"
           }
          ],
          "scatterternary": [
           {
            "marker": {
             "colorbar": {
              "outlinewidth": 0,
              "ticks": ""
             }
            },
            "type": "scatterternary"
           }
          ],
          "surface": [
           {
            "colorbar": {
             "outlinewidth": 0,
             "ticks": ""
            },
            "colorscale": [
             [
              0,
              "#0d0887"
             ],
             [
              0.1111111111111111,
              "#46039f"
             ],
             [
              0.2222222222222222,
              "#7201a8"
             ],
             [
              0.3333333333333333,
              "#9c179e"
             ],
             [
              0.4444444444444444,
              "#bd3786"
             ],
             [
              0.5555555555555556,
              "#d8576b"
             ],
             [
              0.6666666666666666,
              "#ed7953"
             ],
             [
              0.7777777777777778,
              "#fb9f3a"
             ],
             [
              0.8888888888888888,
              "#fdca26"
             ],
             [
              1,
              "#f0f921"
             ]
            ],
            "type": "surface"
           }
          ],
          "table": [
           {
            "cells": {
             "fill": {
              "color": "#EBF0F8"
             },
             "line": {
              "color": "white"
             }
            },
            "header": {
             "fill": {
              "color": "#C8D4E3"
             },
             "line": {
              "color": "white"
             }
            },
            "type": "table"
           }
          ]
         },
         "layout": {
          "annotationdefaults": {
           "arrowcolor": "#2a3f5f",
           "arrowhead": 0,
           "arrowwidth": 1
          },
          "autotypenumbers": "strict",
          "coloraxis": {
           "colorbar": {
            "outlinewidth": 0,
            "ticks": ""
           }
          },
          "colorscale": {
           "diverging": [
            [
             0,
             "#8e0152"
            ],
            [
             0.1,
             "#c51b7d"
            ],
            [
             0.2,
             "#de77ae"
            ],
            [
             0.3,
             "#f1b6da"
            ],
            [
             0.4,
             "#fde0ef"
            ],
            [
             0.5,
             "#f7f7f7"
            ],
            [
             0.6,
             "#e6f5d0"
            ],
            [
             0.7,
             "#b8e186"
            ],
            [
             0.8,
             "#7fbc41"
            ],
            [
             0.9,
             "#4d9221"
            ],
            [
             1,
             "#276419"
            ]
           ],
           "sequential": [
            [
             0,
             "#0d0887"
            ],
            [
             0.1111111111111111,
             "#46039f"
            ],
            [
             0.2222222222222222,
             "#7201a8"
            ],
            [
             0.3333333333333333,
             "#9c179e"
            ],
            [
             0.4444444444444444,
             "#bd3786"
            ],
            [
             0.5555555555555556,
             "#d8576b"
            ],
            [
             0.6666666666666666,
             "#ed7953"
            ],
            [
             0.7777777777777778,
             "#fb9f3a"
            ],
            [
             0.8888888888888888,
             "#fdca26"
            ],
            [
             1,
             "#f0f921"
            ]
           ],
           "sequentialminus": [
            [
             0,
             "#0d0887"
            ],
            [
             0.1111111111111111,
             "#46039f"
            ],
            [
             0.2222222222222222,
             "#7201a8"
            ],
            [
             0.3333333333333333,
             "#9c179e"
            ],
            [
             0.4444444444444444,
             "#bd3786"
            ],
            [
             0.5555555555555556,
             "#d8576b"
            ],
            [
             0.6666666666666666,
             "#ed7953"
            ],
            [
             0.7777777777777778,
             "#fb9f3a"
            ],
            [
             0.8888888888888888,
             "#fdca26"
            ],
            [
             1,
             "#f0f921"
            ]
           ]
          },
          "colorway": [
           "#636efa",
           "#EF553B",
           "#00cc96",
           "#ab63fa",
           "#FFA15A",
           "#19d3f3",
           "#FF6692",
           "#B6E880",
           "#FF97FF",
           "#FECB52"
          ],
          "font": {
           "color": "#2a3f5f"
          },
          "geo": {
           "bgcolor": "white",
           "lakecolor": "white",
           "landcolor": "#E5ECF6",
           "showlakes": true,
           "showland": true,
           "subunitcolor": "white"
          },
          "hoverlabel": {
           "align": "left"
          },
          "hovermode": "closest",
          "mapbox": {
           "style": "light"
          },
          "paper_bgcolor": "white",
          "plot_bgcolor": "#E5ECF6",
          "polar": {
           "angularaxis": {
            "gridcolor": "white",
            "linecolor": "white",
            "ticks": ""
           },
           "bgcolor": "#E5ECF6",
           "radialaxis": {
            "gridcolor": "white",
            "linecolor": "white",
            "ticks": ""
           }
          },
          "scene": {
           "xaxis": {
            "backgroundcolor": "#E5ECF6",
            "gridcolor": "white",
            "gridwidth": 2,
            "linecolor": "white",
            "showbackground": true,
            "ticks": "",
            "zerolinecolor": "white"
           },
           "yaxis": {
            "backgroundcolor": "#E5ECF6",
            "gridcolor": "white",
            "gridwidth": 2,
            "linecolor": "white",
            "showbackground": true,
            "ticks": "",
            "zerolinecolor": "white"
           },
           "zaxis": {
            "backgroundcolor": "#E5ECF6",
            "gridcolor": "white",
            "gridwidth": 2,
            "linecolor": "white",
            "showbackground": true,
            "ticks": "",
            "zerolinecolor": "white"
           }
          },
          "shapedefaults": {
           "line": {
            "color": "#2a3f5f"
           }
          },
          "ternary": {
           "aaxis": {
            "gridcolor": "white",
            "linecolor": "white",
            "ticks": ""
           },
           "baxis": {
            "gridcolor": "white",
            "linecolor": "white",
            "ticks": ""
           },
           "bgcolor": "#E5ECF6",
           "caxis": {
            "gridcolor": "white",
            "linecolor": "white",
            "ticks": ""
           }
          },
          "title": {
           "x": 0.05
          },
          "xaxis": {
           "automargin": true,
           "gridcolor": "white",
           "linecolor": "white",
           "ticks": "",
           "title": {
            "standoff": 15
           },
           "zerolinecolor": "white",
           "zerolinewidth": 2
          },
          "yaxis": {
           "automargin": true,
           "gridcolor": "white",
           "linecolor": "white",
           "ticks": "",
           "title": {
            "standoff": 15
           },
           "zerolinecolor": "white",
           "zerolinewidth": 2
          }
         }
        }
       }
      }
     },
     "metadata": {},
     "output_type": "display_data"
    }
   ],
   "source": [
    "px.pie(df,names='JobTitle')"
   ]
  },
  {
   "cell_type": "markdown",
   "metadata": {},
   "source": [
    "Here in this figure we can see that, how many people are intrested(percentage) in particular field."
   ]
  },
  {
   "cell_type": "markdown",
   "metadata": {},
   "source": [
    "# Histogram"
   ]
  },
  {
   "cell_type": "code",
   "execution_count": 18,
   "metadata": {},
   "outputs": [
    {
     "data": {
      "application/vnd.plotly.v1+json": {
       "config": {
        "plotlyServerURL": "https://plot.ly"
       },
       "data": [
        {
         "alignmentgroup": "True",
         "bingroup": "x",
         "histfunc": "sum",
         "hovertemplate": "JobTitle=%{x}<br>sum of BasePay=%{y}<extra></extra>",
         "legendgroup": "Graphic Designer",
         "marker": {
          "color": "#636efa",
          "pattern": {
           "shape": ""
          }
         },
         "name": "Graphic Designer",
         "offsetgroup": "Graphic Designer",
         "orientation": "v",
         "showlegend": true,
         "type": "histogram",
         "x": [
          "Graphic Designer",
          "Graphic Designer",
          "Graphic Designer",
          "Graphic Designer",
          "Graphic Designer",
          "Graphic Designer",
          "Graphic Designer",
          "Graphic Designer",
          "Graphic Designer",
          "Graphic Designer",
          "Graphic Designer",
          "Graphic Designer",
          "Graphic Designer",
          "Graphic Designer",
          "Graphic Designer",
          "Graphic Designer",
          "Graphic Designer",
          "Graphic Designer",
          "Graphic Designer",
          "Graphic Designer",
          "Graphic Designer",
          "Graphic Designer",
          "Graphic Designer",
          "Graphic Designer",
          "Graphic Designer",
          "Graphic Designer",
          "Graphic Designer",
          "Graphic Designer",
          "Graphic Designer",
          "Graphic Designer",
          "Graphic Designer",
          "Graphic Designer",
          "Graphic Designer",
          "Graphic Designer",
          "Graphic Designer",
          "Graphic Designer",
          "Graphic Designer",
          "Graphic Designer",
          "Graphic Designer",
          "Graphic Designer",
          "Graphic Designer",
          "Graphic Designer",
          "Graphic Designer",
          "Graphic Designer",
          "Graphic Designer",
          "Graphic Designer",
          "Graphic Designer",
          "Graphic Designer",
          "Graphic Designer",
          "Graphic Designer",
          "Graphic Designer",
          "Graphic Designer",
          "Graphic Designer",
          "Graphic Designer",
          "Graphic Designer",
          "Graphic Designer",
          "Graphic Designer",
          "Graphic Designer",
          "Graphic Designer",
          "Graphic Designer",
          "Graphic Designer",
          "Graphic Designer",
          "Graphic Designer",
          "Graphic Designer",
          "Graphic Designer",
          "Graphic Designer",
          "Graphic Designer",
          "Graphic Designer",
          "Graphic Designer",
          "Graphic Designer",
          "Graphic Designer",
          "Graphic Designer",
          "Graphic Designer",
          "Graphic Designer",
          "Graphic Designer",
          "Graphic Designer",
          "Graphic Designer",
          "Graphic Designer",
          "Graphic Designer",
          "Graphic Designer",
          "Graphic Designer",
          "Graphic Designer",
          "Graphic Designer",
          "Graphic Designer",
          "Graphic Designer",
          "Graphic Designer",
          "Graphic Designer",
          "Graphic Designer",
          "Graphic Designer",
          "Graphic Designer",
          "Graphic Designer",
          "Graphic Designer",
          "Graphic Designer",
          "Graphic Designer",
          "Graphic Designer",
          "Graphic Designer",
          "Graphic Designer",
          "Graphic Designer"
         ],
         "xaxis": "x",
         "y": [
          42363,
          99464,
          67585,
          112976,
          102261,
          71182,
          88566,
          74167,
          86766,
          83031,
          69462,
          96045,
          78462,
          83758,
          40187,
          66529,
          108241,
          61000,
          93073,
          106887,
          100416,
          89411,
          57398,
          120294,
          102736,
          75506,
          81826,
          50601,
          103133,
          114680,
          72301,
          108820,
          102108,
          132873,
          95169,
          88571,
          130251,
          116751,
          99543,
          66125,
          125770,
          56954,
          59399,
          79144,
          107025,
          100516,
          105800,
          118762,
          106893,
          85702,
          75833,
          123371,
          105632,
          127608,
          104082,
          126100,
          120697,
          70311,
          66611,
          70559,
          69734,
          91504,
          55845,
          106883,
          113465,
          55569,
          97240,
          84803,
          41603,
          72422,
          97768,
          76103,
          100160,
          80635,
          133741,
          99942,
          101273,
          75316,
          111502,
          106204,
          111041,
          107818,
          108731,
          114048,
          82057,
          73142,
          107065,
          115344,
          96232,
          72248,
          75017,
          135512,
          96609,
          63914,
          90474,
          36642,
          91030,
          81545
         ],
         "yaxis": "y"
        },
        {
         "alignmentgroup": "True",
         "bingroup": "x",
         "histfunc": "sum",
         "hovertemplate": "JobTitle=%{x}<br>sum of BasePay=%{y}<extra></extra>",
         "legendgroup": "Software Engineer",
         "marker": {
          "color": "#EF553B",
          "pattern": {
           "shape": ""
          }
         },
         "name": "Software Engineer",
         "offsetgroup": "Software Engineer",
         "orientation": "v",
         "showlegend": true,
         "type": "histogram",
         "x": [
          "Software Engineer",
          "Software Engineer",
          "Software Engineer",
          "Software Engineer",
          "Software Engineer",
          "Software Engineer",
          "Software Engineer",
          "Software Engineer",
          "Software Engineer",
          "Software Engineer",
          "Software Engineer",
          "Software Engineer",
          "Software Engineer",
          "Software Engineer",
          "Software Engineer",
          "Software Engineer",
          "Software Engineer",
          "Software Engineer",
          "Software Engineer",
          "Software Engineer",
          "Software Engineer",
          "Software Engineer",
          "Software Engineer",
          "Software Engineer",
          "Software Engineer",
          "Software Engineer",
          "Software Engineer",
          "Software Engineer",
          "Software Engineer",
          "Software Engineer",
          "Software Engineer",
          "Software Engineer",
          "Software Engineer",
          "Software Engineer",
          "Software Engineer",
          "Software Engineer",
          "Software Engineer",
          "Software Engineer",
          "Software Engineer",
          "Software Engineer",
          "Software Engineer",
          "Software Engineer",
          "Software Engineer",
          "Software Engineer",
          "Software Engineer",
          "Software Engineer",
          "Software Engineer",
          "Software Engineer",
          "Software Engineer",
          "Software Engineer",
          "Software Engineer",
          "Software Engineer",
          "Software Engineer",
          "Software Engineer",
          "Software Engineer",
          "Software Engineer",
          "Software Engineer",
          "Software Engineer",
          "Software Engineer",
          "Software Engineer",
          "Software Engineer",
          "Software Engineer",
          "Software Engineer",
          "Software Engineer",
          "Software Engineer",
          "Software Engineer",
          "Software Engineer",
          "Software Engineer",
          "Software Engineer",
          "Software Engineer",
          "Software Engineer",
          "Software Engineer",
          "Software Engineer",
          "Software Engineer",
          "Software Engineer",
          "Software Engineer",
          "Software Engineer",
          "Software Engineer",
          "Software Engineer",
          "Software Engineer",
          "Software Engineer",
          "Software Engineer",
          "Software Engineer",
          "Software Engineer",
          "Software Engineer",
          "Software Engineer",
          "Software Engineer",
          "Software Engineer",
          "Software Engineer",
          "Software Engineer",
          "Software Engineer",
          "Software Engineer",
          "Software Engineer",
          "Software Engineer",
          "Software Engineer",
          "Software Engineer",
          "Software Engineer",
          "Software Engineer",
          "Software Engineer",
          "Software Engineer",
          "Software Engineer",
          "Software Engineer",
          "Software Engineer",
          "Software Engineer",
          "Software Engineer",
          "Software Engineer",
          "Software Engineer",
          "Software Engineer",
          "Software Engineer"
         ],
         "xaxis": "x",
         "y": [
          108476,
          108080,
          97523,
          132823,
          100305,
          66359,
          96040,
          91674,
          92928,
          88724,
          119024,
          81503,
          89474,
          88037,
          112466,
          88814,
          68466,
          80355,
          82534,
          125572,
          103763,
          68295,
          79208,
          142105,
          109623,
          120593,
          106896,
          87352,
          139760,
          101262,
          77309,
          88482,
          120156,
          65711,
          66084,
          130826,
          74316,
          107366,
          139841,
          111903,
          155834,
          140445,
          86675,
          112491,
          157852,
          134758,
          61527,
          112134,
          124817,
          92099,
          155676,
          124871,
          92289,
          102597,
          145632,
          89811,
          154039,
          98281,
          121821,
          113122,
          92154,
          76654,
          118231,
          110886,
          83264,
          106146,
          95754,
          114029,
          134757,
          103978,
          89225,
          79462,
          87848,
          132323,
          71278,
          126239,
          119522,
          128680,
          109136,
          94745,
          103181,
          120096,
          157277,
          122624,
          106503,
          67913,
          138184,
          117131,
          79177,
          139068,
          121910,
          82277,
          81515,
          81057,
          65313,
          55555,
          160460,
          86650,
          104623,
          86375,
          118282,
          127250,
          81547,
          124660,
          93855,
          132815,
          106045,
          109606,
          119069
         ],
         "yaxis": "y"
        },
        {
         "alignmentgroup": "True",
         "bingroup": "x",
         "histfunc": "sum",
         "hovertemplate": "JobTitle=%{x}<br>sum of BasePay=%{y}<extra></extra>",
         "legendgroup": "Warehouse Associate",
         "marker": {
          "color": "#00cc96",
          "pattern": {
           "shape": ""
          }
         },
         "name": "Warehouse Associate",
         "offsetgroup": "Warehouse Associate",
         "orientation": "v",
         "showlegend": true,
         "type": "histogram",
         "x": [
          "Warehouse Associate",
          "Warehouse Associate",
          "Warehouse Associate",
          "Warehouse Associate",
          "Warehouse Associate",
          "Warehouse Associate",
          "Warehouse Associate",
          "Warehouse Associate",
          "Warehouse Associate",
          "Warehouse Associate",
          "Warehouse Associate",
          "Warehouse Associate",
          "Warehouse Associate",
          "Warehouse Associate",
          "Warehouse Associate",
          "Warehouse Associate",
          "Warehouse Associate",
          "Warehouse Associate",
          "Warehouse Associate",
          "Warehouse Associate",
          "Warehouse Associate",
          "Warehouse Associate",
          "Warehouse Associate",
          "Warehouse Associate",
          "Warehouse Associate",
          "Warehouse Associate",
          "Warehouse Associate",
          "Warehouse Associate",
          "Warehouse Associate",
          "Warehouse Associate",
          "Warehouse Associate",
          "Warehouse Associate",
          "Warehouse Associate",
          "Warehouse Associate",
          "Warehouse Associate",
          "Warehouse Associate",
          "Warehouse Associate",
          "Warehouse Associate",
          "Warehouse Associate",
          "Warehouse Associate",
          "Warehouse Associate",
          "Warehouse Associate",
          "Warehouse Associate",
          "Warehouse Associate",
          "Warehouse Associate",
          "Warehouse Associate",
          "Warehouse Associate",
          "Warehouse Associate",
          "Warehouse Associate",
          "Warehouse Associate",
          "Warehouse Associate",
          "Warehouse Associate",
          "Warehouse Associate",
          "Warehouse Associate",
          "Warehouse Associate",
          "Warehouse Associate",
          "Warehouse Associate",
          "Warehouse Associate",
          "Warehouse Associate",
          "Warehouse Associate",
          "Warehouse Associate",
          "Warehouse Associate",
          "Warehouse Associate",
          "Warehouse Associate",
          "Warehouse Associate",
          "Warehouse Associate",
          "Warehouse Associate",
          "Warehouse Associate",
          "Warehouse Associate",
          "Warehouse Associate",
          "Warehouse Associate",
          "Warehouse Associate",
          "Warehouse Associate",
          "Warehouse Associate",
          "Warehouse Associate",
          "Warehouse Associate",
          "Warehouse Associate",
          "Warehouse Associate",
          "Warehouse Associate",
          "Warehouse Associate",
          "Warehouse Associate",
          "Warehouse Associate",
          "Warehouse Associate",
          "Warehouse Associate",
          "Warehouse Associate",
          "Warehouse Associate",
          "Warehouse Associate",
          "Warehouse Associate",
          "Warehouse Associate",
          "Warehouse Associate"
         ],
         "xaxis": "x",
         "y": [
          90208,
          86220,
          95584,
          99545,
          108446,
          85205,
          104271,
          58219,
          82453,
          127085,
          101154,
          74938,
          77584,
          80192,
          48755,
          59044,
          109419,
          111342,
          92358,
          76517,
          87684,
          88994,
          68639,
          64844,
          93470,
          86423,
          106478,
          108922,
          102815,
          106158,
          121376,
          92722,
          62260,
          62097,
          37026,
          83025,
          94973,
          133927,
          56172,
          77793,
          84930,
          93306,
          91568,
          76865,
          85306,
          87134,
          114479,
          64624,
          90005,
          78021,
          66407,
          72945,
          92080,
          77655,
          116774,
          94927,
          83774,
          114733,
          81988,
          68300,
          68384,
          128669,
          82244,
          100465,
          126375,
          106233,
          58130,
          118322,
          79274,
          63928,
          79334,
          125574,
          92516,
          106963,
          90612,
          93441,
          85453,
          102106,
          71371,
          87575,
          134109,
          82343,
          64994,
          120277,
          90000,
          74829,
          106722,
          126256,
          45915,
          107479
         ],
         "yaxis": "y"
        },
        {
         "alignmentgroup": "True",
         "bingroup": "x",
         "histfunc": "sum",
         "hovertemplate": "JobTitle=%{x}<br>sum of BasePay=%{y}<extra></extra>",
         "legendgroup": "IT",
         "marker": {
          "color": "#ab63fa",
          "pattern": {
           "shape": ""
          }
         },
         "name": "IT",
         "offsetgroup": "IT",
         "orientation": "v",
         "showlegend": true,
         "type": "histogram",
         "x": [
          "IT",
          "IT",
          "IT",
          "IT",
          "IT",
          "IT",
          "IT",
          "IT",
          "IT",
          "IT",
          "IT",
          "IT",
          "IT",
          "IT",
          "IT",
          "IT",
          "IT",
          "IT",
          "IT",
          "IT",
          "IT",
          "IT",
          "IT",
          "IT",
          "IT",
          "IT",
          "IT",
          "IT",
          "IT",
          "IT",
          "IT",
          "IT",
          "IT",
          "IT",
          "IT",
          "IT",
          "IT",
          "IT",
          "IT",
          "IT",
          "IT",
          "IT",
          "IT",
          "IT",
          "IT",
          "IT",
          "IT",
          "IT",
          "IT",
          "IT",
          "IT",
          "IT",
          "IT",
          "IT",
          "IT",
          "IT",
          "IT",
          "IT",
          "IT",
          "IT",
          "IT",
          "IT",
          "IT",
          "IT",
          "IT",
          "IT",
          "IT",
          "IT",
          "IT",
          "IT",
          "IT",
          "IT",
          "IT",
          "IT",
          "IT",
          "IT",
          "IT",
          "IT",
          "IT",
          "IT",
          "IT",
          "IT",
          "IT",
          "IT",
          "IT",
          "IT",
          "IT",
          "IT",
          "IT",
          "IT",
          "IT",
          "IT",
          "IT",
          "IT",
          "IT",
          "IT"
         ],
         "xaxis": "x",
         "y": [
          70890,
          112392,
          84638,
          78986,
          102120,
          88152,
          127769,
          47036,
          53956,
          108495,
          126828,
          69855,
          72542,
          80981,
          83499,
          127062,
          74073,
          90024,
          54245,
          109345,
          78113,
          98515,
          102247,
          64958,
          100014,
          95964,
          82126,
          37780,
          121210,
          104361,
          98100,
          133472,
          75811,
          79544,
          70846,
          75932,
          56309,
          91066,
          131275,
          98456,
          75518,
          64468,
          94354,
          88749,
          77881,
          65225,
          56656,
          70157,
          99369,
          67323,
          93335,
          45747,
          132267,
          90542,
          111120,
          165229,
          105598,
          49622,
          98423,
          111770,
          106584,
          81325,
          118314,
          101791,
          84878,
          55560,
          104589,
          61081,
          126370,
          103416,
          124847,
          113283,
          93802,
          96982,
          57500,
          101050,
          93358,
          131411,
          98995,
          109645,
          64807,
          41151,
          49449,
          99472,
          85648,
          109832,
          92257,
          59377,
          112502,
          89272,
          105771,
          91447,
          110627,
          92950,
          112169,
          106945
         ],
         "yaxis": "y"
        },
        {
         "alignmentgroup": "True",
         "bingroup": "x",
         "histfunc": "sum",
         "hovertemplate": "JobTitle=%{x}<br>sum of BasePay=%{y}<extra></extra>",
         "legendgroup": "Sales Associate",
         "marker": {
          "color": "#FFA15A",
          "pattern": {
           "shape": ""
          }
         },
         "name": "Sales Associate",
         "offsetgroup": "Sales Associate",
         "orientation": "v",
         "showlegend": true,
         "type": "histogram",
         "x": [
          "Sales Associate",
          "Sales Associate",
          "Sales Associate",
          "Sales Associate",
          "Sales Associate",
          "Sales Associate",
          "Sales Associate",
          "Sales Associate",
          "Sales Associate",
          "Sales Associate",
          "Sales Associate",
          "Sales Associate",
          "Sales Associate",
          "Sales Associate",
          "Sales Associate",
          "Sales Associate",
          "Sales Associate",
          "Sales Associate",
          "Sales Associate",
          "Sales Associate",
          "Sales Associate",
          "Sales Associate",
          "Sales Associate",
          "Sales Associate",
          "Sales Associate",
          "Sales Associate",
          "Sales Associate",
          "Sales Associate",
          "Sales Associate",
          "Sales Associate",
          "Sales Associate",
          "Sales Associate",
          "Sales Associate",
          "Sales Associate",
          "Sales Associate",
          "Sales Associate",
          "Sales Associate",
          "Sales Associate",
          "Sales Associate",
          "Sales Associate",
          "Sales Associate",
          "Sales Associate",
          "Sales Associate",
          "Sales Associate",
          "Sales Associate",
          "Sales Associate",
          "Sales Associate",
          "Sales Associate",
          "Sales Associate",
          "Sales Associate",
          "Sales Associate",
          "Sales Associate",
          "Sales Associate",
          "Sales Associate",
          "Sales Associate",
          "Sales Associate",
          "Sales Associate",
          "Sales Associate",
          "Sales Associate",
          "Sales Associate",
          "Sales Associate",
          "Sales Associate",
          "Sales Associate",
          "Sales Associate",
          "Sales Associate",
          "Sales Associate",
          "Sales Associate",
          "Sales Associate",
          "Sales Associate",
          "Sales Associate",
          "Sales Associate",
          "Sales Associate",
          "Sales Associate",
          "Sales Associate",
          "Sales Associate",
          "Sales Associate",
          "Sales Associate",
          "Sales Associate",
          "Sales Associate",
          "Sales Associate",
          "Sales Associate",
          "Sales Associate",
          "Sales Associate",
          "Sales Associate",
          "Sales Associate",
          "Sales Associate",
          "Sales Associate",
          "Sales Associate",
          "Sales Associate",
          "Sales Associate",
          "Sales Associate",
          "Sales Associate",
          "Sales Associate",
          "Sales Associate"
         ],
         "xaxis": "x",
         "y": [
          106524,
          90386,
          103007,
          90780,
          83034,
          66168,
          52633,
          52290,
          84132,
          135013,
          115165,
          84844,
          57783,
          129425,
          129609,
          100091,
          80135,
          61164,
          93268,
          85928,
          72120,
          108288,
          94492,
          100463,
          92276,
          56745,
          98321,
          77275,
          128173,
          102473,
          89570,
          118653,
          105410,
          113544,
          37898,
          84935,
          85948,
          127561,
          85398,
          91566,
          131608,
          118888,
          110746,
          85986,
          87418,
          76522,
          112188,
          87131,
          90426,
          87585,
          64754,
          75238,
          66377,
          129620,
          81866,
          124470,
          70595,
          101133,
          83095,
          84592,
          121589,
          102745,
          95505,
          98499,
          59334,
          117202,
          66887,
          116642,
          106798,
          78625,
          64920,
          51837,
          136209,
          96023,
          60983,
          120579,
          83308,
          49553,
          130417,
          91342,
          101140,
          96900,
          94154,
          67296,
          101423,
          142505,
          106279,
          112604,
          92468,
          113031,
          88195,
          86795,
          82164,
          102593
         ],
         "yaxis": "y"
        },
        {
         "alignmentgroup": "True",
         "bingroup": "x",
         "histfunc": "sum",
         "hovertemplate": "JobTitle=%{x}<br>sum of BasePay=%{y}<extra></extra>",
         "legendgroup": "Driver",
         "marker": {
          "color": "#19d3f3",
          "pattern": {
           "shape": ""
          }
         },
         "name": "Driver",
         "offsetgroup": "Driver",
         "orientation": "v",
         "showlegend": true,
         "type": "histogram",
         "x": [
          "Driver",
          "Driver",
          "Driver",
          "Driver",
          "Driver",
          "Driver",
          "Driver",
          "Driver",
          "Driver",
          "Driver",
          "Driver",
          "Driver",
          "Driver",
          "Driver",
          "Driver",
          "Driver",
          "Driver",
          "Driver",
          "Driver",
          "Driver",
          "Driver",
          "Driver",
          "Driver",
          "Driver",
          "Driver",
          "Driver",
          "Driver",
          "Driver",
          "Driver",
          "Driver",
          "Driver",
          "Driver",
          "Driver",
          "Driver",
          "Driver",
          "Driver",
          "Driver",
          "Driver",
          "Driver",
          "Driver",
          "Driver",
          "Driver",
          "Driver",
          "Driver",
          "Driver",
          "Driver",
          "Driver",
          "Driver",
          "Driver",
          "Driver",
          "Driver",
          "Driver",
          "Driver",
          "Driver",
          "Driver",
          "Driver",
          "Driver",
          "Driver",
          "Driver",
          "Driver",
          "Driver",
          "Driver",
          "Driver",
          "Driver",
          "Driver",
          "Driver",
          "Driver",
          "Driver",
          "Driver",
          "Driver",
          "Driver",
          "Driver",
          "Driver",
          "Driver",
          "Driver",
          "Driver",
          "Driver",
          "Driver",
          "Driver",
          "Driver",
          "Driver",
          "Driver",
          "Driver",
          "Driver",
          "Driver",
          "Driver",
          "Driver",
          "Driver",
          "Driver",
          "Driver",
          "Driver"
         ],
         "xaxis": "x",
         "y": [
          62759,
          72038,
          62692,
          82832,
          77032,
          90368,
          65012,
          97414,
          42722,
          72754,
          91049,
          129132,
          100183,
          110049,
          106788,
          72827,
          102966,
          64008,
          73801,
          90330,
          92687,
          104657,
          56318,
          88213,
          100859,
          75901,
          92458,
          69367,
          78750,
          71824,
          89678,
          68797,
          87998,
          130720,
          88781,
          68403,
          77751,
          79291,
          57070,
          70088,
          118629,
          76700,
          135781,
          101249,
          89170,
          78751,
          86122,
          66203,
          67210,
          43076,
          111726,
          78472,
          100433,
          111043,
          91160,
          101716,
          81301,
          78002,
          51906,
          83333,
          120159,
          95795,
          92760,
          88230,
          128520,
          62753,
          88175,
          113140,
          68175,
          108475,
          75919,
          104468,
          61018,
          118093,
          100941,
          114436,
          107064,
          103242,
          120112,
          110157,
          95898,
          130082,
          59493,
          115981,
          112719,
          103328,
          60026,
          116803,
          97789,
          124530,
          67150
         ],
         "yaxis": "y"
        },
        {
         "alignmentgroup": "True",
         "bingroup": "x",
         "histfunc": "sum",
         "hovertemplate": "JobTitle=%{x}<br>sum of BasePay=%{y}<extra></extra>",
         "legendgroup": "Financial Analyst",
         "marker": {
          "color": "#FF6692",
          "pattern": {
           "shape": ""
          }
         },
         "name": "Financial Analyst",
         "offsetgroup": "Financial Analyst",
         "orientation": "v",
         "showlegend": true,
         "type": "histogram",
         "x": [
          "Financial Analyst",
          "Financial Analyst",
          "Financial Analyst",
          "Financial Analyst",
          "Financial Analyst",
          "Financial Analyst",
          "Financial Analyst",
          "Financial Analyst",
          "Financial Analyst",
          "Financial Analyst",
          "Financial Analyst",
          "Financial Analyst",
          "Financial Analyst",
          "Financial Analyst",
          "Financial Analyst",
          "Financial Analyst",
          "Financial Analyst",
          "Financial Analyst",
          "Financial Analyst",
          "Financial Analyst",
          "Financial Analyst",
          "Financial Analyst",
          "Financial Analyst",
          "Financial Analyst",
          "Financial Analyst",
          "Financial Analyst",
          "Financial Analyst",
          "Financial Analyst",
          "Financial Analyst",
          "Financial Analyst",
          "Financial Analyst",
          "Financial Analyst",
          "Financial Analyst",
          "Financial Analyst",
          "Financial Analyst",
          "Financial Analyst",
          "Financial Analyst",
          "Financial Analyst",
          "Financial Analyst",
          "Financial Analyst",
          "Financial Analyst",
          "Financial Analyst",
          "Financial Analyst",
          "Financial Analyst",
          "Financial Analyst",
          "Financial Analyst",
          "Financial Analyst",
          "Financial Analyst",
          "Financial Analyst",
          "Financial Analyst",
          "Financial Analyst",
          "Financial Analyst",
          "Financial Analyst",
          "Financial Analyst",
          "Financial Analyst",
          "Financial Analyst",
          "Financial Analyst",
          "Financial Analyst",
          "Financial Analyst",
          "Financial Analyst",
          "Financial Analyst",
          "Financial Analyst",
          "Financial Analyst",
          "Financial Analyst",
          "Financial Analyst",
          "Financial Analyst",
          "Financial Analyst",
          "Financial Analyst",
          "Financial Analyst",
          "Financial Analyst",
          "Financial Analyst",
          "Financial Analyst",
          "Financial Analyst",
          "Financial Analyst",
          "Financial Analyst",
          "Financial Analyst",
          "Financial Analyst",
          "Financial Analyst",
          "Financial Analyst",
          "Financial Analyst",
          "Financial Analyst",
          "Financial Analyst",
          "Financial Analyst",
          "Financial Analyst",
          "Financial Analyst",
          "Financial Analyst",
          "Financial Analyst",
          "Financial Analyst",
          "Financial Analyst",
          "Financial Analyst",
          "Financial Analyst",
          "Financial Analyst",
          "Financial Analyst",
          "Financial Analyst",
          "Financial Analyst",
          "Financial Analyst",
          "Financial Analyst",
          "Financial Analyst",
          "Financial Analyst",
          "Financial Analyst",
          "Financial Analyst",
          "Financial Analyst",
          "Financial Analyst",
          "Financial Analyst",
          "Financial Analyst",
          "Financial Analyst",
          "Financial Analyst"
         ],
         "xaxis": "x",
         "y": [
          84007,
          88422,
          83323,
          97328,
          113640,
          111019,
          92622,
          146190,
          117554,
          109369,
          91978,
          106194,
          88047,
          87608,
          102716,
          98531,
          104435,
          119381,
          113180,
          114421,
          71858,
          100070,
          64852,
          76773,
          89559,
          112941,
          129406,
          98900,
          67749,
          40341,
          114007,
          69878,
          65164,
          87409,
          126626,
          60892,
          83620,
          120154,
          119931,
          113730,
          67762,
          90307,
          96777,
          78564,
          91905,
          121728,
          62377,
          90002,
          116758,
          75397,
          97797,
          65750,
          69320,
          78132,
          116875,
          116069,
          94590,
          88725,
          98535,
          105601,
          100769,
          126269,
          101534,
          48570,
          66935,
          79142,
          78084,
          71590,
          93067,
          104744,
          98512,
          82790,
          84628,
          129683,
          76908,
          93696,
          122142,
          50758,
          84683,
          114171,
          95795,
          99134,
          111403,
          115613,
          80030,
          84047,
          141186,
          85947,
          119058,
          91129,
          92891,
          124151,
          61609,
          84725,
          114031,
          68643,
          139042,
          108719,
          101515,
          67089,
          99643,
          63300,
          90999,
          96665,
          92347,
          97376,
          123108
         ],
         "yaxis": "y"
        },
        {
         "alignmentgroup": "True",
         "bingroup": "x",
         "histfunc": "sum",
         "hovertemplate": "JobTitle=%{x}<br>sum of BasePay=%{y}<extra></extra>",
         "legendgroup": "Marketing Associate",
         "marker": {
          "color": "#B6E880",
          "pattern": {
           "shape": ""
          }
         },
         "name": "Marketing Associate",
         "offsetgroup": "Marketing Associate",
         "orientation": "v",
         "showlegend": true,
         "type": "histogram",
         "x": [
          "Marketing Associate",
          "Marketing Associate",
          "Marketing Associate",
          "Marketing Associate",
          "Marketing Associate",
          "Marketing Associate",
          "Marketing Associate",
          "Marketing Associate",
          "Marketing Associate",
          "Marketing Associate",
          "Marketing Associate",
          "Marketing Associate",
          "Marketing Associate",
          "Marketing Associate",
          "Marketing Associate",
          "Marketing Associate",
          "Marketing Associate",
          "Marketing Associate",
          "Marketing Associate",
          "Marketing Associate",
          "Marketing Associate",
          "Marketing Associate",
          "Marketing Associate",
          "Marketing Associate",
          "Marketing Associate",
          "Marketing Associate",
          "Marketing Associate",
          "Marketing Associate",
          "Marketing Associate",
          "Marketing Associate",
          "Marketing Associate",
          "Marketing Associate",
          "Marketing Associate",
          "Marketing Associate",
          "Marketing Associate",
          "Marketing Associate",
          "Marketing Associate",
          "Marketing Associate",
          "Marketing Associate",
          "Marketing Associate",
          "Marketing Associate",
          "Marketing Associate",
          "Marketing Associate",
          "Marketing Associate",
          "Marketing Associate",
          "Marketing Associate",
          "Marketing Associate",
          "Marketing Associate",
          "Marketing Associate",
          "Marketing Associate",
          "Marketing Associate",
          "Marketing Associate",
          "Marketing Associate",
          "Marketing Associate",
          "Marketing Associate",
          "Marketing Associate",
          "Marketing Associate",
          "Marketing Associate",
          "Marketing Associate",
          "Marketing Associate",
          "Marketing Associate",
          "Marketing Associate",
          "Marketing Associate",
          "Marketing Associate",
          "Marketing Associate",
          "Marketing Associate",
          "Marketing Associate",
          "Marketing Associate",
          "Marketing Associate",
          "Marketing Associate",
          "Marketing Associate",
          "Marketing Associate",
          "Marketing Associate",
          "Marketing Associate",
          "Marketing Associate",
          "Marketing Associate",
          "Marketing Associate",
          "Marketing Associate",
          "Marketing Associate",
          "Marketing Associate",
          "Marketing Associate",
          "Marketing Associate",
          "Marketing Associate",
          "Marketing Associate",
          "Marketing Associate",
          "Marketing Associate",
          "Marketing Associate",
          "Marketing Associate",
          "Marketing Associate",
          "Marketing Associate",
          "Marketing Associate",
          "Marketing Associate",
          "Marketing Associate",
          "Marketing Associate",
          "Marketing Associate",
          "Marketing Associate",
          "Marketing Associate",
          "Marketing Associate",
          "Marketing Associate",
          "Marketing Associate",
          "Marketing Associate",
          "Marketing Associate",
          "Marketing Associate",
          "Marketing Associate",
          "Marketing Associate",
          "Marketing Associate",
          "Marketing Associate",
          "Marketing Associate",
          "Marketing Associate",
          "Marketing Associate",
          "Marketing Associate",
          "Marketing Associate",
          "Marketing Associate",
          "Marketing Associate",
          "Marketing Associate",
          "Marketing Associate",
          "Marketing Associate",
          "Marketing Associate"
         ],
         "xaxis": "x",
         "y": [
          73357,
          80306,
          86886,
          97376,
          76286,
          46263,
          103384,
          51331,
          96061,
          89822,
          62040,
          59251,
          63695,
          77793,
          57469,
          91713,
          86516,
          46903,
          44325,
          60070,
          49830,
          82338,
          86036,
          95687,
          128970,
          67530,
          69254,
          87435,
          58807,
          81995,
          71794,
          36548,
          73989,
          102201,
          57782,
          71772,
          66438,
          79674,
          85161,
          65547,
          62054,
          70374,
          104355,
          54817,
          79707,
          82755,
          96500,
          49632,
          69268,
          77223,
          53220,
          34208,
          49303,
          76806,
          116834,
          75294,
          72030,
          94763,
          86241,
          123242,
          36972,
          112507,
          100316,
          59006,
          74305,
          38451,
          106315,
          92797,
          93805,
          109931,
          88365,
          57672,
          110636,
          73404,
          68364,
          81249,
          77584,
          73685,
          79237,
          86538,
          77742,
          98575,
          38613,
          62866,
          47739,
          63327,
          52578,
          99543,
          55885,
          107370,
          39741,
          36585,
          93054,
          81661,
          38855,
          86563,
          62600,
          100415,
          88820,
          112489,
          53839,
          114906,
          93018,
          69928,
          108587,
          95995,
          107572,
          76726,
          54945,
          60271,
          66028,
          91300,
          97696,
          62738,
          98796,
          80789,
          85253,
          62644
         ],
         "yaxis": "y"
        },
        {
         "alignmentgroup": "True",
         "bingroup": "x",
         "histfunc": "sum",
         "hovertemplate": "JobTitle=%{x}<br>sum of BasePay=%{y}<extra></extra>",
         "legendgroup": "Data Scientist",
         "marker": {
          "color": "#FF97FF",
          "pattern": {
           "shape": ""
          }
         },
         "name": "Data Scientist",
         "offsetgroup": "Data Scientist",
         "orientation": "v",
         "showlegend": true,
         "type": "histogram",
         "x": [
          "Data Scientist",
          "Data Scientist",
          "Data Scientist",
          "Data Scientist",
          "Data Scientist",
          "Data Scientist",
          "Data Scientist",
          "Data Scientist",
          "Data Scientist",
          "Data Scientist",
          "Data Scientist",
          "Data Scientist",
          "Data Scientist",
          "Data Scientist",
          "Data Scientist",
          "Data Scientist",
          "Data Scientist",
          "Data Scientist",
          "Data Scientist",
          "Data Scientist",
          "Data Scientist",
          "Data Scientist",
          "Data Scientist",
          "Data Scientist",
          "Data Scientist",
          "Data Scientist",
          "Data Scientist",
          "Data Scientist",
          "Data Scientist",
          "Data Scientist",
          "Data Scientist",
          "Data Scientist",
          "Data Scientist",
          "Data Scientist",
          "Data Scientist",
          "Data Scientist",
          "Data Scientist",
          "Data Scientist",
          "Data Scientist",
          "Data Scientist",
          "Data Scientist",
          "Data Scientist",
          "Data Scientist",
          "Data Scientist",
          "Data Scientist",
          "Data Scientist",
          "Data Scientist",
          "Data Scientist",
          "Data Scientist",
          "Data Scientist",
          "Data Scientist",
          "Data Scientist",
          "Data Scientist",
          "Data Scientist",
          "Data Scientist",
          "Data Scientist",
          "Data Scientist",
          "Data Scientist",
          "Data Scientist",
          "Data Scientist",
          "Data Scientist",
          "Data Scientist",
          "Data Scientist",
          "Data Scientist",
          "Data Scientist",
          "Data Scientist",
          "Data Scientist",
          "Data Scientist",
          "Data Scientist",
          "Data Scientist",
          "Data Scientist",
          "Data Scientist",
          "Data Scientist",
          "Data Scientist",
          "Data Scientist",
          "Data Scientist",
          "Data Scientist",
          "Data Scientist",
          "Data Scientist",
          "Data Scientist",
          "Data Scientist",
          "Data Scientist",
          "Data Scientist",
          "Data Scientist",
          "Data Scientist",
          "Data Scientist",
          "Data Scientist",
          "Data Scientist",
          "Data Scientist",
          "Data Scientist",
          "Data Scientist",
          "Data Scientist",
          "Data Scientist",
          "Data Scientist",
          "Data Scientist",
          "Data Scientist",
          "Data Scientist",
          "Data Scientist",
          "Data Scientist",
          "Data Scientist",
          "Data Scientist",
          "Data Scientist",
          "Data Scientist",
          "Data Scientist",
          "Data Scientist",
          "Data Scientist",
          "Data Scientist"
         ],
         "xaxis": "x",
         "y": [
          92067,
          74523,
          113252,
          96355,
          87121,
          70643,
          89415,
          71105,
          71193,
          59212,
          55189,
          50401,
          46693,
          127156,
          110731,
          101173,
          67617,
          97625,
          100115,
          133495,
          58054,
          78623,
          98010,
          91099,
          65907,
          80937,
          97000,
          80494,
          102910,
          84021,
          55954,
          60736,
          59458,
          73306,
          62753,
          129226,
          87150,
          71946,
          80171,
          40056,
          82850,
          122037,
          83894,
          75227,
          104314,
          123172,
          67040,
          107476,
          82345,
          103908,
          86651,
          114693,
          90713,
          125770,
          97846,
          98959,
          98366,
          73798,
          98165,
          113274,
          57915,
          87682,
          68049,
          76523,
          138365,
          72497,
          91711,
          78910,
          93742,
          53855,
          93320,
          108366,
          79765,
          83674,
          96582,
          108778,
          96584,
          102265,
          65816,
          106452,
          100505,
          108296,
          90526,
          139141,
          77839,
          104290,
          84764,
          117215,
          107640,
          61589,
          124166,
          125828,
          115641,
          141005,
          122352,
          101284,
          78836,
          121457,
          114141,
          95798,
          128730,
          123333,
          121239,
          87314,
          106918,
          97311,
          108977
         ],
         "yaxis": "y"
        },
        {
         "alignmentgroup": "True",
         "bingroup": "x",
         "histfunc": "sum",
         "hovertemplate": "JobTitle=%{x}<br>sum of BasePay=%{y}<extra></extra>",
         "legendgroup": "Manager",
         "marker": {
          "color": "#FECB52",
          "pattern": {
           "shape": ""
          }
         },
         "name": "Manager",
         "offsetgroup": "Manager",
         "orientation": "v",
         "showlegend": true,
         "type": "histogram",
         "x": [
          "Manager",
          "Manager",
          "Manager",
          "Manager",
          "Manager",
          "Manager",
          "Manager",
          "Manager",
          "Manager",
          "Manager",
          "Manager",
          "Manager",
          "Manager",
          "Manager",
          "Manager",
          "Manager",
          "Manager",
          "Manager",
          "Manager",
          "Manager",
          "Manager",
          "Manager",
          "Manager",
          "Manager",
          "Manager",
          "Manager",
          "Manager",
          "Manager",
          "Manager",
          "Manager",
          "Manager",
          "Manager",
          "Manager",
          "Manager",
          "Manager",
          "Manager",
          "Manager",
          "Manager",
          "Manager",
          "Manager",
          "Manager",
          "Manager",
          "Manager",
          "Manager",
          "Manager",
          "Manager",
          "Manager",
          "Manager",
          "Manager",
          "Manager",
          "Manager",
          "Manager",
          "Manager",
          "Manager",
          "Manager",
          "Manager",
          "Manager",
          "Manager",
          "Manager",
          "Manager",
          "Manager",
          "Manager",
          "Manager",
          "Manager",
          "Manager",
          "Manager",
          "Manager",
          "Manager",
          "Manager",
          "Manager",
          "Manager",
          "Manager",
          "Manager",
          "Manager",
          "Manager",
          "Manager",
          "Manager",
          "Manager",
          "Manager",
          "Manager",
          "Manager",
          "Manager",
          "Manager",
          "Manager",
          "Manager",
          "Manager",
          "Manager",
          "Manager",
          "Manager",
          "Manager"
         ],
         "xaxis": "x",
         "y": [
          131311,
          146615,
          119162,
          98519,
          103107,
          90685,
          103479,
          107140,
          157410,
          104526,
          123422,
          90482,
          106560,
          104202,
          109346,
          155203,
          143887,
          176789,
          160614,
          150467,
          117629,
          121682,
          123114,
          121949,
          118088,
          138851,
          89648,
          112854,
          143189,
          144146,
          130093,
          83262,
          110643,
          107859,
          129885,
          115567,
          117648,
          135073,
          148178,
          106056,
          149771,
          110594,
          157644,
          113009,
          115383,
          127013,
          90736,
          150914,
          100183,
          121506,
          121151,
          124891,
          125339,
          105795,
          125164,
          119033,
          103156,
          135106,
          157169,
          104329,
          146008,
          152710,
          152081,
          134450,
          100819,
          152625,
          133910,
          155826,
          114621,
          138163,
          163208,
          136215,
          149893,
          111896,
          114943,
          80259,
          123153,
          115604,
          145095,
          115742,
          119794,
          119893,
          131980,
          135638,
          179726,
          106916,
          124782,
          136836,
          110078,
          120574
         ],
         "yaxis": "y"
        }
       ],
       "layout": {
        "barmode": "relative",
        "legend": {
         "title": {
          "text": "JobTitle"
         },
         "tracegroupgap": 0
        },
        "margin": {
         "t": 60
        },
        "template": {
         "data": {
          "bar": [
           {
            "error_x": {
             "color": "#2a3f5f"
            },
            "error_y": {
             "color": "#2a3f5f"
            },
            "marker": {
             "line": {
              "color": "#E5ECF6",
              "width": 0.5
             },
             "pattern": {
              "fillmode": "overlay",
              "size": 10,
              "solidity": 0.2
             }
            },
            "type": "bar"
           }
          ],
          "barpolar": [
           {
            "marker": {
             "line": {
              "color": "#E5ECF6",
              "width": 0.5
             },
             "pattern": {
              "fillmode": "overlay",
              "size": 10,
              "solidity": 0.2
             }
            },
            "type": "barpolar"
           }
          ],
          "carpet": [
           {
            "aaxis": {
             "endlinecolor": "#2a3f5f",
             "gridcolor": "white",
             "linecolor": "white",
             "minorgridcolor": "white",
             "startlinecolor": "#2a3f5f"
            },
            "baxis": {
             "endlinecolor": "#2a3f5f",
             "gridcolor": "white",
             "linecolor": "white",
             "minorgridcolor": "white",
             "startlinecolor": "#2a3f5f"
            },
            "type": "carpet"
           }
          ],
          "choropleth": [
           {
            "colorbar": {
             "outlinewidth": 0,
             "ticks": ""
            },
            "type": "choropleth"
           }
          ],
          "contour": [
           {
            "colorbar": {
             "outlinewidth": 0,
             "ticks": ""
            },
            "colorscale": [
             [
              0,
              "#0d0887"
             ],
             [
              0.1111111111111111,
              "#46039f"
             ],
             [
              0.2222222222222222,
              "#7201a8"
             ],
             [
              0.3333333333333333,
              "#9c179e"
             ],
             [
              0.4444444444444444,
              "#bd3786"
             ],
             [
              0.5555555555555556,
              "#d8576b"
             ],
             [
              0.6666666666666666,
              "#ed7953"
             ],
             [
              0.7777777777777778,
              "#fb9f3a"
             ],
             [
              0.8888888888888888,
              "#fdca26"
             ],
             [
              1,
              "#f0f921"
             ]
            ],
            "type": "contour"
           }
          ],
          "contourcarpet": [
           {
            "colorbar": {
             "outlinewidth": 0,
             "ticks": ""
            },
            "type": "contourcarpet"
           }
          ],
          "heatmap": [
           {
            "colorbar": {
             "outlinewidth": 0,
             "ticks": ""
            },
            "colorscale": [
             [
              0,
              "#0d0887"
             ],
             [
              0.1111111111111111,
              "#46039f"
             ],
             [
              0.2222222222222222,
              "#7201a8"
             ],
             [
              0.3333333333333333,
              "#9c179e"
             ],
             [
              0.4444444444444444,
              "#bd3786"
             ],
             [
              0.5555555555555556,
              "#d8576b"
             ],
             [
              0.6666666666666666,
              "#ed7953"
             ],
             [
              0.7777777777777778,
              "#fb9f3a"
             ],
             [
              0.8888888888888888,
              "#fdca26"
             ],
             [
              1,
              "#f0f921"
             ]
            ],
            "type": "heatmap"
           }
          ],
          "heatmapgl": [
           {
            "colorbar": {
             "outlinewidth": 0,
             "ticks": ""
            },
            "colorscale": [
             [
              0,
              "#0d0887"
             ],
             [
              0.1111111111111111,
              "#46039f"
             ],
             [
              0.2222222222222222,
              "#7201a8"
             ],
             [
              0.3333333333333333,
              "#9c179e"
             ],
             [
              0.4444444444444444,
              "#bd3786"
             ],
             [
              0.5555555555555556,
              "#d8576b"
             ],
             [
              0.6666666666666666,
              "#ed7953"
             ],
             [
              0.7777777777777778,
              "#fb9f3a"
             ],
             [
              0.8888888888888888,
              "#fdca26"
             ],
             [
              1,
              "#f0f921"
             ]
            ],
            "type": "heatmapgl"
           }
          ],
          "histogram": [
           {
            "marker": {
             "pattern": {
              "fillmode": "overlay",
              "size": 10,
              "solidity": 0.2
             }
            },
            "type": "histogram"
           }
          ],
          "histogram2d": [
           {
            "colorbar": {
             "outlinewidth": 0,
             "ticks": ""
            },
            "colorscale": [
             [
              0,
              "#0d0887"
             ],
             [
              0.1111111111111111,
              "#46039f"
             ],
             [
              0.2222222222222222,
              "#7201a8"
             ],
             [
              0.3333333333333333,
              "#9c179e"
             ],
             [
              0.4444444444444444,
              "#bd3786"
             ],
             [
              0.5555555555555556,
              "#d8576b"
             ],
             [
              0.6666666666666666,
              "#ed7953"
             ],
             [
              0.7777777777777778,
              "#fb9f3a"
             ],
             [
              0.8888888888888888,
              "#fdca26"
             ],
             [
              1,
              "#f0f921"
             ]
            ],
            "type": "histogram2d"
           }
          ],
          "histogram2dcontour": [
           {
            "colorbar": {
             "outlinewidth": 0,
             "ticks": ""
            },
            "colorscale": [
             [
              0,
              "#0d0887"
             ],
             [
              0.1111111111111111,
              "#46039f"
             ],
             [
              0.2222222222222222,
              "#7201a8"
             ],
             [
              0.3333333333333333,
              "#9c179e"
             ],
             [
              0.4444444444444444,
              "#bd3786"
             ],
             [
              0.5555555555555556,
              "#d8576b"
             ],
             [
              0.6666666666666666,
              "#ed7953"
             ],
             [
              0.7777777777777778,
              "#fb9f3a"
             ],
             [
              0.8888888888888888,
              "#fdca26"
             ],
             [
              1,
              "#f0f921"
             ]
            ],
            "type": "histogram2dcontour"
           }
          ],
          "mesh3d": [
           {
            "colorbar": {
             "outlinewidth": 0,
             "ticks": ""
            },
            "type": "mesh3d"
           }
          ],
          "parcoords": [
           {
            "line": {
             "colorbar": {
              "outlinewidth": 0,
              "ticks": ""
             }
            },
            "type": "parcoords"
           }
          ],
          "pie": [
           {
            "automargin": true,
            "type": "pie"
           }
          ],
          "scatter": [
           {
            "fillpattern": {
             "fillmode": "overlay",
             "size": 10,
             "solidity": 0.2
            },
            "type": "scatter"
           }
          ],
          "scatter3d": [
           {
            "line": {
             "colorbar": {
              "outlinewidth": 0,
              "ticks": ""
             }
            },
            "marker": {
             "colorbar": {
              "outlinewidth": 0,
              "ticks": ""
             }
            },
            "type": "scatter3d"
           }
          ],
          "scattercarpet": [
           {
            "marker": {
             "colorbar": {
              "outlinewidth": 0,
              "ticks": ""
             }
            },
            "type": "scattercarpet"
           }
          ],
          "scattergeo": [
           {
            "marker": {
             "colorbar": {
              "outlinewidth": 0,
              "ticks": ""
             }
            },
            "type": "scattergeo"
           }
          ],
          "scattergl": [
           {
            "marker": {
             "colorbar": {
              "outlinewidth": 0,
              "ticks": ""
             }
            },
            "type": "scattergl"
           }
          ],
          "scattermapbox": [
           {
            "marker": {
             "colorbar": {
              "outlinewidth": 0,
              "ticks": ""
             }
            },
            "type": "scattermapbox"
           }
          ],
          "scatterpolar": [
           {
            "marker": {
             "colorbar": {
              "outlinewidth": 0,
              "ticks": ""
             }
            },
            "type": "scatterpolar"
           }
          ],
          "scatterpolargl": [
           {
            "marker": {
             "colorbar": {
              "outlinewidth": 0,
              "ticks": ""
             }
            },
            "type": "scatterpolargl"
           }
          ],
          "scatterternary": [
           {
            "marker": {
             "colorbar": {
              "outlinewidth": 0,
              "ticks": ""
             }
            },
            "type": "scatterternary"
           }
          ],
          "surface": [
           {
            "colorbar": {
             "outlinewidth": 0,
             "ticks": ""
            },
            "colorscale": [
             [
              0,
              "#0d0887"
             ],
             [
              0.1111111111111111,
              "#46039f"
             ],
             [
              0.2222222222222222,
              "#7201a8"
             ],
             [
              0.3333333333333333,
              "#9c179e"
             ],
             [
              0.4444444444444444,
              "#bd3786"
             ],
             [
              0.5555555555555556,
              "#d8576b"
             ],
             [
              0.6666666666666666,
              "#ed7953"
             ],
             [
              0.7777777777777778,
              "#fb9f3a"
             ],
             [
              0.8888888888888888,
              "#fdca26"
             ],
             [
              1,
              "#f0f921"
             ]
            ],
            "type": "surface"
           }
          ],
          "table": [
           {
            "cells": {
             "fill": {
              "color": "#EBF0F8"
             },
             "line": {
              "color": "white"
             }
            },
            "header": {
             "fill": {
              "color": "#C8D4E3"
             },
             "line": {
              "color": "white"
             }
            },
            "type": "table"
           }
          ]
         },
         "layout": {
          "annotationdefaults": {
           "arrowcolor": "#2a3f5f",
           "arrowhead": 0,
           "arrowwidth": 1
          },
          "autotypenumbers": "strict",
          "coloraxis": {
           "colorbar": {
            "outlinewidth": 0,
            "ticks": ""
           }
          },
          "colorscale": {
           "diverging": [
            [
             0,
             "#8e0152"
            ],
            [
             0.1,
             "#c51b7d"
            ],
            [
             0.2,
             "#de77ae"
            ],
            [
             0.3,
             "#f1b6da"
            ],
            [
             0.4,
             "#fde0ef"
            ],
            [
             0.5,
             "#f7f7f7"
            ],
            [
             0.6,
             "#e6f5d0"
            ],
            [
             0.7,
             "#b8e186"
            ],
            [
             0.8,
             "#7fbc41"
            ],
            [
             0.9,
             "#4d9221"
            ],
            [
             1,
             "#276419"
            ]
           ],
           "sequential": [
            [
             0,
             "#0d0887"
            ],
            [
             0.1111111111111111,
             "#46039f"
            ],
            [
             0.2222222222222222,
             "#7201a8"
            ],
            [
             0.3333333333333333,
             "#9c179e"
            ],
            [
             0.4444444444444444,
             "#bd3786"
            ],
            [
             0.5555555555555556,
             "#d8576b"
            ],
            [
             0.6666666666666666,
             "#ed7953"
            ],
            [
             0.7777777777777778,
             "#fb9f3a"
            ],
            [
             0.8888888888888888,
             "#fdca26"
            ],
            [
             1,
             "#f0f921"
            ]
           ],
           "sequentialminus": [
            [
             0,
             "#0d0887"
            ],
            [
             0.1111111111111111,
             "#46039f"
            ],
            [
             0.2222222222222222,
             "#7201a8"
            ],
            [
             0.3333333333333333,
             "#9c179e"
            ],
            [
             0.4444444444444444,
             "#bd3786"
            ],
            [
             0.5555555555555556,
             "#d8576b"
            ],
            [
             0.6666666666666666,
             "#ed7953"
            ],
            [
             0.7777777777777778,
             "#fb9f3a"
            ],
            [
             0.8888888888888888,
             "#fdca26"
            ],
            [
             1,
             "#f0f921"
            ]
           ]
          },
          "colorway": [
           "#636efa",
           "#EF553B",
           "#00cc96",
           "#ab63fa",
           "#FFA15A",
           "#19d3f3",
           "#FF6692",
           "#B6E880",
           "#FF97FF",
           "#FECB52"
          ],
          "font": {
           "color": "#2a3f5f"
          },
          "geo": {
           "bgcolor": "white",
           "lakecolor": "white",
           "landcolor": "#E5ECF6",
           "showlakes": true,
           "showland": true,
           "subunitcolor": "white"
          },
          "hoverlabel": {
           "align": "left"
          },
          "hovermode": "closest",
          "mapbox": {
           "style": "light"
          },
          "paper_bgcolor": "white",
          "plot_bgcolor": "#E5ECF6",
          "polar": {
           "angularaxis": {
            "gridcolor": "white",
            "linecolor": "white",
            "ticks": ""
           },
           "bgcolor": "#E5ECF6",
           "radialaxis": {
            "gridcolor": "white",
            "linecolor": "white",
            "ticks": ""
           }
          },
          "scene": {
           "xaxis": {
            "backgroundcolor": "#E5ECF6",
            "gridcolor": "white",
            "gridwidth": 2,
            "linecolor": "white",
            "showbackground": true,
            "ticks": "",
            "zerolinecolor": "white"
           },
           "yaxis": {
            "backgroundcolor": "#E5ECF6",
            "gridcolor": "white",
            "gridwidth": 2,
            "linecolor": "white",
            "showbackground": true,
            "ticks": "",
            "zerolinecolor": "white"
           },
           "zaxis": {
            "backgroundcolor": "#E5ECF6",
            "gridcolor": "white",
            "gridwidth": 2,
            "linecolor": "white",
            "showbackground": true,
            "ticks": "",
            "zerolinecolor": "white"
           }
          },
          "shapedefaults": {
           "line": {
            "color": "#2a3f5f"
           }
          },
          "ternary": {
           "aaxis": {
            "gridcolor": "white",
            "linecolor": "white",
            "ticks": ""
           },
           "baxis": {
            "gridcolor": "white",
            "linecolor": "white",
            "ticks": ""
           },
           "bgcolor": "#E5ECF6",
           "caxis": {
            "gridcolor": "white",
            "linecolor": "white",
            "ticks": ""
           }
          },
          "title": {
           "x": 0.05
          },
          "xaxis": {
           "automargin": true,
           "gridcolor": "white",
           "linecolor": "white",
           "ticks": "",
           "title": {
            "standoff": 15
           },
           "zerolinecolor": "white",
           "zerolinewidth": 2
          },
          "yaxis": {
           "automargin": true,
           "gridcolor": "white",
           "linecolor": "white",
           "ticks": "",
           "title": {
            "standoff": 15
           },
           "zerolinecolor": "white",
           "zerolinewidth": 2
          }
         }
        },
        "xaxis": {
         "anchor": "y",
         "categoryarray": [
          "Graphic Designer",
          "Software Engineer",
          "Warehouse Associate",
          "IT",
          "Sales Associate",
          "Driver",
          "Financial Analyst",
          "Marketing Associate",
          "Data Scientist",
          "Manager"
         ],
         "categoryorder": "array",
         "domain": [
          0,
          1
         ],
         "title": {
          "text": "JobTitle"
         }
        },
        "yaxis": {
         "anchor": "x",
         "domain": [
          0,
          1
         ],
         "title": {
          "text": "sum of BasePay"
         }
        }
       }
      }
     },
     "metadata": {},
     "output_type": "display_data"
    }
   ],
   "source": [
    "px.histogram(df,x='JobTitle',y='BasePay', color='JobTitle')"
   ]
  },
  {
   "cell_type": "markdown",
   "metadata": {},
   "source": [
    "Here we cane see the histogram with respect of jobtitles and basepay. we find sum of base pay according to Job"
   ]
  },
  {
   "cell_type": "code",
   "execution_count": 19,
   "metadata": {},
   "outputs": [],
   "source": [
    "f1  = df['JobTitle'] == 'IT' # boolean filter\n",
    "f2  = df['JobTitle'] == 'Graphic Designer' # boolean filter\n",
    "f3  = df['JobTitle'] == 'Data Scientist' # boolean filter\n",
    "df2=df[f1 | f2 | f3]"
   ]
  },
  {
   "cell_type": "code",
   "execution_count": 20,
   "metadata": {},
   "outputs": [
    {
     "data": {
      "application/vnd.plotly.v1+json": {
       "config": {
        "plotlyServerURL": "https://plot.ly"
       },
       "data": [
        {
         "alignmentgroup": "True",
         "hovertemplate": "Gender=Female<br>JobTitle=%{x}<br>BasePay=%{y}<extra></extra>",
         "legendgroup": "Female",
         "marker": {
          "color": "Yellow"
         },
         "name": "Female",
         "notched": false,
         "offsetgroup": "Female",
         "orientation": "v",
         "showlegend": true,
         "type": "box",
         "x": [
          "Graphic Designer",
          "IT",
          "Graphic Designer",
          "Graphic Designer",
          "Data Scientist",
          "Graphic Designer",
          "IT",
          "Data Scientist",
          "Data Scientist",
          "IT",
          "Data Scientist",
          "Graphic Designer",
          "IT",
          "Data Scientist",
          "Data Scientist",
          "Data Scientist",
          "Data Scientist",
          "IT",
          "Data Scientist",
          "Graphic Designer",
          "Graphic Designer",
          "IT",
          "IT",
          "Graphic Designer",
          "Data Scientist",
          "Data Scientist",
          "Graphic Designer",
          "IT",
          "IT",
          "IT",
          "IT",
          "Graphic Designer",
          "Data Scientist",
          "Graphic Designer",
          "Graphic Designer",
          "Data Scientist",
          "Data Scientist",
          "IT",
          "Graphic Designer",
          "Graphic Designer",
          "Data Scientist",
          "IT",
          "Data Scientist",
          "Data Scientist",
          "Graphic Designer",
          "IT",
          "IT",
          "IT",
          "Graphic Designer",
          "Graphic Designer",
          "Data Scientist",
          "Graphic Designer",
          "Data Scientist",
          "Graphic Designer",
          "Graphic Designer",
          "Data Scientist",
          "Data Scientist",
          "Data Scientist",
          "IT",
          "Graphic Designer",
          "Data Scientist",
          "IT",
          "IT",
          "Graphic Designer",
          "Graphic Designer",
          "Data Scientist",
          "Data Scientist",
          "Data Scientist",
          "IT",
          "IT",
          "Graphic Designer",
          "Graphic Designer",
          "IT",
          "Data Scientist",
          "Graphic Designer",
          "Data Scientist",
          "Data Scientist",
          "IT",
          "IT",
          "Data Scientist",
          "Data Scientist",
          "IT",
          "Graphic Designer",
          "Data Scientist",
          "IT",
          "IT",
          "IT",
          "Data Scientist",
          "Data Scientist",
          "Graphic Designer",
          "Graphic Designer",
          "IT",
          "Graphic Designer",
          "Data Scientist",
          "Data Scientist",
          "IT",
          "Graphic Designer",
          "Graphic Designer",
          "Data Scientist",
          "Data Scientist",
          "IT",
          "Graphic Designer",
          "Graphic Designer",
          "Data Scientist",
          "Data Scientist",
          "IT",
          "Data Scientist",
          "IT",
          "Data Scientist",
          "Data Scientist",
          "IT",
          "IT",
          "Graphic Designer",
          "Data Scientist",
          "IT",
          "IT",
          "Data Scientist",
          "IT",
          "Graphic Designer",
          "Graphic Designer",
          "IT",
          "Graphic Designer",
          "Graphic Designer",
          "Graphic Designer",
          "Graphic Designer",
          "IT",
          "Data Scientist",
          "Graphic Designer",
          "Graphic Designer",
          "Data Scientist",
          "Graphic Designer",
          "Data Scientist",
          "Data Scientist",
          "IT",
          "IT",
          "IT",
          "Graphic Designer",
          "Graphic Designer",
          "IT",
          "Data Scientist",
          "Data Scientist",
          "IT",
          "IT",
          "IT",
          "Data Scientist",
          "Data Scientist",
          "IT",
          "IT",
          "Graphic Designer",
          "IT",
          "Graphic Designer"
         ],
         "x0": " ",
         "xaxis": "x",
         "y": [
          42363,
          70890,
          67585,
          112976,
          92067,
          71182,
          112392,
          74523,
          113252,
          84638,
          70643,
          74167,
          102120,
          89415,
          71105,
          71193,
          46693,
          88152,
          127156,
          96045,
          78462,
          53956,
          108495,
          66529,
          100115,
          133495,
          108241,
          72542,
          80981,
          83499,
          127062,
          100416,
          78623,
          89411,
          120294,
          98010,
          91099,
          54245,
          81826,
          103133,
          97000,
          102247,
          84021,
          55954,
          108820,
          100014,
          37780,
          121210,
          95169,
          130251,
          59458,
          66125,
          73306,
          125770,
          56954,
          129226,
          87150,
          71946,
          75811,
          107025,
          40056,
          70846,
          75932,
          100516,
          118762,
          123172,
          107476,
          82345,
          98456,
          75518,
          127608,
          104082,
          94354,
          90713,
          120697,
          125770,
          97846,
          56656,
          70157,
          98366,
          73798,
          99369,
          55845,
          113274,
          45747,
          132267,
          111120,
          76523,
          138365,
          113465,
          55569,
          105598,
          41603,
          91711,
          78910,
          111770,
          97768,
          76103,
          108366,
          79765,
          81325,
          80635,
          133741,
          96584,
          102265,
          101791,
          65816,
          55560,
          106452,
          100505,
          104589,
          61081,
          99942,
          108296,
          126370,
          103416,
          139141,
          124847,
          75316,
          111502,
          113283,
          106204,
          111041,
          108731,
          115344,
          96982,
          84764,
          96232,
          72248,
          125828,
          75017,
          115641,
          141005,
          131411,
          64807,
          41151,
          63914,
          90474,
          99472,
          121457,
          114141,
          92257,
          59377,
          112502,
          121239,
          87314,
          110627,
          112169,
          91030,
          106945,
          81545
         ],
         "y0": " ",
         "yaxis": "y"
        },
        {
         "alignmentgroup": "True",
         "hovertemplate": "Gender=Male<br>JobTitle=%{x}<br>BasePay=%{y}<extra></extra>",
         "legendgroup": "Male",
         "marker": {
          "color": "Orange"
         },
         "name": "Male",
         "notched": false,
         "offsetgroup": "Male",
         "orientation": "v",
         "showlegend": true,
         "type": "box",
         "x": [
          "Graphic Designer",
          "Graphic Designer",
          "Graphic Designer",
          "IT",
          "Data Scientist",
          "Data Scientist",
          "Graphic Designer",
          "Data Scientist",
          "Data Scientist",
          "Data Scientist",
          "Graphic Designer",
          "Graphic Designer",
          "IT",
          "IT",
          "Data Scientist",
          "Data Scientist",
          "IT",
          "Graphic Designer",
          "Graphic Designer",
          "Data Scientist",
          "Data Scientist",
          "IT",
          "Graphic Designer",
          "Graphic Designer",
          "Data Scientist",
          "IT",
          "Graphic Designer",
          "Graphic Designer",
          "Graphic Designer",
          "IT",
          "Graphic Designer",
          "Graphic Designer",
          "Data Scientist",
          "Data Scientist",
          "IT",
          "IT",
          "IT",
          "Graphic Designer",
          "Graphic Designer",
          "Data Scientist",
          "Data Scientist",
          "IT",
          "IT",
          "Graphic Designer",
          "Data Scientist",
          "IT",
          "Graphic Designer",
          "Graphic Designer",
          "Graphic Designer",
          "Graphic Designer",
          "IT",
          "IT",
          "IT",
          "Data Scientist",
          "Graphic Designer",
          "Graphic Designer",
          "Data Scientist",
          "IT",
          "Data Scientist",
          "Data Scientist",
          "IT",
          "IT",
          "IT",
          "Graphic Designer",
          "Data Scientist",
          "Data Scientist",
          "Data Scientist",
          "Data Scientist",
          "Graphic Designer",
          "Data Scientist",
          "Graphic Designer",
          "Graphic Designer",
          "Graphic Designer",
          "Graphic Designer",
          "Data Scientist",
          "Data Scientist",
          "IT",
          "IT",
          "Graphic Designer",
          "Graphic Designer",
          "Data Scientist",
          "IT",
          "IT",
          "Graphic Designer",
          "Graphic Designer",
          "Graphic Designer",
          "Graphic Designer",
          "Data Scientist",
          "Data Scientist",
          "Data Scientist",
          "IT",
          "Data Scientist",
          "IT",
          "IT",
          "IT",
          "Graphic Designer",
          "Graphic Designer",
          "Data Scientist",
          "Graphic Designer",
          "IT",
          "Graphic Designer",
          "Data Scientist",
          "Data Scientist",
          "IT",
          "Data Scientist",
          "IT",
          "Graphic Designer",
          "Data Scientist",
          "IT",
          "Data Scientist",
          "Data Scientist",
          "IT",
          "Graphic Designer",
          "Data Scientist",
          "Data Scientist",
          "Graphic Designer",
          "Data Scientist",
          "IT",
          "Graphic Designer",
          "Graphic Designer",
          "Graphic Designer",
          "Graphic Designer",
          "Data Scientist",
          "Data Scientist",
          "Data Scientist",
          "IT",
          "Data Scientist",
          "IT",
          "Graphic Designer",
          "IT",
          "IT",
          "IT",
          "Data Scientist",
          "Data Scientist",
          "Graphic Designer",
          "Data Scientist",
          "IT",
          "IT",
          "IT",
          "Data Scientist",
          "Data Scientist",
          "IT",
          "Graphic Designer",
          "Data Scientist",
          "IT",
          "IT",
          "Data Scientist",
          "IT",
          "Data Scientist",
          "Data Scientist"
         ],
         "x0": " ",
         "xaxis": "x",
         "y": [
          99464,
          102261,
          88566,
          78986,
          96355,
          87121,
          86766,
          59212,
          55189,
          50401,
          83031,
          69462,
          127769,
          47036,
          110731,
          101173,
          126828,
          83758,
          40187,
          67617,
          97625,
          69855,
          61000,
          93073,
          58054,
          74073,
          106887,
          57398,
          102736,
          90024,
          75506,
          50601,
          65907,
          80937,
          109345,
          78113,
          98515,
          114680,
          72301,
          80494,
          102910,
          64958,
          95964,
          102108,
          60736,
          82126,
          132873,
          88571,
          116751,
          99543,
          104361,
          98100,
          133472,
          62753,
          59399,
          79144,
          80171,
          79544,
          82850,
          122037,
          56309,
          91066,
          131275,
          105800,
          83894,
          75227,
          104314,
          67040,
          106893,
          103908,
          85702,
          75833,
          123371,
          105632,
          86651,
          114693,
          64468,
          88749,
          126100,
          70311,
          98959,
          77881,
          65225,
          66611,
          70559,
          69734,
          91504,
          98165,
          57915,
          87682,
          67323,
          68049,
          93335,
          90542,
          165229,
          106883,
          97240,
          72497,
          84803,
          49622,
          72422,
          93742,
          53855,
          98423,
          93320,
          106584,
          100160,
          83674,
          118314,
          96582,
          108778,
          84878,
          101273,
          90526,
          77839,
          107818,
          104290,
          93802,
          114048,
          82057,
          73142,
          107065,
          117215,
          107640,
          61589,
          57500,
          124166,
          101050,
          135512,
          93358,
          98995,
          109645,
          122352,
          101284,
          96609,
          78836,
          49449,
          85648,
          109832,
          95798,
          128730,
          89272,
          36642,
          123333,
          105771,
          91447,
          106918,
          92950,
          97311,
          108977
         ],
         "y0": " ",
         "yaxis": "y"
        }
       ],
       "layout": {
        "boxmode": "group",
        "legend": {
         "title": {
          "text": "Gender"
         },
         "tracegroupgap": 0
        },
        "margin": {
         "t": 60
        },
        "template": {
         "data": {
          "bar": [
           {
            "error_x": {
             "color": "#2a3f5f"
            },
            "error_y": {
             "color": "#2a3f5f"
            },
            "marker": {
             "line": {
              "color": "#E5ECF6",
              "width": 0.5
             },
             "pattern": {
              "fillmode": "overlay",
              "size": 10,
              "solidity": 0.2
             }
            },
            "type": "bar"
           }
          ],
          "barpolar": [
           {
            "marker": {
             "line": {
              "color": "#E5ECF6",
              "width": 0.5
             },
             "pattern": {
              "fillmode": "overlay",
              "size": 10,
              "solidity": 0.2
             }
            },
            "type": "barpolar"
           }
          ],
          "carpet": [
           {
            "aaxis": {
             "endlinecolor": "#2a3f5f",
             "gridcolor": "white",
             "linecolor": "white",
             "minorgridcolor": "white",
             "startlinecolor": "#2a3f5f"
            },
            "baxis": {
             "endlinecolor": "#2a3f5f",
             "gridcolor": "white",
             "linecolor": "white",
             "minorgridcolor": "white",
             "startlinecolor": "#2a3f5f"
            },
            "type": "carpet"
           }
          ],
          "choropleth": [
           {
            "colorbar": {
             "outlinewidth": 0,
             "ticks": ""
            },
            "type": "choropleth"
           }
          ],
          "contour": [
           {
            "colorbar": {
             "outlinewidth": 0,
             "ticks": ""
            },
            "colorscale": [
             [
              0,
              "#0d0887"
             ],
             [
              0.1111111111111111,
              "#46039f"
             ],
             [
              0.2222222222222222,
              "#7201a8"
             ],
             [
              0.3333333333333333,
              "#9c179e"
             ],
             [
              0.4444444444444444,
              "#bd3786"
             ],
             [
              0.5555555555555556,
              "#d8576b"
             ],
             [
              0.6666666666666666,
              "#ed7953"
             ],
             [
              0.7777777777777778,
              "#fb9f3a"
             ],
             [
              0.8888888888888888,
              "#fdca26"
             ],
             [
              1,
              "#f0f921"
             ]
            ],
            "type": "contour"
           }
          ],
          "contourcarpet": [
           {
            "colorbar": {
             "outlinewidth": 0,
             "ticks": ""
            },
            "type": "contourcarpet"
           }
          ],
          "heatmap": [
           {
            "colorbar": {
             "outlinewidth": 0,
             "ticks": ""
            },
            "colorscale": [
             [
              0,
              "#0d0887"
             ],
             [
              0.1111111111111111,
              "#46039f"
             ],
             [
              0.2222222222222222,
              "#7201a8"
             ],
             [
              0.3333333333333333,
              "#9c179e"
             ],
             [
              0.4444444444444444,
              "#bd3786"
             ],
             [
              0.5555555555555556,
              "#d8576b"
             ],
             [
              0.6666666666666666,
              "#ed7953"
             ],
             [
              0.7777777777777778,
              "#fb9f3a"
             ],
             [
              0.8888888888888888,
              "#fdca26"
             ],
             [
              1,
              "#f0f921"
             ]
            ],
            "type": "heatmap"
           }
          ],
          "heatmapgl": [
           {
            "colorbar": {
             "outlinewidth": 0,
             "ticks": ""
            },
            "colorscale": [
             [
              0,
              "#0d0887"
             ],
             [
              0.1111111111111111,
              "#46039f"
             ],
             [
              0.2222222222222222,
              "#7201a8"
             ],
             [
              0.3333333333333333,
              "#9c179e"
             ],
             [
              0.4444444444444444,
              "#bd3786"
             ],
             [
              0.5555555555555556,
              "#d8576b"
             ],
             [
              0.6666666666666666,
              "#ed7953"
             ],
             [
              0.7777777777777778,
              "#fb9f3a"
             ],
             [
              0.8888888888888888,
              "#fdca26"
             ],
             [
              1,
              "#f0f921"
             ]
            ],
            "type": "heatmapgl"
           }
          ],
          "histogram": [
           {
            "marker": {
             "pattern": {
              "fillmode": "overlay",
              "size": 10,
              "solidity": 0.2
             }
            },
            "type": "histogram"
           }
          ],
          "histogram2d": [
           {
            "colorbar": {
             "outlinewidth": 0,
             "ticks": ""
            },
            "colorscale": [
             [
              0,
              "#0d0887"
             ],
             [
              0.1111111111111111,
              "#46039f"
             ],
             [
              0.2222222222222222,
              "#7201a8"
             ],
             [
              0.3333333333333333,
              "#9c179e"
             ],
             [
              0.4444444444444444,
              "#bd3786"
             ],
             [
              0.5555555555555556,
              "#d8576b"
             ],
             [
              0.6666666666666666,
              "#ed7953"
             ],
             [
              0.7777777777777778,
              "#fb9f3a"
             ],
             [
              0.8888888888888888,
              "#fdca26"
             ],
             [
              1,
              "#f0f921"
             ]
            ],
            "type": "histogram2d"
           }
          ],
          "histogram2dcontour": [
           {
            "colorbar": {
             "outlinewidth": 0,
             "ticks": ""
            },
            "colorscale": [
             [
              0,
              "#0d0887"
             ],
             [
              0.1111111111111111,
              "#46039f"
             ],
             [
              0.2222222222222222,
              "#7201a8"
             ],
             [
              0.3333333333333333,
              "#9c179e"
             ],
             [
              0.4444444444444444,
              "#bd3786"
             ],
             [
              0.5555555555555556,
              "#d8576b"
             ],
             [
              0.6666666666666666,
              "#ed7953"
             ],
             [
              0.7777777777777778,
              "#fb9f3a"
             ],
             [
              0.8888888888888888,
              "#fdca26"
             ],
             [
              1,
              "#f0f921"
             ]
            ],
            "type": "histogram2dcontour"
           }
          ],
          "mesh3d": [
           {
            "colorbar": {
             "outlinewidth": 0,
             "ticks": ""
            },
            "type": "mesh3d"
           }
          ],
          "parcoords": [
           {
            "line": {
             "colorbar": {
              "outlinewidth": 0,
              "ticks": ""
             }
            },
            "type": "parcoords"
           }
          ],
          "pie": [
           {
            "automargin": true,
            "type": "pie"
           }
          ],
          "scatter": [
           {
            "fillpattern": {
             "fillmode": "overlay",
             "size": 10,
             "solidity": 0.2
            },
            "type": "scatter"
           }
          ],
          "scatter3d": [
           {
            "line": {
             "colorbar": {
              "outlinewidth": 0,
              "ticks": ""
             }
            },
            "marker": {
             "colorbar": {
              "outlinewidth": 0,
              "ticks": ""
             }
            },
            "type": "scatter3d"
           }
          ],
          "scattercarpet": [
           {
            "marker": {
             "colorbar": {
              "outlinewidth": 0,
              "ticks": ""
             }
            },
            "type": "scattercarpet"
           }
          ],
          "scattergeo": [
           {
            "marker": {
             "colorbar": {
              "outlinewidth": 0,
              "ticks": ""
             }
            },
            "type": "scattergeo"
           }
          ],
          "scattergl": [
           {
            "marker": {
             "colorbar": {
              "outlinewidth": 0,
              "ticks": ""
             }
            },
            "type": "scattergl"
           }
          ],
          "scattermapbox": [
           {
            "marker": {
             "colorbar": {
              "outlinewidth": 0,
              "ticks": ""
             }
            },
            "type": "scattermapbox"
           }
          ],
          "scatterpolar": [
           {
            "marker": {
             "colorbar": {
              "outlinewidth": 0,
              "ticks": ""
             }
            },
            "type": "scatterpolar"
           }
          ],
          "scatterpolargl": [
           {
            "marker": {
             "colorbar": {
              "outlinewidth": 0,
              "ticks": ""
             }
            },
            "type": "scatterpolargl"
           }
          ],
          "scatterternary": [
           {
            "marker": {
             "colorbar": {
              "outlinewidth": 0,
              "ticks": ""
             }
            },
            "type": "scatterternary"
           }
          ],
          "surface": [
           {
            "colorbar": {
             "outlinewidth": 0,
             "ticks": ""
            },
            "colorscale": [
             [
              0,
              "#0d0887"
             ],
             [
              0.1111111111111111,
              "#46039f"
             ],
             [
              0.2222222222222222,
              "#7201a8"
             ],
             [
              0.3333333333333333,
              "#9c179e"
             ],
             [
              0.4444444444444444,
              "#bd3786"
             ],
             [
              0.5555555555555556,
              "#d8576b"
             ],
             [
              0.6666666666666666,
              "#ed7953"
             ],
             [
              0.7777777777777778,
              "#fb9f3a"
             ],
             [
              0.8888888888888888,
              "#fdca26"
             ],
             [
              1,
              "#f0f921"
             ]
            ],
            "type": "surface"
           }
          ],
          "table": [
           {
            "cells": {
             "fill": {
              "color": "#EBF0F8"
             },
             "line": {
              "color": "white"
             }
            },
            "header": {
             "fill": {
              "color": "#C8D4E3"
             },
             "line": {
              "color": "white"
             }
            },
            "type": "table"
           }
          ]
         },
         "layout": {
          "annotationdefaults": {
           "arrowcolor": "#2a3f5f",
           "arrowhead": 0,
           "arrowwidth": 1
          },
          "autotypenumbers": "strict",
          "coloraxis": {
           "colorbar": {
            "outlinewidth": 0,
            "ticks": ""
           }
          },
          "colorscale": {
           "diverging": [
            [
             0,
             "#8e0152"
            ],
            [
             0.1,
             "#c51b7d"
            ],
            [
             0.2,
             "#de77ae"
            ],
            [
             0.3,
             "#f1b6da"
            ],
            [
             0.4,
             "#fde0ef"
            ],
            [
             0.5,
             "#f7f7f7"
            ],
            [
             0.6,
             "#e6f5d0"
            ],
            [
             0.7,
             "#b8e186"
            ],
            [
             0.8,
             "#7fbc41"
            ],
            [
             0.9,
             "#4d9221"
            ],
            [
             1,
             "#276419"
            ]
           ],
           "sequential": [
            [
             0,
             "#0d0887"
            ],
            [
             0.1111111111111111,
             "#46039f"
            ],
            [
             0.2222222222222222,
             "#7201a8"
            ],
            [
             0.3333333333333333,
             "#9c179e"
            ],
            [
             0.4444444444444444,
             "#bd3786"
            ],
            [
             0.5555555555555556,
             "#d8576b"
            ],
            [
             0.6666666666666666,
             "#ed7953"
            ],
            [
             0.7777777777777778,
             "#fb9f3a"
            ],
            [
             0.8888888888888888,
             "#fdca26"
            ],
            [
             1,
             "#f0f921"
            ]
           ],
           "sequentialminus": [
            [
             0,
             "#0d0887"
            ],
            [
             0.1111111111111111,
             "#46039f"
            ],
            [
             0.2222222222222222,
             "#7201a8"
            ],
            [
             0.3333333333333333,
             "#9c179e"
            ],
            [
             0.4444444444444444,
             "#bd3786"
            ],
            [
             0.5555555555555556,
             "#d8576b"
            ],
            [
             0.6666666666666666,
             "#ed7953"
            ],
            [
             0.7777777777777778,
             "#fb9f3a"
            ],
            [
             0.8888888888888888,
             "#fdca26"
            ],
            [
             1,
             "#f0f921"
            ]
           ]
          },
          "colorway": [
           "#636efa",
           "#EF553B",
           "#00cc96",
           "#ab63fa",
           "#FFA15A",
           "#19d3f3",
           "#FF6692",
           "#B6E880",
           "#FF97FF",
           "#FECB52"
          ],
          "font": {
           "color": "#2a3f5f"
          },
          "geo": {
           "bgcolor": "white",
           "lakecolor": "white",
           "landcolor": "#E5ECF6",
           "showlakes": true,
           "showland": true,
           "subunitcolor": "white"
          },
          "hoverlabel": {
           "align": "left"
          },
          "hovermode": "closest",
          "mapbox": {
           "style": "light"
          },
          "paper_bgcolor": "white",
          "plot_bgcolor": "#E5ECF6",
          "polar": {
           "angularaxis": {
            "gridcolor": "white",
            "linecolor": "white",
            "ticks": ""
           },
           "bgcolor": "#E5ECF6",
           "radialaxis": {
            "gridcolor": "white",
            "linecolor": "white",
            "ticks": ""
           }
          },
          "scene": {
           "xaxis": {
            "backgroundcolor": "#E5ECF6",
            "gridcolor": "white",
            "gridwidth": 2,
            "linecolor": "white",
            "showbackground": true,
            "ticks": "",
            "zerolinecolor": "white"
           },
           "yaxis": {
            "backgroundcolor": "#E5ECF6",
            "gridcolor": "white",
            "gridwidth": 2,
            "linecolor": "white",
            "showbackground": true,
            "ticks": "",
            "zerolinecolor": "white"
           },
           "zaxis": {
            "backgroundcolor": "#E5ECF6",
            "gridcolor": "white",
            "gridwidth": 2,
            "linecolor": "white",
            "showbackground": true,
            "ticks": "",
            "zerolinecolor": "white"
           }
          },
          "shapedefaults": {
           "line": {
            "color": "#2a3f5f"
           }
          },
          "ternary": {
           "aaxis": {
            "gridcolor": "white",
            "linecolor": "white",
            "ticks": ""
           },
           "baxis": {
            "gridcolor": "white",
            "linecolor": "white",
            "ticks": ""
           },
           "bgcolor": "#E5ECF6",
           "caxis": {
            "gridcolor": "white",
            "linecolor": "white",
            "ticks": ""
           }
          },
          "title": {
           "x": 0.05
          },
          "xaxis": {
           "automargin": true,
           "gridcolor": "white",
           "linecolor": "white",
           "ticks": "",
           "title": {
            "standoff": 15
           },
           "zerolinecolor": "white",
           "zerolinewidth": 2
          },
          "yaxis": {
           "automargin": true,
           "gridcolor": "white",
           "linecolor": "white",
           "ticks": "",
           "title": {
            "standoff": 15
           },
           "zerolinecolor": "white",
           "zerolinewidth": 2
          }
         }
        },
        "xaxis": {
         "anchor": "y",
         "domain": [
          0,
          1
         ],
         "title": {
          "text": "JobTitle"
         }
        },
        "yaxis": {
         "anchor": "x",
         "domain": [
          0,
          1
         ],
         "title": {
          "text": "BasePay"
         }
        }
       }
      }
     },
     "metadata": {},
     "output_type": "display_data"
    }
   ],
   "source": [
    "px.box(df2,x=\"JobTitle\", y = \"BasePay\", color='Gender', color_discrete_sequence=['Yellow','Orange'])"
   ]
  },
  {
   "cell_type": "markdown",
   "metadata": {},
   "source": [
    "With the help of this fig. we can see the max, median , min, q1 and q2 values of some specific fields like(Graphiac Designer, IT, Data Scientist)"
   ]
  },
  {
   "cell_type": "code",
   "execution_count": 21,
   "metadata": {},
   "outputs": [
    {
     "data": {
      "application/vnd.plotly.v1+json": {
       "config": {
        "plotlyServerURL": "https://plot.ly"
       },
       "data": [
        {
         "alignmentgroup": "True",
         "hovertemplate": "Gender=Female<br>JobTitle=%{x}<br>BasePay=%{y}<extra></extra>",
         "legendgroup": "Female",
         "marker": {
          "color": "Yellow"
         },
         "name": "Female",
         "notched": false,
         "offsetgroup": "Female",
         "orientation": "v",
         "showlegend": true,
         "type": "box",
         "x": [
          "Graphic Designer",
          "Warehouse Associate",
          "IT",
          "Graphic Designer",
          "Graphic Designer",
          "Sales Associate",
          "Driver",
          "Financial Analyst",
          "Warehouse Associate",
          "Warehouse Associate",
          "Marketing Associate",
          "Financial Analyst",
          "Warehouse Associate",
          "Data Scientist",
          "Driver",
          "Graphic Designer",
          "IT",
          "Marketing Associate",
          "Data Scientist",
          "Data Scientist",
          "IT",
          "Data Scientist",
          "Graphic Designer",
          "IT",
          "Marketing Associate",
          "Data Scientist",
          "Software Engineer",
          "Data Scientist",
          "Driver",
          "Data Scientist",
          "Marketing Associate",
          "Warehouse Associate",
          "Sales Associate",
          "Warehouse Associate",
          "Sales Associate",
          "Warehouse Associate",
          "Financial Analyst",
          "Marketing Associate",
          "Warehouse Associate",
          "Marketing Associate",
          "Warehouse Associate",
          "Warehouse Associate",
          "Data Scientist",
          "IT",
          "Data Scientist",
          "Financial Analyst",
          "Marketing Associate",
          "Driver",
          "Financial Analyst",
          "Graphic Designer",
          "Marketing Associate",
          "Warehouse Associate",
          "Financial Analyst",
          "Financial Analyst",
          "Warehouse Associate",
          "Financial Analyst",
          "Marketing Associate",
          "Warehouse Associate",
          "Marketing Associate",
          "Sales Associate",
          "Financial Analyst",
          "Driver",
          "Marketing Associate",
          "Graphic Designer",
          "Driver",
          "Marketing Associate",
          "IT",
          "IT",
          "Financial Analyst",
          "Marketing Associate",
          "Driver",
          "Manager",
          "Marketing Associate",
          "Warehouse Associate",
          "Financial Analyst",
          "Software Engineer",
          "Warehouse Associate",
          "Driver",
          "Warehouse Associate",
          "Graphic Designer",
          "Data Scientist",
          "Warehouse Associate",
          "Data Scientist",
          "Sales Associate",
          "Graphic Designer",
          "Warehouse Associate",
          "Marketing Associate",
          "Marketing Associate",
          "Marketing Associate",
          "IT",
          "IT",
          "IT",
          "Driver",
          "Warehouse Associate",
          "IT",
          "Marketing Associate",
          "Marketing Associate",
          "Marketing Associate",
          "Financial Analyst",
          "Sales Associate",
          "Driver",
          "Graphic Designer",
          "Data Scientist",
          "Warehouse Associate",
          "Graphic Designer",
          "Marketing Associate",
          "Graphic Designer",
          "Financial Analyst",
          "Data Scientist",
          "Data Scientist",
          "Marketing Associate",
          "Warehouse Associate",
          "Driver",
          "Financial Analyst",
          "IT",
          "Marketing Associate",
          "Graphic Designer",
          "Software Engineer",
          "Driver",
          "Sales Associate",
          "Graphic Designer",
          "Marketing Associate",
          "Data Scientist",
          "Financial Analyst",
          "IT",
          "Warehouse Associate",
          "Sales Associate",
          "Warehouse Associate",
          "Data Scientist",
          "Warehouse Associate",
          "Data Scientist",
          "Graphic Designer",
          "IT",
          "Sales Associate",
          "Financial Analyst",
          "Warehouse Associate",
          "IT",
          "IT",
          "Graphic Designer",
          "Driver",
          "Sales Associate",
          "Driver",
          "Marketing Associate",
          "Graphic Designer",
          "Manager",
          "Warehouse Associate",
          "Marketing Associate",
          "Financial Analyst",
          "Manager",
          "Driver",
          "Warehouse Associate",
          "Sales Associate",
          "Data Scientist",
          "Driver",
          "Warehouse Associate",
          "Marketing Associate",
          "Graphic Designer",
          "Sales Associate",
          "Manager",
          "Data Scientist",
          "Warehouse Associate",
          "Graphic Designer",
          "Financial Analyst",
          "Marketing Associate",
          "Driver",
          "Sales Associate",
          "Driver",
          "Software Engineer",
          "Graphic Designer",
          "Software Engineer",
          "Marketing Associate",
          "Driver",
          "Data Scientist",
          "Manager",
          "Sales Associate",
          "Marketing Associate",
          "Financial Analyst",
          "Driver",
          "Data Scientist",
          "Driver",
          "Driver",
          "Marketing Associate",
          "Marketing Associate",
          "Marketing Associate",
          "Marketing Associate",
          "Marketing Associate",
          "Marketing Associate",
          "Warehouse Associate",
          "Data Scientist",
          "Marketing Associate",
          "Warehouse Associate",
          "Sales Associate",
          "Warehouse Associate",
          "Marketing Associate",
          "Marketing Associate",
          "IT",
          "Graphic Designer",
          "Data Scientist",
          "IT",
          "Marketing Associate",
          "Financial Analyst",
          "IT",
          "Marketing Associate",
          "Warehouse Associate",
          "Financial Analyst",
          "Marketing Associate",
          "Marketing Associate",
          "Driver",
          "Graphic Designer",
          "Sales Associate",
          "Driver",
          "Manager",
          "Marketing Associate",
          "Sales Associate",
          "Marketing Associate",
          "Warehouse Associate",
          "Graphic Designer",
          "Sales Associate",
          "Data Scientist",
          "Data Scientist",
          "Marketing Associate",
          "Data Scientist",
          "Marketing Associate",
          "IT",
          "Manager",
          "Financial Analyst",
          "Sales Associate",
          "Sales Associate",
          "Financial Analyst",
          "Marketing Associate",
          "Warehouse Associate",
          "Driver",
          "Driver",
          "IT",
          "Marketing Associate",
          "Graphic Designer",
          "Financial Analyst",
          "Driver",
          "Warehouse Associate",
          "Financial Analyst",
          "Sales Associate",
          "Graphic Designer",
          "IT",
          "Data Scientist",
          "Manager",
          "Marketing Associate",
          "Driver",
          "Driver",
          "Manager",
          "Graphic Designer",
          "Data Scientist",
          "Data Scientist",
          "Sales Associate",
          "Sales Associate",
          "IT",
          "IT",
          "Data Scientist",
          "Data Scientist",
          "Marketing Associate",
          "Financial Analyst",
          "Sales Associate",
          "IT",
          "Graphic Designer",
          "Financial Analyst",
          "Data Scientist",
          "Marketing Associate",
          "Driver",
          "Marketing Associate",
          "Sales Associate",
          "IT",
          "Marketing Associate",
          "Sales Associate",
          "IT",
          "Marketing Associate",
          "Marketing Associate",
          "IT",
          "Data Scientist",
          "Driver",
          "Financial Analyst",
          "Data Scientist",
          "Marketing Associate",
          "Marketing Associate",
          "Marketing Associate",
          "Graphic Designer",
          "Sales Associate",
          "Graphic Designer",
          "Manager",
          "Marketing Associate",
          "IT",
          "Financial Analyst",
          "Graphic Designer",
          "Driver",
          "Sales Associate",
          "Data Scientist",
          "Marketing Associate",
          "Marketing Associate",
          "Marketing Associate",
          "Warehouse Associate",
          "Financial Analyst",
          "Data Scientist",
          "Warehouse Associate",
          "Warehouse Associate",
          "IT",
          "Marketing Associate",
          "Graphic Designer",
          "Graphic Designer",
          "Warehouse Associate",
          "Data Scientist",
          "Warehouse Associate",
          "Data Scientist",
          "Financial Analyst",
          "Financial Analyst",
          "Financial Analyst",
          "Sales Associate",
          "IT",
          "Warehouse Associate",
          "Graphic Designer",
          "Marketing Associate",
          "Graphic Designer",
          "Manager",
          "Sales Associate",
          "Manager",
          "Marketing Associate",
          "Data Scientist",
          "Data Scientist",
          "Marketing Associate",
          "IT",
          "Marketing Associate",
          "Driver",
          "Data Scientist",
          "Marketing Associate",
          "IT",
          "Data Scientist",
          "Warehouse Associate",
          "Driver",
          "Data Scientist",
          "IT",
          "IT",
          "Marketing Associate",
          "Driver",
          "Graphic Designer",
          "Data Scientist",
          "IT",
          "Financial Analyst",
          "Driver",
          "IT",
          "Driver",
          "Sales Associate",
          "Data Scientist",
          "Warehouse Associate",
          "Sales Associate",
          "IT",
          "Financial Analyst",
          "Graphic Designer",
          "Graphic Designer",
          "Sales Associate",
          "IT",
          "Marketing Associate",
          "Marketing Associate",
          "Financial Analyst",
          "Graphic Designer",
          "Graphic Designer",
          "Financial Analyst",
          "Marketing Associate",
          "Software Engineer",
          "Marketing Associate",
          "Marketing Associate",
          "Graphic Designer",
          "Marketing Associate",
          "Sales Associate",
          "Software Engineer",
          "Manager",
          "Marketing Associate",
          "Marketing Associate",
          "Driver",
          "Marketing Associate",
          "Sales Associate",
          "Marketing Associate",
          "Driver",
          "Marketing Associate",
          "Marketing Associate",
          "Driver",
          "Driver",
          "Sales Associate",
          "Marketing Associate",
          "Graphic Designer",
          "IT",
          "Financial Analyst",
          "Financial Analyst",
          "Data Scientist",
          "Warehouse Associate",
          "Marketing Associate",
          "Manager",
          "Sales Associate",
          "Marketing Associate",
          "Graphic Designer",
          "Marketing Associate",
          "Graphic Designer",
          "Data Scientist",
          "Graphic Designer",
          "Marketing Associate",
          "Manager",
          "Data Scientist",
          "Financial Analyst",
          "Warehouse Associate",
          "Financial Analyst",
          "Financial Analyst",
          "Data Scientist",
          "IT",
          "Sales Associate",
          "Marketing Associate",
          "Marketing Associate",
          "Marketing Associate",
          "IT",
          "IT",
          "Financial Analyst",
          "Manager",
          "Sales Associate",
          "Marketing Associate",
          "Driver",
          "Marketing Associate",
          "Marketing Associate",
          "Software Engineer",
          "Graphic Designer",
          "Graphic Designer",
          "Driver",
          "Marketing Associate",
          "Financial Analyst",
          "Sales Associate",
          "Marketing Associate",
          "IT",
          "Manager",
          "Data Scientist",
          "Data Scientist",
          "Marketing Associate",
          "Sales Associate",
          "Sales Associate",
          "Manager",
          "IT",
          "IT",
          "Marketing Associate",
          "IT",
          "Financial Analyst",
          "Financial Analyst",
          "Driver",
          "Marketing Associate",
          "Data Scientist",
          "Data Scientist",
          "Driver",
          "Driver",
          "Financial Analyst",
          "Marketing Associate",
          "Marketing Associate",
          "Marketing Associate",
          "Financial Analyst",
          "Sales Associate",
          "IT",
          "Marketing Associate",
          "Marketing Associate",
          "IT",
          "Marketing Associate",
          "Financial Analyst",
          "Graphic Designer",
          "IT",
          "Graphic Designer",
          "Marketing Associate",
          "Marketing Associate",
          "Marketing Associate"
         ],
         "x0": " ",
         "xaxis": "x",
         "y": [
          42363,
          90208,
          70890,
          67585,
          112976,
          106524,
          62759,
          84007,
          86220,
          95584,
          73357,
          88422,
          99545,
          92067,
          72038,
          71182,
          112392,
          80306,
          74523,
          113252,
          84638,
          70643,
          74167,
          102120,
          97376,
          89415,
          88037,
          71105,
          62692,
          71193,
          76286,
          82453,
          83034,
          127085,
          52633,
          101154,
          113640,
          46263,
          74938,
          103384,
          77584,
          80192,
          46693,
          88152,
          127156,
          92622,
          51331,
          77032,
          146190,
          96045,
          96061,
          111342,
          117554,
          109369,
          92358,
          91978,
          89822,
          87684,
          62040,
          84132,
          88047,
          65012,
          59251,
          78462,
          42722,
          63695,
          53956,
          108495,
          87608,
          57469,
          91049,
          98519,
          91713,
          88994,
          113180,
          103763,
          64844,
          129132,
          93470,
          66529,
          100115,
          86423,
          133495,
          84844,
          108241,
          106478,
          46903,
          44325,
          60070,
          72542,
          80981,
          83499,
          106788,
          108922,
          127062,
          49830,
          82338,
          86036,
          100070,
          129609,
          72827,
          100416,
          78623,
          106158,
          89411,
          95687,
          120294,
          76773,
          98010,
          91099,
          128970,
          121376,
          64008,
          129406,
          54245,
          67530,
          81826,
          65711,
          73801,
          93268,
          103133,
          69254,
          97000,
          40341,
          102247,
          92722,
          72120,
          62260,
          84021,
          37026,
          55954,
          108820,
          100014,
          108288,
          114007,
          94973,
          37780,
          121210,
          95169,
          75901,
          92276,
          92458,
          87435,
          130251,
          106560,
          56172,
          58807,
          126626,
          104202,
          78750,
          93306,
          56745,
          59458,
          71824,
          91568,
          81995,
          66125,
          98321,
          155203,
          73306,
          76865,
          125770,
          119931,
          71794,
          87998,
          77275,
          130720,
          86675,
          56954,
          112491,
          36548,
          88781,
          129226,
          160614,
          89570,
          73989,
          67762,
          77751,
          87150,
          79291,
          57070,
          102201,
          57782,
          71772,
          66438,
          79674,
          85161,
          114479,
          71946,
          62054,
          64624,
          105410,
          90005,
          70374,
          104355,
          75811,
          107025,
          40056,
          70846,
          79707,
          62377,
          75932,
          82755,
          78021,
          116758,
          96500,
          49632,
          76700,
          100516,
          84935,
          101249,
          144146,
          69268,
          127561,
          77223,
          92080,
          118762,
          85398,
          123172,
          107476,
          34208,
          82345,
          49303,
          98456,
          129885,
          97797,
          91566,
          131608,
          65750,
          76806,
          114733,
          89170,
          78751,
          75518,
          75294,
          127608,
          116069,
          86122,
          68300,
          94590,
          87418,
          104082,
          94354,
          90713,
          113009,
          72030,
          66203,
          67210,
          115383,
          120697,
          125770,
          97846,
          76522,
          87131,
          56656,
          70157,
          98366,
          73798,
          94763,
          101534,
          90426,
          99369,
          55845,
          48570,
          113274,
          86241,
          100433,
          123242,
          87585,
          45747,
          36972,
          64754,
          132267,
          112507,
          100316,
          111120,
          76523,
          91160,
          66935,
          138365,
          59006,
          74305,
          38451,
          113465,
          66377,
          55569,
          119033,
          106315,
          105598,
          78084,
          41603,
          78002,
          81866,
          91711,
          93805,
          109931,
          88365,
          79334,
          98512,
          78910,
          125574,
          106963,
          111770,
          57672,
          97768,
          76103,
          93441,
          108366,
          85453,
          79765,
          129683,
          76908,
          93696,
          83095,
          81325,
          102106,
          80635,
          73404,
          133741,
          104329,
          102745,
          146008,
          68364,
          96584,
          102265,
          81249,
          101791,
          77584,
          88175,
          65816,
          73685,
          55560,
          106452,
          87575,
          113140,
          100505,
          104589,
          61081,
          79237,
          108475,
          99942,
          108296,
          126370,
          122142,
          75919,
          103416,
          104468,
          117202,
          139141,
          134109,
          66887,
          124847,
          50758,
          75316,
          111502,
          116642,
          113283,
          86538,
          77742,
          114171,
          106204,
          111041,
          95795,
          98575,
          117131,
          38613,
          62866,
          108731,
          47739,
          64920,
          79177,
          136215,
          63327,
          52578,
          114436,
          99543,
          60983,
          55885,
          107064,
          107370,
          39741,
          103242,
          120112,
          83308,
          36585,
          115344,
          96982,
          80030,
          84047,
          84764,
          120277,
          81661,
          149893,
          130417,
          38855,
          96232,
          86563,
          72248,
          125828,
          75017,
          100415,
          145095,
          115641,
          119058,
          106722,
          91129,
          92891,
          141005,
          131411,
          96900,
          88820,
          112489,
          53839,
          64807,
          41151,
          114031,
          119893,
          94154,
          114906,
          115981,
          93018,
          69928,
          104623,
          63914,
          90474,
          60026,
          108587,
          139042,
          101423,
          95995,
          99472,
          135638,
          121457,
          114141,
          107572,
          142505,
          106279,
          106916,
          92257,
          59377,
          76726,
          112502,
          101515,
          67089,
          97789,
          54945,
          121239,
          87314,
          124530,
          67150,
          63300,
          60271,
          66028,
          91300,
          90999,
          86795,
          110627,
          97696,
          62738,
          112169,
          98796,
          96665,
          91030,
          106945,
          81545,
          80789,
          85253,
          62644
         ],
         "y0": " ",
         "yaxis": "y"
        },
        {
         "alignmentgroup": "True",
         "hovertemplate": "Gender=Male<br>JobTitle=%{x}<br>BasePay=%{y}<extra></extra>",
         "legendgroup": "Male",
         "marker": {
          "color": "Orange"
         },
         "name": "Male",
         "notched": false,
         "offsetgroup": "Male",
         "orientation": "v",
         "showlegend": true,
         "type": "box",
         "x": [
          "Software Engineer",
          "Software Engineer",
          "Graphic Designer",
          "Software Engineer",
          "Graphic Designer",
          "Sales Associate",
          "Warehouse Associate",
          "Financial Analyst",
          "Warehouse Associate",
          "Software Engineer",
          "Software Engineer",
          "Graphic Designer",
          "Warehouse Associate",
          "Software Engineer",
          "Sales Associate",
          "Software Engineer",
          "Software Engineer",
          "Software Engineer",
          "IT",
          "Data Scientist",
          "Data Scientist",
          "Software Engineer",
          "Warehouse Associate",
          "Software Engineer",
          "Software Engineer",
          "Marketing Associate",
          "Sales Associate",
          "Software Engineer",
          "Software Engineer",
          "Financial Analyst",
          "Graphic Designer",
          "Software Engineer",
          "Driver",
          "Sales Associate",
          "Data Scientist",
          "Data Scientist",
          "Manager",
          "Data Scientist",
          "Graphic Designer",
          "Financial Analyst",
          "Warehouse Associate",
          "Warehouse Associate",
          "Manager",
          "Graphic Designer",
          "Manager",
          "Software Engineer",
          "Warehouse Associate",
          "Software Engineer",
          "Software Engineer",
          "IT",
          "Sales Associate",
          "IT",
          "Warehouse Associate",
          "Driver",
          "Financial Analyst",
          "Driver",
          "Data Scientist",
          "Software Engineer",
          "Driver",
          "Sales Associate",
          "Data Scientist",
          "IT",
          "Financial Analyst",
          "Marketing Associate",
          "Graphic Designer",
          "Graphic Designer",
          "Financial Analyst",
          "Financial Analyst",
          "Data Scientist",
          "Financial Analyst",
          "Warehouse Associate",
          "Software Engineer",
          "Manager",
          "Data Scientist",
          "Sales Associate",
          "Marketing Associate",
          "IT",
          "Financial Analyst",
          "Software Engineer",
          "Software Engineer",
          "Sales Associate",
          "Financial Analyst",
          "Driver",
          "Graphic Designer",
          "Software Engineer",
          "Driver",
          "Software Engineer",
          "Manager",
          "Software Engineer",
          "Sales Associate",
          "Graphic Designer",
          "Software Engineer",
          "Software Engineer",
          "Warehouse Associate",
          "Software Engineer",
          "Data Scientist",
          "Sales Associate",
          "Manager",
          "IT",
          "Financial Analyst",
          "Graphic Designer",
          "Software Engineer",
          "Software Engineer",
          "Sales Associate",
          "Graphic Designer",
          "Manager",
          "Financial Analyst",
          "Software Engineer",
          "Driver",
          "Financial Analyst",
          "Graphic Designer",
          "IT",
          "Graphic Designer",
          "Sales Associate",
          "Manager",
          "Graphic Designer",
          "Data Scientist",
          "Data Scientist",
          "Driver",
          "IT",
          "Software Engineer",
          "Financial Analyst",
          "IT",
          "Software Engineer",
          "Sales Associate",
          "IT",
          "Graphic Designer",
          "Driver",
          "Graphic Designer",
          "Financial Analyst",
          "Manager",
          "Data Scientist",
          "Software Engineer",
          "Driver",
          "Manager",
          "Warehouse Associate",
          "Data Scientist",
          "Driver",
          "IT",
          "Driver",
          "Driver",
          "Warehouse Associate",
          "IT",
          "Graphic Designer",
          "Data Scientist",
          "IT",
          "Financial Analyst",
          "Graphic Designer",
          "Financial Analyst",
          "Sales Associate",
          "Sales Associate",
          "Graphic Designer",
          "Financial Analyst",
          "Warehouse Associate",
          "Manager",
          "Software Engineer",
          "Warehouse Associate",
          "Warehouse Associate",
          "Driver",
          "Graphic Designer",
          "Software Engineer",
          "Financial Analyst",
          "Graphic Designer",
          "Software Engineer",
          "IT",
          "Software Engineer",
          "Financial Analyst",
          "Driver",
          "Manager",
          "IT",
          "Driver",
          "Financial Analyst",
          "Software Engineer",
          "Warehouse Associate",
          "Manager",
          "IT",
          "Data Scientist",
          "Sales Associate",
          "Software Engineer",
          "Financial Analyst",
          "Driver",
          "Manager",
          "Graphic Designer",
          "Sales Associate",
          "Financial Analyst",
          "Graphic Designer",
          "Manager",
          "Driver",
          "Manager",
          "Sales Associate",
          "Software Engineer",
          "Warehouse Associate",
          "Marketing Associate",
          "Financial Analyst",
          "Software Engineer",
          "Driver",
          "Data Scientist",
          "Software Engineer",
          "Manager",
          "Sales Associate",
          "Financial Analyst",
          "Financial Analyst",
          "Financial Analyst",
          "Marketing Associate",
          "Sales Associate",
          "IT",
          "Software Engineer",
          "Manager",
          "Data Scientist",
          "Manager",
          "Data Scientist",
          "IT",
          "Financial Analyst",
          "IT",
          "Manager",
          "Software Engineer",
          "Manager",
          "IT",
          "Manager",
          "Manager",
          "Software Engineer",
          "Driver",
          "Warehouse Associate",
          "Manager",
          "Graphic Designer",
          "Software Engineer",
          "Data Scientist",
          "Sales Associate",
          "Software Engineer",
          "Financial Analyst",
          "Software Engineer",
          "Warehouse Associate",
          "Software Engineer",
          "Manager",
          "Marketing Associate",
          "Data Scientist",
          "Data Scientist",
          "Manager",
          "Data Scientist",
          "Warehouse Associate",
          "Software Engineer",
          "Graphic Designer",
          "Software Engineer",
          "Warehouse Associate",
          "Software Engineer",
          "Software Engineer",
          "Software Engineer",
          "Software Engineer",
          "Manager",
          "Data Scientist",
          "Warehouse Associate",
          "Software Engineer",
          "Manager",
          "Graphic Designer",
          "Manager",
          "Sales Associate",
          "Graphic Designer",
          "Graphic Designer",
          "Warehouse Associate",
          "Financial Analyst",
          "Sales Associate",
          "Graphic Designer",
          "Manager",
          "Sales Associate",
          "Financial Analyst",
          "Manager",
          "Software Engineer",
          "Data Scientist",
          "Data Scientist",
          "Financial Analyst",
          "IT",
          "Marketing Associate",
          "Warehouse Associate",
          "Manager",
          "Warehouse Associate",
          "Manager",
          "Software Engineer",
          "Warehouse Associate",
          "Financial Analyst",
          "Manager",
          "Financial Analyst",
          "IT",
          "Graphic Designer",
          "Manager",
          "Manager",
          "Financial Analyst",
          "Financial Analyst",
          "Warehouse Associate",
          "Graphic Designer",
          "Warehouse Associate",
          "Software Engineer",
          "Warehouse Associate",
          "Driver",
          "Driver",
          "Sales Associate",
          "Data Scientist",
          "IT",
          "IT",
          "Driver",
          "Financial Analyst",
          "Warehouse Associate",
          "Manager",
          "Software Engineer",
          "Manager",
          "Graphic Designer",
          "Manager",
          "Graphic Designer",
          "Graphic Designer",
          "Graphic Designer",
          "Manager",
          "Data Scientist",
          "Software Engineer",
          "Data Scientist",
          "Manager",
          "Manager",
          "Data Scientist",
          "Software Engineer",
          "IT",
          "Data Scientist",
          "IT",
          "Driver",
          "Warehouse Associate",
          "IT",
          "Manager",
          "Software Engineer",
          "Manager",
          "Manager",
          "Sales Associate",
          "Software Engineer",
          "IT",
          "Warehouse Associate",
          "Graphic Designer",
          "Manager",
          "Software Engineer",
          "Driver",
          "Financial Analyst",
          "Graphic Designer",
          "Driver",
          "Software Engineer",
          "Data Scientist",
          "Graphic Designer",
          "Warehouse Associate",
          "IT",
          "Sales Associate",
          "Software Engineer",
          "Driver",
          "Financial Analyst",
          "Warehouse Associate",
          "Driver",
          "Marketing Associate",
          "Financial Analyst",
          "Graphic Designer",
          "Driver",
          "Financial Analyst",
          "Driver",
          "Manager",
          "Driver",
          "Data Scientist",
          "Sales Associate",
          "Software Engineer",
          "Sales Associate",
          "Software Engineer",
          "Data Scientist",
          "IT",
          "Software Engineer",
          "Sales Associate",
          "Warehouse Associate",
          "Data Scientist",
          "IT",
          "Warehouse Associate",
          "Financial Analyst",
          "Financial Analyst",
          "Marketing Associate",
          "Manager",
          "Graphic Designer",
          "Manager",
          "Driver",
          "Data Scientist",
          "IT",
          "Software Engineer",
          "Sales Associate",
          "Sales Associate",
          "Warehouse Associate",
          "Data Scientist",
          "Data Scientist",
          "Driver",
          "Driver",
          "Software Engineer",
          "Manager",
          "Software Engineer",
          "IT",
          "Software Engineer",
          "Sales Associate",
          "Software Engineer",
          "Software Engineer",
          "Sales Associate",
          "Manager",
          "Manager",
          "Manager",
          "Software Engineer",
          "Driver",
          "Software Engineer",
          "Graphic Designer",
          "Sales Associate",
          "Manager",
          "Data Scientist",
          "Manager",
          "Data Scientist",
          "Driver",
          "Driver",
          "Software Engineer",
          "Financial Analyst",
          "Software Engineer",
          "Manager",
          "Software Engineer",
          "Sales Associate",
          "Warehouse Associate",
          "Sales Associate",
          "Financial Analyst",
          "Graphic Designer",
          "Manager",
          "Data Scientist",
          "Financial Analyst",
          "IT",
          "Manager",
          "Financial Analyst",
          "Warehouse Associate",
          "Driver",
          "Manager",
          "Sales Associate",
          "Graphic Designer",
          "Software Engineer",
          "Sales Associate",
          "Software Engineer",
          "Graphic Designer",
          "Sales Associate",
          "Software Engineer",
          "Graphic Designer",
          "Graphic Designer",
          "Sales Associate",
          "Sales Associate",
          "Driver",
          "Marketing Associate",
          "Software Engineer",
          "Driver",
          "Warehouse Associate",
          "Manager",
          "Driver",
          "Software Engineer",
          "Data Scientist",
          "Financial Analyst",
          "Manager",
          "Data Scientist",
          "Manager",
          "Data Scientist",
          "Warehouse Associate",
          "Sales Associate",
          "Sales Associate",
          "Marketing Associate",
          "Software Engineer",
          "Manager",
          "IT",
          "Manager",
          "Software Engineer",
          "Data Scientist",
          "IT",
          "Software Engineer",
          "Financial Analyst",
          "Graphic Designer",
          "Financial Analyst",
          "Manager",
          "IT",
          "IT",
          "IT",
          "Financial Analyst",
          "Data Scientist",
          "Software Engineer",
          "Data Scientist",
          "Manager",
          "Graphic Designer",
          "Financial Analyst",
          "Driver",
          "Manager",
          "Data Scientist",
          "Driver",
          "Driver",
          "Financial Analyst",
          "Sales Associate",
          "Driver",
          "Software Engineer",
          "IT",
          "Software Engineer",
          "IT",
          "Manager",
          "Financial Analyst",
          "IT",
          "Software Engineer",
          "Software Engineer",
          "Data Scientist",
          "Manager",
          "Warehouse Associate",
          "Software Engineer",
          "Data Scientist",
          "Manager",
          "IT",
          "Software Engineer",
          "Graphic Designer",
          "Sales Associate",
          "Data Scientist",
          "IT",
          "Financial Analyst",
          "Sales Associate",
          "IT",
          "Warehouse Associate",
          "Sales Associate",
          "Software Engineer",
          "Manager",
          "Data Scientist",
          "Software Engineer",
          "Warehouse Associate",
          "Software Engineer",
          "Sales Associate",
          "IT",
          "Sales Associate",
          "Software Engineer",
          "Manager",
          "Data Scientist",
          "Sales Associate",
          "Data Scientist",
          "Financial Analyst",
          "Financial Analyst",
          "Financial Analyst"
         ],
         "x0": " ",
         "xaxis": "x",
         "y": [
          108476,
          108080,
          99464,
          97523,
          102261,
          90386,
          108446,
          83323,
          85205,
          132823,
          100305,
          88566,
          104271,
          66359,
          103007,
          96040,
          91674,
          92928,
          78986,
          96355,
          87121,
          88724,
          58219,
          119024,
          81503,
          86886,
          90780,
          89474,
          112466,
          97328,
          86766,
          88814,
          82832,
          66168,
          59212,
          55189,
          131311,
          50401,
          83031,
          111019,
          48755,
          59044,
          146615,
          69462,
          119162,
          68466,
          109419,
          80355,
          82534,
          127769,
          52290,
          47036,
          76517,
          90368,
          106194,
          97414,
          110731,
          125572,
          72754,
          135013,
          101173,
          126828,
          102716,
          77793,
          83758,
          40187,
          98531,
          104435,
          67617,
          119381,
          68639,
          68295,
          103107,
          97625,
          115165,
          86516,
          69855,
          114421,
          79208,
          142105,
          57783,
          71858,
          100183,
          61000,
          109623,
          110049,
          120593,
          90685,
          106896,
          129425,
          93073,
          87352,
          139760,
          102815,
          101262,
          58054,
          100091,
          103479,
          74073,
          64852,
          106887,
          77309,
          88482,
          80135,
          57398,
          107140,
          89559,
          120156,
          102966,
          112941,
          102736,
          90024,
          75506,
          61164,
          157410,
          50601,
          65907,
          80937,
          90330,
          109345,
          66084,
          98900,
          78113,
          130826,
          85928,
          98515,
          114680,
          92687,
          72301,
          67749,
          104526,
          80494,
          74316,
          104657,
          123422,
          62097,
          102910,
          56318,
          64958,
          88213,
          100859,
          83025,
          95964,
          102108,
          60736,
          82126,
          69878,
          132873,
          65164,
          94492,
          100463,
          88571,
          87409,
          133927,
          90482,
          107366,
          77793,
          84930,
          69367,
          116751,
          139841,
          60892,
          99543,
          111903,
          104361,
          155834,
          83620,
          89678,
          109346,
          98100,
          68797,
          120154,
          140445,
          85306,
          143887,
          133472,
          62753,
          128173,
          157852,
          113730,
          68403,
          176789,
          59399,
          102473,
          90307,
          79144,
          150467,
          70088,
          117629,
          118653,
          134758,
          87134,
          65547,
          96777,
          61527,
          118629,
          80171,
          112134,
          121682,
          113544,
          78564,
          91905,
          121728,
          54817,
          37898,
          79544,
          124817,
          123114,
          82850,
          121949,
          122037,
          56309,
          90002,
          91066,
          118088,
          92099,
          138851,
          131275,
          89648,
          112854,
          155676,
          135781,
          66407,
          143189,
          105800,
          124871,
          83894,
          85948,
          92289,
          75397,
          102597,
          72945,
          145632,
          130093,
          53220,
          75227,
          104314,
          83262,
          67040,
          77655,
          89811,
          106893,
          154039,
          116774,
          98281,
          121821,
          113122,
          92154,
          110643,
          103908,
          94927,
          76654,
          107859,
          85702,
          115567,
          118888,
          75833,
          123371,
          83774,
          69320,
          110746,
          105632,
          117648,
          85986,
          78132,
          135073,
          118231,
          86651,
          114693,
          116875,
          64468,
          116834,
          81988,
          148178,
          68384,
          106056,
          110886,
          128669,
          88725,
          149771,
          98535,
          88749,
          126100,
          110594,
          157644,
          105601,
          100769,
          82244,
          70311,
          100465,
          83264,
          126375,
          43076,
          111726,
          112188,
          98959,
          77881,
          65225,
          78472,
          126269,
          106233,
          127013,
          106146,
          90736,
          66611,
          150914,
          70559,
          69734,
          91504,
          100183,
          98165,
          95754,
          57915,
          121506,
          121151,
          87682,
          114029,
          67323,
          68049,
          93335,
          111043,
          58130,
          90542,
          124891,
          134757,
          125339,
          105795,
          75238,
          103978,
          165229,
          118322,
          106883,
          125164,
          89225,
          101716,
          79142,
          97240,
          81301,
          79462,
          72497,
          84803,
          79274,
          49622,
          129620,
          87848,
          51906,
          71590,
          63928,
          83333,
          92797,
          93067,
          72422,
          120159,
          104744,
          95795,
          103156,
          92760,
          93742,
          124470,
          132323,
          70595,
          71278,
          53855,
          98423,
          126239,
          101133,
          92516,
          93320,
          106584,
          90612,
          82790,
          84628,
          110636,
          135106,
          100160,
          157169,
          88230,
          83674,
          118314,
          119522,
          84592,
          121589,
          71371,
          96582,
          108778,
          128520,
          62753,
          128680,
          152710,
          109136,
          84878,
          94745,
          95505,
          103181,
          120096,
          98499,
          152081,
          134450,
          100819,
          157277,
          68175,
          122624,
          101273,
          59334,
          152625,
          90526,
          133910,
          77839,
          61018,
          118093,
          106503,
          84683,
          67913,
          155826,
          138184,
          106798,
          82343,
          78625,
          99134,
          107818,
          114621,
          104290,
          111403,
          93802,
          138163,
          115613,
          64994,
          100941,
          163208,
          51837,
          114048,
          139068,
          136209,
          121910,
          82057,
          96023,
          82277,
          73142,
          107065,
          120579,
          49553,
          110157,
          93054,
          81515,
          95898,
          90000,
          111896,
          130082,
          81057,
          117215,
          141186,
          114943,
          107640,
          80259,
          61589,
          74829,
          91342,
          101140,
          62600,
          65313,
          123153,
          57500,
          115604,
          55555,
          124166,
          101050,
          160460,
          85947,
          135512,
          124151,
          115742,
          93358,
          98995,
          109645,
          61609,
          122352,
          86650,
          101284,
          119794,
          96609,
          84725,
          59493,
          131980,
          78836,
          112719,
          103328,
          68643,
          67296,
          116803,
          86375,
          49449,
          118282,
          85648,
          179726,
          108719,
          109832,
          127250,
          81547,
          95798,
          124782,
          126256,
          124660,
          128730,
          136836,
          89272,
          93855,
          36642,
          112604,
          123333,
          105771,
          99643,
          92468,
          91447,
          45915,
          113031,
          132815,
          110078,
          106918,
          106045,
          107479,
          109606,
          88195,
          92950,
          82164,
          119069,
          120574,
          97311,
          102593,
          108977,
          92347,
          97376,
          123108
         ],
         "y0": " ",
         "yaxis": "y"
        }
       ],
       "layout": {
        "boxmode": "group",
        "legend": {
         "title": {
          "text": "Gender"
         },
         "tracegroupgap": 0
        },
        "margin": {
         "t": 60
        },
        "template": {
         "data": {
          "bar": [
           {
            "error_x": {
             "color": "#2a3f5f"
            },
            "error_y": {
             "color": "#2a3f5f"
            },
            "marker": {
             "line": {
              "color": "#E5ECF6",
              "width": 0.5
             },
             "pattern": {
              "fillmode": "overlay",
              "size": 10,
              "solidity": 0.2
             }
            },
            "type": "bar"
           }
          ],
          "barpolar": [
           {
            "marker": {
             "line": {
              "color": "#E5ECF6",
              "width": 0.5
             },
             "pattern": {
              "fillmode": "overlay",
              "size": 10,
              "solidity": 0.2
             }
            },
            "type": "barpolar"
           }
          ],
          "carpet": [
           {
            "aaxis": {
             "endlinecolor": "#2a3f5f",
             "gridcolor": "white",
             "linecolor": "white",
             "minorgridcolor": "white",
             "startlinecolor": "#2a3f5f"
            },
            "baxis": {
             "endlinecolor": "#2a3f5f",
             "gridcolor": "white",
             "linecolor": "white",
             "minorgridcolor": "white",
             "startlinecolor": "#2a3f5f"
            },
            "type": "carpet"
           }
          ],
          "choropleth": [
           {
            "colorbar": {
             "outlinewidth": 0,
             "ticks": ""
            },
            "type": "choropleth"
           }
          ],
          "contour": [
           {
            "colorbar": {
             "outlinewidth": 0,
             "ticks": ""
            },
            "colorscale": [
             [
              0,
              "#0d0887"
             ],
             [
              0.1111111111111111,
              "#46039f"
             ],
             [
              0.2222222222222222,
              "#7201a8"
             ],
             [
              0.3333333333333333,
              "#9c179e"
             ],
             [
              0.4444444444444444,
              "#bd3786"
             ],
             [
              0.5555555555555556,
              "#d8576b"
             ],
             [
              0.6666666666666666,
              "#ed7953"
             ],
             [
              0.7777777777777778,
              "#fb9f3a"
             ],
             [
              0.8888888888888888,
              "#fdca26"
             ],
             [
              1,
              "#f0f921"
             ]
            ],
            "type": "contour"
           }
          ],
          "contourcarpet": [
           {
            "colorbar": {
             "outlinewidth": 0,
             "ticks": ""
            },
            "type": "contourcarpet"
           }
          ],
          "heatmap": [
           {
            "colorbar": {
             "outlinewidth": 0,
             "ticks": ""
            },
            "colorscale": [
             [
              0,
              "#0d0887"
             ],
             [
              0.1111111111111111,
              "#46039f"
             ],
             [
              0.2222222222222222,
              "#7201a8"
             ],
             [
              0.3333333333333333,
              "#9c179e"
             ],
             [
              0.4444444444444444,
              "#bd3786"
             ],
             [
              0.5555555555555556,
              "#d8576b"
             ],
             [
              0.6666666666666666,
              "#ed7953"
             ],
             [
              0.7777777777777778,
              "#fb9f3a"
             ],
             [
              0.8888888888888888,
              "#fdca26"
             ],
             [
              1,
              "#f0f921"
             ]
            ],
            "type": "heatmap"
           }
          ],
          "heatmapgl": [
           {
            "colorbar": {
             "outlinewidth": 0,
             "ticks": ""
            },
            "colorscale": [
             [
              0,
              "#0d0887"
             ],
             [
              0.1111111111111111,
              "#46039f"
             ],
             [
              0.2222222222222222,
              "#7201a8"
             ],
             [
              0.3333333333333333,
              "#9c179e"
             ],
             [
              0.4444444444444444,
              "#bd3786"
             ],
             [
              0.5555555555555556,
              "#d8576b"
             ],
             [
              0.6666666666666666,
              "#ed7953"
             ],
             [
              0.7777777777777778,
              "#fb9f3a"
             ],
             [
              0.8888888888888888,
              "#fdca26"
             ],
             [
              1,
              "#f0f921"
             ]
            ],
            "type": "heatmapgl"
           }
          ],
          "histogram": [
           {
            "marker": {
             "pattern": {
              "fillmode": "overlay",
              "size": 10,
              "solidity": 0.2
             }
            },
            "type": "histogram"
           }
          ],
          "histogram2d": [
           {
            "colorbar": {
             "outlinewidth": 0,
             "ticks": ""
            },
            "colorscale": [
             [
              0,
              "#0d0887"
             ],
             [
              0.1111111111111111,
              "#46039f"
             ],
             [
              0.2222222222222222,
              "#7201a8"
             ],
             [
              0.3333333333333333,
              "#9c179e"
             ],
             [
              0.4444444444444444,
              "#bd3786"
             ],
             [
              0.5555555555555556,
              "#d8576b"
             ],
             [
              0.6666666666666666,
              "#ed7953"
             ],
             [
              0.7777777777777778,
              "#fb9f3a"
             ],
             [
              0.8888888888888888,
              "#fdca26"
             ],
             [
              1,
              "#f0f921"
             ]
            ],
            "type": "histogram2d"
           }
          ],
          "histogram2dcontour": [
           {
            "colorbar": {
             "outlinewidth": 0,
             "ticks": ""
            },
            "colorscale": [
             [
              0,
              "#0d0887"
             ],
             [
              0.1111111111111111,
              "#46039f"
             ],
             [
              0.2222222222222222,
              "#7201a8"
             ],
             [
              0.3333333333333333,
              "#9c179e"
             ],
             [
              0.4444444444444444,
              "#bd3786"
             ],
             [
              0.5555555555555556,
              "#d8576b"
             ],
             [
              0.6666666666666666,
              "#ed7953"
             ],
             [
              0.7777777777777778,
              "#fb9f3a"
             ],
             [
              0.8888888888888888,
              "#fdca26"
             ],
             [
              1,
              "#f0f921"
             ]
            ],
            "type": "histogram2dcontour"
           }
          ],
          "mesh3d": [
           {
            "colorbar": {
             "outlinewidth": 0,
             "ticks": ""
            },
            "type": "mesh3d"
           }
          ],
          "parcoords": [
           {
            "line": {
             "colorbar": {
              "outlinewidth": 0,
              "ticks": ""
             }
            },
            "type": "parcoords"
           }
          ],
          "pie": [
           {
            "automargin": true,
            "type": "pie"
           }
          ],
          "scatter": [
           {
            "fillpattern": {
             "fillmode": "overlay",
             "size": 10,
             "solidity": 0.2
            },
            "type": "scatter"
           }
          ],
          "scatter3d": [
           {
            "line": {
             "colorbar": {
              "outlinewidth": 0,
              "ticks": ""
             }
            },
            "marker": {
             "colorbar": {
              "outlinewidth": 0,
              "ticks": ""
             }
            },
            "type": "scatter3d"
           }
          ],
          "scattercarpet": [
           {
            "marker": {
             "colorbar": {
              "outlinewidth": 0,
              "ticks": ""
             }
            },
            "type": "scattercarpet"
           }
          ],
          "scattergeo": [
           {
            "marker": {
             "colorbar": {
              "outlinewidth": 0,
              "ticks": ""
             }
            },
            "type": "scattergeo"
           }
          ],
          "scattergl": [
           {
            "marker": {
             "colorbar": {
              "outlinewidth": 0,
              "ticks": ""
             }
            },
            "type": "scattergl"
           }
          ],
          "scattermapbox": [
           {
            "marker": {
             "colorbar": {
              "outlinewidth": 0,
              "ticks": ""
             }
            },
            "type": "scattermapbox"
           }
          ],
          "scatterpolar": [
           {
            "marker": {
             "colorbar": {
              "outlinewidth": 0,
              "ticks": ""
             }
            },
            "type": "scatterpolar"
           }
          ],
          "scatterpolargl": [
           {
            "marker": {
             "colorbar": {
              "outlinewidth": 0,
              "ticks": ""
             }
            },
            "type": "scatterpolargl"
           }
          ],
          "scatterternary": [
           {
            "marker": {
             "colorbar": {
              "outlinewidth": 0,
              "ticks": ""
             }
            },
            "type": "scatterternary"
           }
          ],
          "surface": [
           {
            "colorbar": {
             "outlinewidth": 0,
             "ticks": ""
            },
            "colorscale": [
             [
              0,
              "#0d0887"
             ],
             [
              0.1111111111111111,
              "#46039f"
             ],
             [
              0.2222222222222222,
              "#7201a8"
             ],
             [
              0.3333333333333333,
              "#9c179e"
             ],
             [
              0.4444444444444444,
              "#bd3786"
             ],
             [
              0.5555555555555556,
              "#d8576b"
             ],
             [
              0.6666666666666666,
              "#ed7953"
             ],
             [
              0.7777777777777778,
              "#fb9f3a"
             ],
             [
              0.8888888888888888,
              "#fdca26"
             ],
             [
              1,
              "#f0f921"
             ]
            ],
            "type": "surface"
           }
          ],
          "table": [
           {
            "cells": {
             "fill": {
              "color": "#EBF0F8"
             },
             "line": {
              "color": "white"
             }
            },
            "header": {
             "fill": {
              "color": "#C8D4E3"
             },
             "line": {
              "color": "white"
             }
            },
            "type": "table"
           }
          ]
         },
         "layout": {
          "annotationdefaults": {
           "arrowcolor": "#2a3f5f",
           "arrowhead": 0,
           "arrowwidth": 1
          },
          "autotypenumbers": "strict",
          "coloraxis": {
           "colorbar": {
            "outlinewidth": 0,
            "ticks": ""
           }
          },
          "colorscale": {
           "diverging": [
            [
             0,
             "#8e0152"
            ],
            [
             0.1,
             "#c51b7d"
            ],
            [
             0.2,
             "#de77ae"
            ],
            [
             0.3,
             "#f1b6da"
            ],
            [
             0.4,
             "#fde0ef"
            ],
            [
             0.5,
             "#f7f7f7"
            ],
            [
             0.6,
             "#e6f5d0"
            ],
            [
             0.7,
             "#b8e186"
            ],
            [
             0.8,
             "#7fbc41"
            ],
            [
             0.9,
             "#4d9221"
            ],
            [
             1,
             "#276419"
            ]
           ],
           "sequential": [
            [
             0,
             "#0d0887"
            ],
            [
             0.1111111111111111,
             "#46039f"
            ],
            [
             0.2222222222222222,
             "#7201a8"
            ],
            [
             0.3333333333333333,
             "#9c179e"
            ],
            [
             0.4444444444444444,
             "#bd3786"
            ],
            [
             0.5555555555555556,
             "#d8576b"
            ],
            [
             0.6666666666666666,
             "#ed7953"
            ],
            [
             0.7777777777777778,
             "#fb9f3a"
            ],
            [
             0.8888888888888888,
             "#fdca26"
            ],
            [
             1,
             "#f0f921"
            ]
           ],
           "sequentialminus": [
            [
             0,
             "#0d0887"
            ],
            [
             0.1111111111111111,
             "#46039f"
            ],
            [
             0.2222222222222222,
             "#7201a8"
            ],
            [
             0.3333333333333333,
             "#9c179e"
            ],
            [
             0.4444444444444444,
             "#bd3786"
            ],
            [
             0.5555555555555556,
             "#d8576b"
            ],
            [
             0.6666666666666666,
             "#ed7953"
            ],
            [
             0.7777777777777778,
             "#fb9f3a"
            ],
            [
             0.8888888888888888,
             "#fdca26"
            ],
            [
             1,
             "#f0f921"
            ]
           ]
          },
          "colorway": [
           "#636efa",
           "#EF553B",
           "#00cc96",
           "#ab63fa",
           "#FFA15A",
           "#19d3f3",
           "#FF6692",
           "#B6E880",
           "#FF97FF",
           "#FECB52"
          ],
          "font": {
           "color": "#2a3f5f"
          },
          "geo": {
           "bgcolor": "white",
           "lakecolor": "white",
           "landcolor": "#E5ECF6",
           "showlakes": true,
           "showland": true,
           "subunitcolor": "white"
          },
          "hoverlabel": {
           "align": "left"
          },
          "hovermode": "closest",
          "mapbox": {
           "style": "light"
          },
          "paper_bgcolor": "white",
          "plot_bgcolor": "#E5ECF6",
          "polar": {
           "angularaxis": {
            "gridcolor": "white",
            "linecolor": "white",
            "ticks": ""
           },
           "bgcolor": "#E5ECF6",
           "radialaxis": {
            "gridcolor": "white",
            "linecolor": "white",
            "ticks": ""
           }
          },
          "scene": {
           "xaxis": {
            "backgroundcolor": "#E5ECF6",
            "gridcolor": "white",
            "gridwidth": 2,
            "linecolor": "white",
            "showbackground": true,
            "ticks": "",
            "zerolinecolor": "white"
           },
           "yaxis": {
            "backgroundcolor": "#E5ECF6",
            "gridcolor": "white",
            "gridwidth": 2,
            "linecolor": "white",
            "showbackground": true,
            "ticks": "",
            "zerolinecolor": "white"
           },
           "zaxis": {
            "backgroundcolor": "#E5ECF6",
            "gridcolor": "white",
            "gridwidth": 2,
            "linecolor": "white",
            "showbackground": true,
            "ticks": "",
            "zerolinecolor": "white"
           }
          },
          "shapedefaults": {
           "line": {
            "color": "#2a3f5f"
           }
          },
          "ternary": {
           "aaxis": {
            "gridcolor": "white",
            "linecolor": "white",
            "ticks": ""
           },
           "baxis": {
            "gridcolor": "white",
            "linecolor": "white",
            "ticks": ""
           },
           "bgcolor": "#E5ECF6",
           "caxis": {
            "gridcolor": "white",
            "linecolor": "white",
            "ticks": ""
           }
          },
          "title": {
           "x": 0.05
          },
          "xaxis": {
           "automargin": true,
           "gridcolor": "white",
           "linecolor": "white",
           "ticks": "",
           "title": {
            "standoff": 15
           },
           "zerolinecolor": "white",
           "zerolinewidth": 2
          },
          "yaxis": {
           "automargin": true,
           "gridcolor": "white",
           "linecolor": "white",
           "ticks": "",
           "title": {
            "standoff": 15
           },
           "zerolinecolor": "white",
           "zerolinewidth": 2
          }
         }
        },
        "xaxis": {
         "anchor": "y",
         "domain": [
          0,
          1
         ],
         "title": {
          "text": "JobTitle"
         }
        },
        "yaxis": {
         "anchor": "x",
         "domain": [
          0,
          1
         ],
         "title": {
          "text": "BasePay"
         }
        }
       }
      }
     },
     "metadata": {},
     "output_type": "display_data"
    }
   ],
   "source": [
    "px.box(df,x=\"JobTitle\", y = \"BasePay\", color='Gender', color_discrete_sequence=['Yellow','Orange'])"
   ]
  },
  {
   "cell_type": "markdown",
   "metadata": {},
   "source": [
    "With the help of this fig. we can see the max, median , min, q1 and q2 values of all the fields of JobTitle."
   ]
  },
  {
   "cell_type": "code",
   "execution_count": 22,
   "metadata": {},
   "outputs": [
    {
     "data": {
      "image/png": "[encoded data removed]",
      "text/plain": [
       "<Figure size 1440x720 with 1 Axes>"
      ]
     },
     "metadata": {},
     "output_type": "display_data"
    }
   ],
   "source": [
    "plt.figure(figsize=(20,10),facecolor='Pink')\n",
    "sns.boxplot(x=\"JobTitle\", y = \"BasePay\", data=df, hue='Gender')\n",
    "plt.xlabel('Job Title',fontsize=25,fontname=\"Brush Script MT\")\n",
    "plt.ylabel('basePay',fontsize=25, fontname=\"Brush Script MT\")\n",
    "plt.xticks(rotation=75)\n",
    "plt.show()\n"
   ]
  },
  {
   "cell_type": "code",
   "execution_count": 23,
   "metadata": {},
   "outputs": [],
   "source": [
    "c1 = df['BasePay'] <= 40000 \n",
    "c2 = df['Seniority'] >= 2\n",
    "df4 = df[c1 & c2]  "
   ]
  },
  {
   "cell_type": "code",
   "execution_count": 24,
   "metadata": {},
   "outputs": [
    {
     "data": {
      "text/html": [
       "<div>\n",
       "<style scoped>\n",
       "    .dataframe tbody tr th:only-of-type {\n",
       "        vertical-align: middle;\n",
       "    }\n",
       "\n",
       "    .dataframe tbody tr th {\n",
       "        vertical-align: top;\n",
       "    }\n",
       "\n",
       "    .dataframe thead th {\n",
       "        text-align: right;\n",
       "    }\n",
       "</style>\n",
       "<table border=\"1\" class=\"dataframe\">\n",
       "  <thead>\n",
       "    <tr style=\"text-align: right;\">\n",
       "      <th></th>\n",
       "      <th>JobTitle</th>\n",
       "      <th>Gender</th>\n",
       "      <th>Age</th>\n",
       "      <th>PerfEval</th>\n",
       "      <th>Education</th>\n",
       "      <th>Dept</th>\n",
       "      <th>Seniority</th>\n",
       "      <th>BasePay</th>\n",
       "      <th>Bonus</th>\n",
       "    </tr>\n",
       "  </thead>\n",
       "  <tbody>\n",
       "    <tr>\n",
       "      <th>465</th>\n",
       "      <td>Marketing Associate</td>\n",
       "      <td>Female</td>\n",
       "      <td>18</td>\n",
       "      <td>3</td>\n",
       "      <td>High School</td>\n",
       "      <td>Engineering</td>\n",
       "      <td>2</td>\n",
       "      <td>34208</td>\n",
       "      <td>6620</td>\n",
       "    </tr>\n",
       "    <tr>\n",
       "      <th>590</th>\n",
       "      <td>Marketing Associate</td>\n",
       "      <td>Female</td>\n",
       "      <td>41</td>\n",
       "      <td>3</td>\n",
       "      <td>High School</td>\n",
       "      <td>Administration</td>\n",
       "      <td>2</td>\n",
       "      <td>36972</td>\n",
       "      <td>7058</td>\n",
       "    </tr>\n",
       "    <tr>\n",
       "      <th>784</th>\n",
       "      <td>Marketing Associate</td>\n",
       "      <td>Female</td>\n",
       "      <td>20</td>\n",
       "      <td>2</td>\n",
       "      <td>College</td>\n",
       "      <td>Administration</td>\n",
       "      <td>2</td>\n",
       "      <td>38613</td>\n",
       "      <td>6079</td>\n",
       "    </tr>\n",
       "    <tr>\n",
       "      <th>842</th>\n",
       "      <td>Marketing Associate</td>\n",
       "      <td>Female</td>\n",
       "      <td>34</td>\n",
       "      <td>1</td>\n",
       "      <td>College</td>\n",
       "      <td>Engineering</td>\n",
       "      <td>2</td>\n",
       "      <td>38855</td>\n",
       "      <td>4503</td>\n",
       "    </tr>\n",
       "    <tr>\n",
       "      <th>949</th>\n",
       "      <td>Graphic Designer</td>\n",
       "      <td>Male</td>\n",
       "      <td>30</td>\n",
       "      <td>1</td>\n",
       "      <td>College</td>\n",
       "      <td>Operations</td>\n",
       "      <td>2</td>\n",
       "      <td>36642</td>\n",
       "      <td>4388</td>\n",
       "    </tr>\n",
       "  </tbody>\n",
       "</table>\n",
       "</div>"
      ],
      "text/plain": [
       "                JobTitle  Gender  Age  PerfEval    Education            Dept  \\\n",
       "465  Marketing Associate  Female   18         3  High School     Engineering   \n",
       "590  Marketing Associate  Female   41         3  High School  Administration   \n",
       "784  Marketing Associate  Female   20         2      College  Administration   \n",
       "842  Marketing Associate  Female   34         1      College     Engineering   \n",
       "949     Graphic Designer    Male   30         1      College      Operations   \n",
       "\n",
       "     Seniority  BasePay  Bonus  \n",
       "465          2    34208   6620  \n",
       "590          2    36972   7058  \n",
       "784          2    38613   6079  \n",
       "842          2    38855   4503  \n",
       "949          2    36642   4388  "
      ]
     },
     "execution_count": 24,
     "metadata": {},
     "output_type": "execute_result"
    }
   ],
   "source": [
    "df4"
   ]
  },
  {
   "cell_type": "code",
   "execution_count": 25,
   "metadata": {},
   "outputs": [
    {
     "data": {
      "application/vnd.plotly.v1+json": {
       "config": {
        "plotlyServerURL": "https://plot.ly"
       },
       "data": [
        {
         "alignmentgroup": "True",
         "bingroup": "x",
         "histfunc": "sum",
         "hovertemplate": "Gender=Female<br>JobTitle=%{x}<br>sum of BasePay=%{y}<extra></extra>",
         "legendgroup": "Female",
         "marker": {
          "color": "LightGreen",
          "pattern": {
           "shape": ""
          }
         },
         "name": "Female",
         "offsetgroup": "Female",
         "orientation": "v",
         "showlegend": true,
         "type": "histogram",
         "x": [
          "Marketing Associate",
          "Marketing Associate",
          "Marketing Associate",
          "Marketing Associate"
         ],
         "xaxis": "x",
         "y": [
          34208,
          36972,
          38613,
          38855
         ],
         "yaxis": "y"
        },
        {
         "alignmentgroup": "True",
         "bingroup": "x",
         "histfunc": "sum",
         "hovertemplate": "Gender=Male<br>JobTitle=%{x}<br>sum of BasePay=%{y}<extra></extra>",
         "legendgroup": "Male",
         "marker": {
          "color": "Pink",
          "pattern": {
           "shape": ""
          }
         },
         "name": "Male",
         "offsetgroup": "Male",
         "orientation": "v",
         "showlegend": true,
         "type": "histogram",
         "x": [
          "Graphic Designer"
         ],
         "xaxis": "x",
         "y": [
          36642
         ],
         "yaxis": "y"
        }
       ],
       "layout": {
        "barmode": "relative",
        "height": 500,
        "legend": {
         "title": {
          "text": "Gender"
         },
         "tracegroupgap": 0
        },
        "margin": {
         "t": 60
        },
        "template": {
         "data": {
          "bar": [
           {
            "error_x": {
             "color": "#2a3f5f"
            },
            "error_y": {
             "color": "#2a3f5f"
            },
            "marker": {
             "line": {
              "color": "#E5ECF6",
              "width": 0.5
             },
             "pattern": {
              "fillmode": "overlay",
              "size": 10,
              "solidity": 0.2
             }
            },
            "type": "bar"
           }
          ],
          "barpolar": [
           {
            "marker": {
             "line": {
              "color": "#E5ECF6",
              "width": 0.5
             },
             "pattern": {
              "fillmode": "overlay",
              "size": 10,
              "solidity": 0.2
             }
            },
            "type": "barpolar"
           }
          ],
          "carpet": [
           {
            "aaxis": {
             "endlinecolor": "#2a3f5f",
             "gridcolor": "white",
             "linecolor": "white",
             "minorgridcolor": "white",
             "startlinecolor": "#2a3f5f"
            },
            "baxis": {
             "endlinecolor": "#2a3f5f",
             "gridcolor": "white",
             "linecolor": "white",
             "minorgridcolor": "white",
             "startlinecolor": "#2a3f5f"
            },
            "type": "carpet"
           }
          ],
          "choropleth": [
           {
            "colorbar": {
             "outlinewidth": 0,
             "ticks": ""
            },
            "type": "choropleth"
           }
          ],
          "contour": [
           {
            "colorbar": {
             "outlinewidth": 0,
             "ticks": ""
            },
            "colorscale": [
             [
              0,
              "#0d0887"
             ],
             [
              0.1111111111111111,
              "#46039f"
             ],
             [
              0.2222222222222222,
              "#7201a8"
             ],
             [
              0.3333333333333333,
              "#9c179e"
             ],
             [
              0.4444444444444444,
              "#bd3786"
             ],
             [
              0.5555555555555556,
              "#d8576b"
             ],
             [
              0.6666666666666666,
              "#ed7953"
             ],
             [
              0.7777777777777778,
              "#fb9f3a"
             ],
             [
              0.8888888888888888,
              "#fdca26"
             ],
             [
              1,
              "#f0f921"
             ]
            ],
            "type": "contour"
           }
          ],
          "contourcarpet": [
           {
            "colorbar": {
             "outlinewidth": 0,
             "ticks": ""
            },
            "type": "contourcarpet"
           }
          ],
          "heatmap": [
           {
            "colorbar": {
             "outlinewidth": 0,
             "ticks": ""
            },
            "colorscale": [
             [
              0,
              "#0d0887"
             ],
             [
              0.1111111111111111,
              "#46039f"
             ],
             [
              0.2222222222222222,
              "#7201a8"
             ],
             [
              0.3333333333333333,
              "#9c179e"
             ],
             [
              0.4444444444444444,
              "#bd3786"
             ],
             [
              0.5555555555555556,
              "#d8576b"
             ],
             [
              0.6666666666666666,
              "#ed7953"
             ],
             [
              0.7777777777777778,
              "#fb9f3a"
             ],
             [
              0.8888888888888888,
              "#fdca26"
             ],
             [
              1,
              "#f0f921"
             ]
            ],
            "type": "heatmap"
           }
          ],
          "heatmapgl": [
           {
            "colorbar": {
             "outlinewidth": 0,
             "ticks": ""
            },
            "colorscale": [
             [
              0,
              "#0d0887"
             ],
             [
              0.1111111111111111,
              "#46039f"
             ],
             [
              0.2222222222222222,
              "#7201a8"
             ],
             [
              0.3333333333333333,
              "#9c179e"
             ],
             [
              0.4444444444444444,
              "#bd3786"
             ],
             [
              0.5555555555555556,
              "#d8576b"
             ],
             [
              0.6666666666666666,
              "#ed7953"
             ],
             [
              0.7777777777777778,
              "#fb9f3a"
             ],
             [
              0.8888888888888888,
              "#fdca26"
             ],
             [
              1,
              "#f0f921"
             ]
            ],
            "type": "heatmapgl"
           }
          ],
          "histogram": [
           {
            "marker": {
             "pattern": {
              "fillmode": "overlay",
              "size": 10,
              "solidity": 0.2
             }
            },
            "type": "histogram"
           }
          ],
          "histogram2d": [
           {
            "colorbar": {
             "outlinewidth": 0,
             "ticks": ""
            },
            "colorscale": [
             [
              0,
              "#0d0887"
             ],
             [
              0.1111111111111111,
              "#46039f"
             ],
             [
              0.2222222222222222,
              "#7201a8"
             ],
             [
              0.3333333333333333,
              "#9c179e"
             ],
             [
              0.4444444444444444,
              "#bd3786"
             ],
             [
              0.5555555555555556,
              "#d8576b"
             ],
             [
              0.6666666666666666,
              "#ed7953"
             ],
             [
              0.7777777777777778,
              "#fb9f3a"
             ],
             [
              0.8888888888888888,
              "#fdca26"
             ],
             [
              1,
              "#f0f921"
             ]
            ],
            "type": "histogram2d"
           }
          ],
          "histogram2dcontour": [
           {
            "colorbar": {
             "outlinewidth": 0,
             "ticks": ""
            },
            "colorscale": [
             [
              0,
              "#0d0887"
             ],
             [
              0.1111111111111111,
              "#46039f"
             ],
             [
              0.2222222222222222,
              "#7201a8"
             ],
             [
              0.3333333333333333,
              "#9c179e"
             ],
             [
              0.4444444444444444,
              "#bd3786"
             ],
             [
              0.5555555555555556,
              "#d8576b"
             ],
             [
              0.6666666666666666,
              "#ed7953"
             ],
             [
              0.7777777777777778,
              "#fb9f3a"
             ],
             [
              0.8888888888888888,
              "#fdca26"
             ],
             [
              1,
              "#f0f921"
             ]
            ],
            "type": "histogram2dcontour"
           }
          ],
          "mesh3d": [
           {
            "colorbar": {
             "outlinewidth": 0,
             "ticks": ""
            },
            "type": "mesh3d"
           }
          ],
          "parcoords": [
           {
            "line": {
             "colorbar": {
              "outlinewidth": 0,
              "ticks": ""
             }
            },
            "type": "parcoords"
           }
          ],
          "pie": [
           {
            "automargin": true,
            "type": "pie"
           }
          ],
          "scatter": [
           {
            "fillpattern": {
             "fillmode": "overlay",
             "size": 10,
             "solidity": 0.2
            },
            "type": "scatter"
           }
          ],
          "scatter3d": [
           {
            "line": {
             "colorbar": {
              "outlinewidth": 0,
              "ticks": ""
             }
            },
            "marker": {
             "colorbar": {
              "outlinewidth": 0,
              "ticks": ""
             }
            },
            "type": "scatter3d"
           }
          ],
          "scattercarpet": [
           {
            "marker": {
             "colorbar": {
              "outlinewidth": 0,
              "ticks": ""
             }
            },
            "type": "scattercarpet"
           }
          ],
          "scattergeo": [
           {
            "marker": {
             "colorbar": {
              "outlinewidth": 0,
              "ticks": ""
             }
            },
            "type": "scattergeo"
           }
          ],
          "scattergl": [
           {
            "marker": {
             "colorbar": {
              "outlinewidth": 0,
              "ticks": ""
             }
            },
            "type": "scattergl"
           }
          ],
          "scattermapbox": [
           {
            "marker": {
             "colorbar": {
              "outlinewidth": 0,
              "ticks": ""
             }
            },
            "type": "scattermapbox"
           }
          ],
          "scatterpolar": [
           {
            "marker": {
             "colorbar": {
              "outlinewidth": 0,
              "ticks": ""
             }
            },
            "type": "scatterpolar"
           }
          ],
          "scatterpolargl": [
           {
            "marker": {
             "colorbar": {
              "outlinewidth": 0,
              "ticks": ""
             }
            },
            "type": "scatterpolargl"
           }
          ],
          "scatterternary": [
           {
            "marker": {
             "colorbar": {
              "outlinewidth": 0,
              "ticks": ""
             }
            },
            "type": "scatterternary"
           }
          ],
          "surface": [
           {
            "colorbar": {
             "outlinewidth": 0,
             "ticks": ""
            },
            "colorscale": [
             [
              0,
              "#0d0887"
             ],
             [
              0.1111111111111111,
              "#46039f"
             ],
             [
              0.2222222222222222,
              "#7201a8"
             ],
             [
              0.3333333333333333,
              "#9c179e"
             ],
             [
              0.4444444444444444,
              "#bd3786"
             ],
             [
              0.5555555555555556,
              "#d8576b"
             ],
             [
              0.6666666666666666,
              "#ed7953"
             ],
             [
              0.7777777777777778,
              "#fb9f3a"
             ],
             [
              0.8888888888888888,
              "#fdca26"
             ],
             [
              1,
              "#f0f921"
             ]
            ],
            "type": "surface"
           }
          ],
          "table": [
           {
            "cells": {
             "fill": {
              "color": "#EBF0F8"
             },
             "line": {
              "color": "white"
             }
            },
            "header": {
             "fill": {
              "color": "#C8D4E3"
             },
             "line": {
              "color": "white"
             }
            },
            "type": "table"
           }
          ]
         },
         "layout": {
          "annotationdefaults": {
           "arrowcolor": "#2a3f5f",
           "arrowhead": 0,
           "arrowwidth": 1
          },
          "autotypenumbers": "strict",
          "coloraxis": {
           "colorbar": {
            "outlinewidth": 0,
            "ticks": ""
           }
          },
          "colorscale": {
           "diverging": [
            [
             0,
             "#8e0152"
            ],
            [
             0.1,
             "#c51b7d"
            ],
            [
             0.2,
             "#de77ae"
            ],
            [
             0.3,
             "#f1b6da"
            ],
            [
             0.4,
             "#fde0ef"
            ],
            [
             0.5,
             "#f7f7f7"
            ],
            [
             0.6,
             "#e6f5d0"
            ],
            [
             0.7,
             "#b8e186"
            ],
            [
             0.8,
             "#7fbc41"
            ],
            [
             0.9,
             "#4d9221"
            ],
            [
             1,
             "#276419"
            ]
           ],
           "sequential": [
            [
             0,
             "#0d0887"
            ],
            [
             0.1111111111111111,
             "#46039f"
            ],
            [
             0.2222222222222222,
             "#7201a8"
            ],
            [
             0.3333333333333333,
             "#9c179e"
            ],
            [
             0.4444444444444444,
             "#bd3786"
            ],
            [
             0.5555555555555556,
             "#d8576b"
            ],
            [
             0.6666666666666666,
             "#ed7953"
            ],
            [
             0.7777777777777778,
             "#fb9f3a"
            ],
            [
             0.8888888888888888,
             "#fdca26"
            ],
            [
             1,
             "#f0f921"
            ]
           ],
           "sequentialminus": [
            [
             0,
             "#0d0887"
            ],
            [
             0.1111111111111111,
             "#46039f"
            ],
            [
             0.2222222222222222,
             "#7201a8"
            ],
            [
             0.3333333333333333,
             "#9c179e"
            ],
            [
             0.4444444444444444,
             "#bd3786"
            ],
            [
             0.5555555555555556,
             "#d8576b"
            ],
            [
             0.6666666666666666,
             "#ed7953"
            ],
            [
             0.7777777777777778,
             "#fb9f3a"
            ],
            [
             0.8888888888888888,
             "#fdca26"
            ],
            [
             1,
             "#f0f921"
            ]
           ]
          },
          "colorway": [
           "#636efa",
           "#EF553B",
           "#00cc96",
           "#ab63fa",
           "#FFA15A",
           "#19d3f3",
           "#FF6692",
           "#B6E880",
           "#FF97FF",
           "#FECB52"
          ],
          "font": {
           "color": "#2a3f5f"
          },
          "geo": {
           "bgcolor": "white",
           "lakecolor": "white",
           "landcolor": "#E5ECF6",
           "showlakes": true,
           "showland": true,
           "subunitcolor": "white"
          },
          "hoverlabel": {
           "align": "left"
          },
          "hovermode": "closest",
          "mapbox": {
           "style": "light"
          },
          "paper_bgcolor": "white",
          "plot_bgcolor": "#E5ECF6",
          "polar": {
           "angularaxis": {
            "gridcolor": "white",
            "linecolor": "white",
            "ticks": ""
           },
           "bgcolor": "#E5ECF6",
           "radialaxis": {
            "gridcolor": "white",
            "linecolor": "white",
            "ticks": ""
           }
          },
          "scene": {
           "xaxis": {
            "backgroundcolor": "#E5ECF6",
            "gridcolor": "white",
            "gridwidth": 2,
            "linecolor": "white",
            "showbackground": true,
            "ticks": "",
            "zerolinecolor": "white"
           },
           "yaxis": {
            "backgroundcolor": "#E5ECF6",
            "gridcolor": "white",
            "gridwidth": 2,
            "linecolor": "white",
            "showbackground": true,
            "ticks": "",
            "zerolinecolor": "white"
           },
           "zaxis": {
            "backgroundcolor": "#E5ECF6",
            "gridcolor": "white",
            "gridwidth": 2,
            "linecolor": "white",
            "showbackground": true,
            "ticks": "",
            "zerolinecolor": "white"
           }
          },
          "shapedefaults": {
           "line": {
            "color": "#2a3f5f"
           }
          },
          "ternary": {
           "aaxis": {
            "gridcolor": "white",
            "linecolor": "white",
            "ticks": ""
           },
           "baxis": {
            "gridcolor": "white",
            "linecolor": "white",
            "ticks": ""
           },
           "bgcolor": "#E5ECF6",
           "caxis": {
            "gridcolor": "white",
            "linecolor": "white",
            "ticks": ""
           }
          },
          "title": {
           "x": 0.05
          },
          "xaxis": {
           "automargin": true,
           "gridcolor": "white",
           "linecolor": "white",
           "ticks": "",
           "title": {
            "standoff": 15
           },
           "zerolinecolor": "white",
           "zerolinewidth": 2
          },
          "yaxis": {
           "automargin": true,
           "gridcolor": "white",
           "linecolor": "white",
           "ticks": "",
           "title": {
            "standoff": 15
           },
           "zerolinecolor": "white",
           "zerolinewidth": 2
          }
         }
        },
        "width": 1000,
        "xaxis": {
         "anchor": "y",
         "domain": [
          0,
          1
         ],
         "title": {
          "text": "JobTitle"
         }
        },
        "yaxis": {
         "anchor": "x",
         "domain": [
          0,
          1
         ],
         "title": {
          "text": "sum of BasePay"
         }
        }
       }
      }
     },
     "metadata": {},
     "output_type": "display_data"
    }
   ],
   "source": [
    "px.histogram(df4,x=\"JobTitle\", y = \"BasePay\", color='Gender', color_discrete_sequence=['LightGreen','Pink'], height=500, width=1000)\n"
   ]
  },
  {
   "cell_type": "markdown",
   "metadata": {},
   "source": [
    "Here in this graph we can see the condition, which i applied in df4. With the help of this graph we get only those who have base pay <=40000 and Seniority is greater than 2 yrs."
   ]
  },
  {
   "cell_type": "code",
   "execution_count": 26,
   "metadata": {},
   "outputs": [
    {
     "data": {
      "image/png": "[encoded data removed]",
      "text/plain": [
       "<Figure size 1440x720 with 1 Axes>"
      ]
     },
     "metadata": {},
     "output_type": "display_data"
    }
   ],
   "source": [
    "plt.figure(figsize=(20,10))\n",
    "sns.barplot(x=\"JobTitle\", y = \"Bonus\", data=df, hue='Gender', alpha=.8)# ask how to add more value in x axis,ask abt use of alpha\n",
    "plt.xticks(rotation=90)\n",
    "plt.xlabel('Exp in years')\n",
    "plt.show()"
   ]
  },
  {
   "cell_type": "code",
   "execution_count": 27,
   "metadata": {},
   "outputs": [
    {
     "data": {
      "image/png": "[encoded data removed]",
      "text/plain": [
       "<Figure size 432x288 with 1 Axes>"
      ]
     },
     "metadata": {},
     "output_type": "display_data"
    }
   ],
   "source": [
    "sns.barplot(x=\"Education\", y=\"BasePay\", data=df)\n",
    "plt.show()"
   ]
  },
  {
   "cell_type": "markdown",
   "metadata": {},
   "source": [
    "with the help of this figure we can see the base salary with the resoect of degree"
   ]
  },
  {
   "cell_type": "code",
   "execution_count": 28,
   "metadata": {},
   "outputs": [
    {
     "data": {
      "image/png": "[encoded data removed]",
      "text/plain": [
       "<Figure size 432x288 with 1 Axes>"
      ]
     },
     "metadata": {},
     "output_type": "display_data"
    }
   ],
   "source": [
    "sns.barplot(x=\"JobTitle\", y=\"Bonus\", data=df2, hue=\"Gender\")\n",
    "plt.xticks(rotation=90)\n",
    "plt.show()"
   ]
  },
  {
   "cell_type": "markdown",
   "metadata": {},
   "source": [
    "In this graph we get some specific field with respect of Bonus."
   ]
  },
  {
   "cell_type": "code",
   "execution_count": 29,
   "metadata": {},
   "outputs": [
    {
     "data": {
      "text/html": [
       "<div>\n",
       "<style scoped>\n",
       "    .dataframe tbody tr th:only-of-type {\n",
       "        vertical-align: middle;\n",
       "    }\n",
       "\n",
       "    .dataframe tbody tr th {\n",
       "        vertical-align: top;\n",
       "    }\n",
       "\n",
       "    .dataframe thead th {\n",
       "        text-align: right;\n",
       "    }\n",
       "</style>\n",
       "<table border=\"1\" class=\"dataframe\">\n",
       "  <thead>\n",
       "    <tr style=\"text-align: right;\">\n",
       "      <th></th>\n",
       "      <th>JobTitle</th>\n",
       "      <th>Gender</th>\n",
       "      <th>Age</th>\n",
       "      <th>PerfEval</th>\n",
       "      <th>Education</th>\n",
       "      <th>Dept</th>\n",
       "      <th>Seniority</th>\n",
       "      <th>BasePay</th>\n",
       "      <th>Bonus</th>\n",
       "    </tr>\n",
       "  </thead>\n",
       "  <tbody>\n",
       "    <tr>\n",
       "      <th>0</th>\n",
       "      <td>Graphic Designer</td>\n",
       "      <td>Female</td>\n",
       "      <td>18</td>\n",
       "      <td>5</td>\n",
       "      <td>College</td>\n",
       "      <td>Operations</td>\n",
       "      <td>2</td>\n",
       "      <td>42363</td>\n",
       "      <td>9938</td>\n",
       "    </tr>\n",
       "    <tr>\n",
       "      <th>1</th>\n",
       "      <td>Software Engineer</td>\n",
       "      <td>Male</td>\n",
       "      <td>21</td>\n",
       "      <td>5</td>\n",
       "      <td>College</td>\n",
       "      <td>Management</td>\n",
       "      <td>5</td>\n",
       "      <td>108476</td>\n",
       "      <td>11128</td>\n",
       "    </tr>\n",
       "    <tr>\n",
       "      <th>2</th>\n",
       "      <td>Warehouse Associate</td>\n",
       "      <td>Female</td>\n",
       "      <td>19</td>\n",
       "      <td>4</td>\n",
       "      <td>PhD</td>\n",
       "      <td>Administration</td>\n",
       "      <td>5</td>\n",
       "      <td>90208</td>\n",
       "      <td>9268</td>\n",
       "    </tr>\n",
       "    <tr>\n",
       "      <th>3</th>\n",
       "      <td>Software Engineer</td>\n",
       "      <td>Male</td>\n",
       "      <td>20</td>\n",
       "      <td>5</td>\n",
       "      <td>Masters</td>\n",
       "      <td>Sales</td>\n",
       "      <td>4</td>\n",
       "      <td>108080</td>\n",
       "      <td>10154</td>\n",
       "    </tr>\n",
       "    <tr>\n",
       "      <th>4</th>\n",
       "      <td>Graphic Designer</td>\n",
       "      <td>Male</td>\n",
       "      <td>26</td>\n",
       "      <td>5</td>\n",
       "      <td>Masters</td>\n",
       "      <td>Engineering</td>\n",
       "      <td>5</td>\n",
       "      <td>99464</td>\n",
       "      <td>9319</td>\n",
       "    </tr>\n",
       "    <tr>\n",
       "      <th>...</th>\n",
       "      <td>...</td>\n",
       "      <td>...</td>\n",
       "      <td>...</td>\n",
       "      <td>...</td>\n",
       "      <td>...</td>\n",
       "      <td>...</td>\n",
       "      <td>...</td>\n",
       "      <td>...</td>\n",
       "      <td>...</td>\n",
       "    </tr>\n",
       "    <tr>\n",
       "      <th>995</th>\n",
       "      <td>Marketing Associate</td>\n",
       "      <td>Female</td>\n",
       "      <td>61</td>\n",
       "      <td>1</td>\n",
       "      <td>High School</td>\n",
       "      <td>Administration</td>\n",
       "      <td>1</td>\n",
       "      <td>62644</td>\n",
       "      <td>3270</td>\n",
       "    </tr>\n",
       "    <tr>\n",
       "      <th>996</th>\n",
       "      <td>Data Scientist</td>\n",
       "      <td>Male</td>\n",
       "      <td>57</td>\n",
       "      <td>1</td>\n",
       "      <td>Masters</td>\n",
       "      <td>Sales</td>\n",
       "      <td>2</td>\n",
       "      <td>108977</td>\n",
       "      <td>3567</td>\n",
       "    </tr>\n",
       "    <tr>\n",
       "      <th>997</th>\n",
       "      <td>Financial Analyst</td>\n",
       "      <td>Male</td>\n",
       "      <td>48</td>\n",
       "      <td>1</td>\n",
       "      <td>High School</td>\n",
       "      <td>Operations</td>\n",
       "      <td>1</td>\n",
       "      <td>92347</td>\n",
       "      <td>2724</td>\n",
       "    </tr>\n",
       "    <tr>\n",
       "      <th>998</th>\n",
       "      <td>Financial Analyst</td>\n",
       "      <td>Male</td>\n",
       "      <td>65</td>\n",
       "      <td>2</td>\n",
       "      <td>High School</td>\n",
       "      <td>Administration</td>\n",
       "      <td>1</td>\n",
       "      <td>97376</td>\n",
       "      <td>2225</td>\n",
       "    </tr>\n",
       "    <tr>\n",
       "      <th>999</th>\n",
       "      <td>Financial Analyst</td>\n",
       "      <td>Male</td>\n",
       "      <td>60</td>\n",
       "      <td>1</td>\n",
       "      <td>PhD</td>\n",
       "      <td>Sales</td>\n",
       "      <td>2</td>\n",
       "      <td>123108</td>\n",
       "      <td>2244</td>\n",
       "    </tr>\n",
       "  </tbody>\n",
       "</table>\n",
       "<p>1000 rows × 9 columns</p>\n",
       "</div>"
      ],
      "text/plain": [
       "                JobTitle  Gender  Age  PerfEval    Education            Dept  \\\n",
       "0       Graphic Designer  Female   18         5      College      Operations   \n",
       "1      Software Engineer    Male   21         5      College      Management   \n",
       "2    Warehouse Associate  Female   19         4          PhD  Administration   \n",
       "3      Software Engineer    Male   20         5      Masters           Sales   \n",
       "4       Graphic Designer    Male   26         5      Masters     Engineering   \n",
       "..                   ...     ...  ...       ...          ...             ...   \n",
       "995  Marketing Associate  Female   61         1  High School  Administration   \n",
       "996       Data Scientist    Male   57         1      Masters           Sales   \n",
       "997    Financial Analyst    Male   48         1  High School      Operations   \n",
       "998    Financial Analyst    Male   65         2  High School  Administration   \n",
       "999    Financial Analyst    Male   60         1          PhD           Sales   \n",
       "\n",
       "     Seniority  BasePay  Bonus  \n",
       "0            2    42363   9938  \n",
       "1            5   108476  11128  \n",
       "2            5    90208   9268  \n",
       "3            4   108080  10154  \n",
       "4            5    99464   9319  \n",
       "..         ...      ...    ...  \n",
       "995          1    62644   3270  \n",
       "996          2   108977   3567  \n",
       "997          1    92347   2724  \n",
       "998          1    97376   2225  \n",
       "999          2   123108   2244  \n",
       "\n",
       "[1000 rows x 9 columns]"
      ]
     },
     "execution_count": 29,
     "metadata": {},
     "output_type": "execute_result"
    }
   ],
   "source": [
    "df"
   ]
  },
  {
   "cell_type": "code",
   "execution_count": 30,
   "metadata": {},
   "outputs": [
    {
     "data": {
      "text/plain": [
       "<AxesSubplot:xlabel='JobTitle'>"
      ]
     },
     "execution_count": 30,
     "metadata": {},
     "output_type": "execute_result"
    },
    {
     "data": {
      "image/png": "[encoded data removed]",
      "text/plain": [
       "<Figure size 432x288 with 1 Axes>"
      ]
     },
     "metadata": {},
     "output_type": "display_data"
    }
   ],
   "source": [
    "df.sort_values(by='BasePay',inplace=True,ascending=False)\n",
    "df[:10].plot(kind='bar',y='BasePay',x='JobTitle')"
   ]
  },
  {
   "cell_type": "code",
   "execution_count": null,
   "metadata": {},
   "outputs": [],
   "source": []
  }
 ],
 "metadata": {
  "kernelspec": {
   "display_name": "Python 3.9.7 ('base')",
   "language": "python",
   "name": "python3"
  },
  "language_info": {
   "codemirror_mode": {
    "name": "ipython",
    "version": 3
   },
   "file_extension": ".py",
   "mimetype": "text/x-python",
   "name": "python",
   "nbconvert_exporter": "python",
   "pygments_lexer": "ipython3",
   "version": "3.9.7"
  },
  "orig_nbformat": 4,
  "vscode": {
   "interpreter": {
    "hash": "10a06628a7c03afd3662681998d3c2bdc7c28b47c4cd69668980007d21c044b0"
   }
  }
 },
 "nbformat": 4,
 "nbformat_minor": 2
}
